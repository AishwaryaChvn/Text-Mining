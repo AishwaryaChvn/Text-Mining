{
 "cells": [
  {
   "cell_type": "markdown",
   "id": "8303f1c8",
   "metadata": {},
   "source": [
    "For Text Mining assignment\n",
    " \n",
    "1) Extract reviews of any product from ecommerce website like amazon\n",
    "2) Perform emotion mining\n",
    "\n",
    "Dataset- Musical_instruments_reviews.csv  (Source- Amazon Musical Instruments Reviews(Kaggle))"
   ]
  },
  {
   "cell_type": "code",
   "execution_count": 57,
   "id": "127d33f3",
   "metadata": {
    "ExecuteTime": {
     "end_time": "2021-10-21T11:26:50.186315Z",
     "start_time": "2021-10-21T11:26:50.180329Z"
    }
   },
   "outputs": [],
   "source": [
    "# import libraries\n",
    "import pandas as pd\n",
    "import numpy as np\n",
    "import matplotlib.pyplot as plt\n",
    "import string\n",
    "import spacy\n",
    "from matplotlib.pyplot import imread\n",
    "from wordcloud import WordCloud\n",
    "%matplotlib inline"
   ]
  },
  {
   "cell_type": "code",
   "execution_count": 58,
   "id": "e43da444",
   "metadata": {
    "ExecuteTime": {
     "end_time": "2021-10-21T11:26:50.402734Z",
     "start_time": "2021-10-21T11:26:50.187311Z"
    }
   },
   "outputs": [],
   "source": [
    "# load the dataset\n",
    "data = pd.read_csv('Musical_instruments_reviews.csv')"
   ]
  },
  {
   "cell_type": "markdown",
   "id": "4f94bb99",
   "metadata": {},
   "source": [
    "# Data Preprocessing for Sentiment Analysis"
   ]
  },
  {
   "cell_type": "code",
   "execution_count": 59,
   "id": "723e6d95",
   "metadata": {
    "ExecuteTime": {
     "end_time": "2021-10-21T11:26:50.417694Z",
     "start_time": "2021-10-21T11:26:50.403732Z"
    }
   },
   "outputs": [
    {
     "data": {
      "text/plain": [
       "(10261, 9)"
      ]
     },
     "execution_count": 59,
     "metadata": {},
     "output_type": "execute_result"
    }
   ],
   "source": [
    "data.shape"
   ]
  },
  {
   "cell_type": "code",
   "execution_count": 60,
   "id": "64ba6c88",
   "metadata": {
    "ExecuteTime": {
     "end_time": "2021-10-21T11:26:50.495486Z",
     "start_time": "2021-10-21T11:26:50.418692Z"
    }
   },
   "outputs": [
    {
     "data": {
      "text/html": [
       "<div>\n",
       "<style scoped>\n",
       "    .dataframe tbody tr th:only-of-type {\n",
       "        vertical-align: middle;\n",
       "    }\n",
       "\n",
       "    .dataframe tbody tr th {\n",
       "        vertical-align: top;\n",
       "    }\n",
       "\n",
       "    .dataframe thead th {\n",
       "        text-align: right;\n",
       "    }\n",
       "</style>\n",
       "<table border=\"1\" class=\"dataframe\">\n",
       "  <thead>\n",
       "    <tr style=\"text-align: right;\">\n",
       "      <th></th>\n",
       "      <th>reviewerID</th>\n",
       "      <th>asin</th>\n",
       "      <th>reviewerName</th>\n",
       "      <th>helpful</th>\n",
       "      <th>reviewText</th>\n",
       "      <th>overall</th>\n",
       "      <th>summary</th>\n",
       "      <th>unixReviewTime</th>\n",
       "      <th>reviewTime</th>\n",
       "    </tr>\n",
       "  </thead>\n",
       "  <tbody>\n",
       "    <tr>\n",
       "      <th>0</th>\n",
       "      <td>A2IBPI20UZIR0U</td>\n",
       "      <td>1384719342</td>\n",
       "      <td>cassandra tu \"Yeah, well, that's just like, u...</td>\n",
       "      <td>[0, 0]</td>\n",
       "      <td>Not much to write about here, but it does exac...</td>\n",
       "      <td>5.0</td>\n",
       "      <td>good</td>\n",
       "      <td>1393545600</td>\n",
       "      <td>02 28, 2014</td>\n",
       "    </tr>\n",
       "    <tr>\n",
       "      <th>1</th>\n",
       "      <td>A14VAT5EAX3D9S</td>\n",
       "      <td>1384719342</td>\n",
       "      <td>Jake</td>\n",
       "      <td>[13, 14]</td>\n",
       "      <td>The product does exactly as it should and is q...</td>\n",
       "      <td>5.0</td>\n",
       "      <td>Jake</td>\n",
       "      <td>1363392000</td>\n",
       "      <td>03 16, 2013</td>\n",
       "    </tr>\n",
       "    <tr>\n",
       "      <th>2</th>\n",
       "      <td>A195EZSQDW3E21</td>\n",
       "      <td>1384719342</td>\n",
       "      <td>Rick Bennette \"Rick Bennette\"</td>\n",
       "      <td>[1, 1]</td>\n",
       "      <td>The primary job of this device is to block the...</td>\n",
       "      <td>5.0</td>\n",
       "      <td>It Does The Job Well</td>\n",
       "      <td>1377648000</td>\n",
       "      <td>08 28, 2013</td>\n",
       "    </tr>\n",
       "    <tr>\n",
       "      <th>3</th>\n",
       "      <td>A2C00NNG1ZQQG2</td>\n",
       "      <td>1384719342</td>\n",
       "      <td>RustyBill \"Sunday Rocker\"</td>\n",
       "      <td>[0, 0]</td>\n",
       "      <td>Nice windscreen protects my MXL mic and preven...</td>\n",
       "      <td>5.0</td>\n",
       "      <td>GOOD WINDSCREEN FOR THE MONEY</td>\n",
       "      <td>1392336000</td>\n",
       "      <td>02 14, 2014</td>\n",
       "    </tr>\n",
       "    <tr>\n",
       "      <th>4</th>\n",
       "      <td>A94QU4C90B1AX</td>\n",
       "      <td>1384719342</td>\n",
       "      <td>SEAN MASLANKA</td>\n",
       "      <td>[0, 0]</td>\n",
       "      <td>This pop filter is great. It looks and perform...</td>\n",
       "      <td>5.0</td>\n",
       "      <td>No more pops when I record my vocals.</td>\n",
       "      <td>1392940800</td>\n",
       "      <td>02 21, 2014</td>\n",
       "    </tr>\n",
       "  </tbody>\n",
       "</table>\n",
       "</div>"
      ],
      "text/plain": [
       "       reviewerID        asin  \\\n",
       "0  A2IBPI20UZIR0U  1384719342   \n",
       "1  A14VAT5EAX3D9S  1384719342   \n",
       "2  A195EZSQDW3E21  1384719342   \n",
       "3  A2C00NNG1ZQQG2  1384719342   \n",
       "4   A94QU4C90B1AX  1384719342   \n",
       "\n",
       "                                       reviewerName   helpful  \\\n",
       "0  cassandra tu \"Yeah, well, that's just like, u...    [0, 0]   \n",
       "1                                              Jake  [13, 14]   \n",
       "2                     Rick Bennette \"Rick Bennette\"    [1, 1]   \n",
       "3                         RustyBill \"Sunday Rocker\"    [0, 0]   \n",
       "4                                     SEAN MASLANKA    [0, 0]   \n",
       "\n",
       "                                          reviewText  overall  \\\n",
       "0  Not much to write about here, but it does exac...      5.0   \n",
       "1  The product does exactly as it should and is q...      5.0   \n",
       "2  The primary job of this device is to block the...      5.0   \n",
       "3  Nice windscreen protects my MXL mic and preven...      5.0   \n",
       "4  This pop filter is great. It looks and perform...      5.0   \n",
       "\n",
       "                                 summary  unixReviewTime   reviewTime  \n",
       "0                                   good      1393545600  02 28, 2014  \n",
       "1                                   Jake      1363392000  03 16, 2013  \n",
       "2                   It Does The Job Well      1377648000  08 28, 2013  \n",
       "3          GOOD WINDSCREEN FOR THE MONEY      1392336000  02 14, 2014  \n",
       "4  No more pops when I record my vocals.      1392940800  02 21, 2014  "
      ]
     },
     "execution_count": 60,
     "metadata": {},
     "output_type": "execute_result"
    }
   ],
   "source": [
    "data.head()"
   ]
  },
  {
   "cell_type": "code",
   "execution_count": 61,
   "id": "f4c71673",
   "metadata": {
    "ExecuteTime": {
     "end_time": "2021-10-21T11:26:50.572282Z",
     "start_time": "2021-10-21T11:26:50.496484Z"
    }
   },
   "outputs": [
    {
     "data": {
      "text/html": [
       "<div>\n",
       "<style scoped>\n",
       "    .dataframe tbody tr th:only-of-type {\n",
       "        vertical-align: middle;\n",
       "    }\n",
       "\n",
       "    .dataframe tbody tr th {\n",
       "        vertical-align: top;\n",
       "    }\n",
       "\n",
       "    .dataframe thead th {\n",
       "        text-align: right;\n",
       "    }\n",
       "</style>\n",
       "<table border=\"1\" class=\"dataframe\">\n",
       "  <thead>\n",
       "    <tr style=\"text-align: right;\">\n",
       "      <th></th>\n",
       "      <th>review_id</th>\n",
       "      <th>asin</th>\n",
       "      <th>review_name</th>\n",
       "      <th>helpful</th>\n",
       "      <th>review_text</th>\n",
       "      <th>overall</th>\n",
       "      <th>summary</th>\n",
       "      <th>unix_review_time</th>\n",
       "      <th>review_time</th>\n",
       "    </tr>\n",
       "  </thead>\n",
       "  <tbody>\n",
       "    <tr>\n",
       "      <th>0</th>\n",
       "      <td>A2IBPI20UZIR0U</td>\n",
       "      <td>1384719342</td>\n",
       "      <td>cassandra tu \"Yeah, well, that's just like, u...</td>\n",
       "      <td>[0, 0]</td>\n",
       "      <td>Not much to write about here, but it does exac...</td>\n",
       "      <td>5.0</td>\n",
       "      <td>good</td>\n",
       "      <td>1393545600</td>\n",
       "      <td>02 28, 2014</td>\n",
       "    </tr>\n",
       "    <tr>\n",
       "      <th>1</th>\n",
       "      <td>A14VAT5EAX3D9S</td>\n",
       "      <td>1384719342</td>\n",
       "      <td>Jake</td>\n",
       "      <td>[13, 14]</td>\n",
       "      <td>The product does exactly as it should and is q...</td>\n",
       "      <td>5.0</td>\n",
       "      <td>Jake</td>\n",
       "      <td>1363392000</td>\n",
       "      <td>03 16, 2013</td>\n",
       "    </tr>\n",
       "    <tr>\n",
       "      <th>2</th>\n",
       "      <td>A195EZSQDW3E21</td>\n",
       "      <td>1384719342</td>\n",
       "      <td>Rick Bennette \"Rick Bennette\"</td>\n",
       "      <td>[1, 1]</td>\n",
       "      <td>The primary job of this device is to block the...</td>\n",
       "      <td>5.0</td>\n",
       "      <td>It Does The Job Well</td>\n",
       "      <td>1377648000</td>\n",
       "      <td>08 28, 2013</td>\n",
       "    </tr>\n",
       "    <tr>\n",
       "      <th>3</th>\n",
       "      <td>A2C00NNG1ZQQG2</td>\n",
       "      <td>1384719342</td>\n",
       "      <td>RustyBill \"Sunday Rocker\"</td>\n",
       "      <td>[0, 0]</td>\n",
       "      <td>Nice windscreen protects my MXL mic and preven...</td>\n",
       "      <td>5.0</td>\n",
       "      <td>GOOD WINDSCREEN FOR THE MONEY</td>\n",
       "      <td>1392336000</td>\n",
       "      <td>02 14, 2014</td>\n",
       "    </tr>\n",
       "    <tr>\n",
       "      <th>4</th>\n",
       "      <td>A94QU4C90B1AX</td>\n",
       "      <td>1384719342</td>\n",
       "      <td>SEAN MASLANKA</td>\n",
       "      <td>[0, 0]</td>\n",
       "      <td>This pop filter is great. It looks and perform...</td>\n",
       "      <td>5.0</td>\n",
       "      <td>No more pops when I record my vocals.</td>\n",
       "      <td>1392940800</td>\n",
       "      <td>02 21, 2014</td>\n",
       "    </tr>\n",
       "  </tbody>\n",
       "</table>\n",
       "</div>"
      ],
      "text/plain": [
       "        review_id        asin  \\\n",
       "0  A2IBPI20UZIR0U  1384719342   \n",
       "1  A14VAT5EAX3D9S  1384719342   \n",
       "2  A195EZSQDW3E21  1384719342   \n",
       "3  A2C00NNG1ZQQG2  1384719342   \n",
       "4   A94QU4C90B1AX  1384719342   \n",
       "\n",
       "                                        review_name   helpful  \\\n",
       "0  cassandra tu \"Yeah, well, that's just like, u...    [0, 0]   \n",
       "1                                              Jake  [13, 14]   \n",
       "2                     Rick Bennette \"Rick Bennette\"    [1, 1]   \n",
       "3                         RustyBill \"Sunday Rocker\"    [0, 0]   \n",
       "4                                     SEAN MASLANKA    [0, 0]   \n",
       "\n",
       "                                         review_text  overall  \\\n",
       "0  Not much to write about here, but it does exac...      5.0   \n",
       "1  The product does exactly as it should and is q...      5.0   \n",
       "2  The primary job of this device is to block the...      5.0   \n",
       "3  Nice windscreen protects my MXL mic and preven...      5.0   \n",
       "4  This pop filter is great. It looks and perform...      5.0   \n",
       "\n",
       "                                 summary  unix_review_time  review_time  \n",
       "0                                   good        1393545600  02 28, 2014  \n",
       "1                                   Jake        1363392000  03 16, 2013  \n",
       "2                   It Does The Job Well        1377648000  08 28, 2013  \n",
       "3          GOOD WINDSCREEN FOR THE MONEY        1392336000  02 14, 2014  \n",
       "4  No more pops when I record my vocals.        1392940800  02 21, 2014  "
      ]
     },
     "execution_count": 61,
     "metadata": {},
     "output_type": "execute_result"
    }
   ],
   "source": [
    "# Renaming columns for ease of reference\n",
    "data = data.rename({'reviewerID':'review_id', 'reviewerName':'review_name', 'reviewText':'review_text', \n",
    "               'unixReviewTime':'unix_review_time', 'reviewTime':'review_time'}, axis = 1)\n",
    "data.head()"
   ]
  },
  {
   "cell_type": "code",
   "execution_count": 62,
   "id": "357d34eb",
   "metadata": {
    "ExecuteTime": {
     "end_time": "2021-10-21T11:26:50.650102Z",
     "start_time": "2021-10-21T11:26:50.573279Z"
    }
   },
   "outputs": [
    {
     "data": {
      "text/plain": [
       "reviewerID         0\n",
       "asin               0\n",
       "reviewerName      27\n",
       "helpful            0\n",
       "reviewText         7\n",
       "overall            0\n",
       "summary            0\n",
       "unixReviewTime     0\n",
       "reviewTime         0\n",
       "dtype: int64"
      ]
     },
     "execution_count": 62,
     "metadata": {},
     "output_type": "execute_result"
    }
   ],
   "source": [
    "# Check for NA values\n",
    "review.isna().sum()"
   ]
  },
  {
   "cell_type": "code",
   "execution_count": 63,
   "id": "c8794506",
   "metadata": {
    "ExecuteTime": {
     "end_time": "2021-10-21T11:26:50.695989Z",
     "start_time": "2021-10-21T11:26:50.651072Z"
    }
   },
   "outputs": [],
   "source": [
    "#review_name got 27 null values, but it will not add any value in our analysis as we have got review_id. \n",
    "#review_text is important for us. We can drop null values directly but first we will impute them as 'missing' and \n",
    "#try to get the reason why reviews are not given."
   ]
  },
  {
   "cell_type": "code",
   "execution_count": 64,
   "id": "f9caba3b",
   "metadata": {
    "ExecuteTime": {
     "end_time": "2021-10-21T11:26:50.758822Z",
     "start_time": "2021-10-21T11:26:50.697947Z"
    }
   },
   "outputs": [],
   "source": [
    "data['review_text'] = data['review_text'].fillna('Missing')"
   ]
  },
  {
   "cell_type": "code",
   "execution_count": 65,
   "id": "96892373",
   "metadata": {
    "ExecuteTime": {
     "end_time": "2021-10-21T11:26:50.884447Z",
     "start_time": "2021-10-21T11:26:50.759781Z"
    }
   },
   "outputs": [
    {
     "data": {
      "text/html": [
       "<div>\n",
       "<style scoped>\n",
       "    .dataframe tbody tr th:only-of-type {\n",
       "        vertical-align: middle;\n",
       "    }\n",
       "\n",
       "    .dataframe tbody tr th {\n",
       "        vertical-align: top;\n",
       "    }\n",
       "\n",
       "    .dataframe thead th {\n",
       "        text-align: right;\n",
       "    }\n",
       "</style>\n",
       "<table border=\"1\" class=\"dataframe\">\n",
       "  <thead>\n",
       "    <tr style=\"text-align: right;\">\n",
       "      <th></th>\n",
       "      <th>review_id</th>\n",
       "      <th>asin</th>\n",
       "      <th>review_name</th>\n",
       "      <th>helpful</th>\n",
       "      <th>overall</th>\n",
       "      <th>unix_review_time</th>\n",
       "      <th>review_time</th>\n",
       "      <th>reviews</th>\n",
       "    </tr>\n",
       "  </thead>\n",
       "  <tbody>\n",
       "    <tr>\n",
       "      <th>0</th>\n",
       "      <td>A2IBPI20UZIR0U</td>\n",
       "      <td>1384719342</td>\n",
       "      <td>cassandra tu \"Yeah, well, that's just like, u...</td>\n",
       "      <td>[0, 0]</td>\n",
       "      <td>5.0</td>\n",
       "      <td>1393545600</td>\n",
       "      <td>02 28, 2014</td>\n",
       "      <td>Not much to write about here, but it does exac...</td>\n",
       "    </tr>\n",
       "    <tr>\n",
       "      <th>1</th>\n",
       "      <td>A14VAT5EAX3D9S</td>\n",
       "      <td>1384719342</td>\n",
       "      <td>Jake</td>\n",
       "      <td>[13, 14]</td>\n",
       "      <td>5.0</td>\n",
       "      <td>1363392000</td>\n",
       "      <td>03 16, 2013</td>\n",
       "      <td>The product does exactly as it should and is q...</td>\n",
       "    </tr>\n",
       "    <tr>\n",
       "      <th>2</th>\n",
       "      <td>A195EZSQDW3E21</td>\n",
       "      <td>1384719342</td>\n",
       "      <td>Rick Bennette \"Rick Bennette\"</td>\n",
       "      <td>[1, 1]</td>\n",
       "      <td>5.0</td>\n",
       "      <td>1377648000</td>\n",
       "      <td>08 28, 2013</td>\n",
       "      <td>The primary job of this device is to block the...</td>\n",
       "    </tr>\n",
       "    <tr>\n",
       "      <th>3</th>\n",
       "      <td>A2C00NNG1ZQQG2</td>\n",
       "      <td>1384719342</td>\n",
       "      <td>RustyBill \"Sunday Rocker\"</td>\n",
       "      <td>[0, 0]</td>\n",
       "      <td>5.0</td>\n",
       "      <td>1392336000</td>\n",
       "      <td>02 14, 2014</td>\n",
       "      <td>Nice windscreen protects my MXL mic and preven...</td>\n",
       "    </tr>\n",
       "    <tr>\n",
       "      <th>4</th>\n",
       "      <td>A94QU4C90B1AX</td>\n",
       "      <td>1384719342</td>\n",
       "      <td>SEAN MASLANKA</td>\n",
       "      <td>[0, 0]</td>\n",
       "      <td>5.0</td>\n",
       "      <td>1392940800</td>\n",
       "      <td>02 21, 2014</td>\n",
       "      <td>This pop filter is great. It looks and perform...</td>\n",
       "    </tr>\n",
       "  </tbody>\n",
       "</table>\n",
       "</div>"
      ],
      "text/plain": [
       "        review_id        asin  \\\n",
       "0  A2IBPI20UZIR0U  1384719342   \n",
       "1  A14VAT5EAX3D9S  1384719342   \n",
       "2  A195EZSQDW3E21  1384719342   \n",
       "3  A2C00NNG1ZQQG2  1384719342   \n",
       "4   A94QU4C90B1AX  1384719342   \n",
       "\n",
       "                                        review_name   helpful  overall  \\\n",
       "0  cassandra tu \"Yeah, well, that's just like, u...    [0, 0]      5.0   \n",
       "1                                              Jake  [13, 14]      5.0   \n",
       "2                     Rick Bennette \"Rick Bennette\"    [1, 1]      5.0   \n",
       "3                         RustyBill \"Sunday Rocker\"    [0, 0]      5.0   \n",
       "4                                     SEAN MASLANKA    [0, 0]      5.0   \n",
       "\n",
       "   unix_review_time  review_time  \\\n",
       "0        1393545600  02 28, 2014   \n",
       "1        1363392000  03 16, 2013   \n",
       "2        1377648000  08 28, 2013   \n",
       "3        1392336000  02 14, 2014   \n",
       "4        1392940800  02 21, 2014   \n",
       "\n",
       "                                             reviews  \n",
       "0  Not much to write about here, but it does exac...  \n",
       "1  The product does exactly as it should and is q...  \n",
       "2  The primary job of this device is to block the...  \n",
       "3  Nice windscreen protects my MXL mic and preven...  \n",
       "4  This pop filter is great. It looks and perform...  "
      ]
     },
     "execution_count": 65,
     "metadata": {},
     "output_type": "execute_result"
    }
   ],
   "source": [
    "# Concatinating review_text and summary\n",
    "data['reviews'] = data['review_text'] + data['summary']\n",
    "\n",
    "# Dropping review_text and summary\n",
    "\n",
    "data = data.drop(['review_text', 'summary'], axis = 1)\n",
    "\n",
    "data.head()"
   ]
  },
  {
   "cell_type": "code",
   "execution_count": 66,
   "id": "e61d0fbf",
   "metadata": {
    "ExecuteTime": {
     "end_time": "2021-10-21T11:26:50.960244Z",
     "start_time": "2021-10-21T11:26:50.885444Z"
    }
   },
   "outputs": [
    {
     "data": {
      "text/html": [
       "<div>\n",
       "<style scoped>\n",
       "    .dataframe tbody tr th:only-of-type {\n",
       "        vertical-align: middle;\n",
       "    }\n",
       "\n",
       "    .dataframe tbody tr th {\n",
       "        vertical-align: top;\n",
       "    }\n",
       "\n",
       "    .dataframe thead th {\n",
       "        text-align: right;\n",
       "    }\n",
       "</style>\n",
       "<table border=\"1\" class=\"dataframe\">\n",
       "  <thead>\n",
       "    <tr style=\"text-align: right;\">\n",
       "      <th></th>\n",
       "      <th>review_id</th>\n",
       "      <th>asin</th>\n",
       "      <th>review_name</th>\n",
       "      <th>helpful</th>\n",
       "      <th>overall</th>\n",
       "      <th>unix_review_time</th>\n",
       "      <th>reviews</th>\n",
       "      <th>date</th>\n",
       "      <th>year</th>\n",
       "    </tr>\n",
       "  </thead>\n",
       "  <tbody>\n",
       "    <tr>\n",
       "      <th>0</th>\n",
       "      <td>A2IBPI20UZIR0U</td>\n",
       "      <td>1384719342</td>\n",
       "      <td>cassandra tu \"Yeah, well, that's just like, u...</td>\n",
       "      <td>[0, 0]</td>\n",
       "      <td>5.0</td>\n",
       "      <td>1393545600</td>\n",
       "      <td>Not much to write about here, but it does exac...</td>\n",
       "      <td>02 28</td>\n",
       "      <td>2014</td>\n",
       "    </tr>\n",
       "    <tr>\n",
       "      <th>1</th>\n",
       "      <td>A14VAT5EAX3D9S</td>\n",
       "      <td>1384719342</td>\n",
       "      <td>Jake</td>\n",
       "      <td>[13, 14]</td>\n",
       "      <td>5.0</td>\n",
       "      <td>1363392000</td>\n",
       "      <td>The product does exactly as it should and is q...</td>\n",
       "      <td>03 16</td>\n",
       "      <td>2013</td>\n",
       "    </tr>\n",
       "    <tr>\n",
       "      <th>2</th>\n",
       "      <td>A195EZSQDW3E21</td>\n",
       "      <td>1384719342</td>\n",
       "      <td>Rick Bennette \"Rick Bennette\"</td>\n",
       "      <td>[1, 1]</td>\n",
       "      <td>5.0</td>\n",
       "      <td>1377648000</td>\n",
       "      <td>The primary job of this device is to block the...</td>\n",
       "      <td>08 28</td>\n",
       "      <td>2013</td>\n",
       "    </tr>\n",
       "    <tr>\n",
       "      <th>3</th>\n",
       "      <td>A2C00NNG1ZQQG2</td>\n",
       "      <td>1384719342</td>\n",
       "      <td>RustyBill \"Sunday Rocker\"</td>\n",
       "      <td>[0, 0]</td>\n",
       "      <td>5.0</td>\n",
       "      <td>1392336000</td>\n",
       "      <td>Nice windscreen protects my MXL mic and preven...</td>\n",
       "      <td>02 14</td>\n",
       "      <td>2014</td>\n",
       "    </tr>\n",
       "    <tr>\n",
       "      <th>4</th>\n",
       "      <td>A94QU4C90B1AX</td>\n",
       "      <td>1384719342</td>\n",
       "      <td>SEAN MASLANKA</td>\n",
       "      <td>[0, 0]</td>\n",
       "      <td>5.0</td>\n",
       "      <td>1392940800</td>\n",
       "      <td>This pop filter is great. It looks and perform...</td>\n",
       "      <td>02 21</td>\n",
       "      <td>2014</td>\n",
       "    </tr>\n",
       "  </tbody>\n",
       "</table>\n",
       "</div>"
      ],
      "text/plain": [
       "        review_id        asin  \\\n",
       "0  A2IBPI20UZIR0U  1384719342   \n",
       "1  A14VAT5EAX3D9S  1384719342   \n",
       "2  A195EZSQDW3E21  1384719342   \n",
       "3  A2C00NNG1ZQQG2  1384719342   \n",
       "4   A94QU4C90B1AX  1384719342   \n",
       "\n",
       "                                        review_name   helpful  overall  \\\n",
       "0  cassandra tu \"Yeah, well, that's just like, u...    [0, 0]      5.0   \n",
       "1                                              Jake  [13, 14]      5.0   \n",
       "2                     Rick Bennette \"Rick Bennette\"    [1, 1]      5.0   \n",
       "3                         RustyBill \"Sunday Rocker\"    [0, 0]      5.0   \n",
       "4                                     SEAN MASLANKA    [0, 0]      5.0   \n",
       "\n",
       "   unix_review_time                                            reviews   date  \\\n",
       "0        1393545600  Not much to write about here, but it does exac...  02 28   \n",
       "1        1363392000  The product does exactly as it should and is q...  03 16   \n",
       "2        1377648000  The primary job of this device is to block the...  08 28   \n",
       "3        1392336000  Nice windscreen protects my MXL mic and preven...  02 14   \n",
       "4        1392940800  This pop filter is great. It looks and perform...  02 21   \n",
       "\n",
       "    year  \n",
       "0   2014  \n",
       "1   2013  \n",
       "2   2013  \n",
       "3   2014  \n",
       "4   2014  "
      ]
     },
     "execution_count": 66,
     "metadata": {},
     "output_type": "execute_result"
    }
   ],
   "source": [
    "# Handling review_time column\n",
    "#Here we have an unusual review time column which has date and year, once we split both we will split the date \n",
    "#further into month and date\n",
    "\n",
    "# new data frame which has date and year\n",
    "new = data[\"review_time\"].str.split(\",\", n = 1, expand = True) \n",
    "  \n",
    "# making separate date column from new data frame \n",
    "data[\"date\"]= new[0] \n",
    "  \n",
    "# making separate year column from new data frame \n",
    "data[\"year\"]= new[1] \n",
    "\n",
    "data=data.drop(['review_time'], axis=1)\n",
    "data.head()"
   ]
  },
  {
   "cell_type": "code",
   "execution_count": 67,
   "id": "948cb2ef",
   "metadata": {
    "ExecuteTime": {
     "end_time": "2021-10-21T11:26:51.052996Z",
     "start_time": "2021-10-21T11:26:50.961241Z"
    }
   },
   "outputs": [
    {
     "data": {
      "text/html": [
       "<div>\n",
       "<style scoped>\n",
       "    .dataframe tbody tr th:only-of-type {\n",
       "        vertical-align: middle;\n",
       "    }\n",
       "\n",
       "    .dataframe tbody tr th {\n",
       "        vertical-align: top;\n",
       "    }\n",
       "\n",
       "    .dataframe thead th {\n",
       "        text-align: right;\n",
       "    }\n",
       "</style>\n",
       "<table border=\"1\" class=\"dataframe\">\n",
       "  <thead>\n",
       "    <tr style=\"text-align: right;\">\n",
       "      <th></th>\n",
       "      <th>review_id</th>\n",
       "      <th>asin</th>\n",
       "      <th>review_name</th>\n",
       "      <th>helpful</th>\n",
       "      <th>overall</th>\n",
       "      <th>unix_review_time</th>\n",
       "      <th>reviews</th>\n",
       "      <th>year</th>\n",
       "      <th>month</th>\n",
       "      <th>day</th>\n",
       "    </tr>\n",
       "  </thead>\n",
       "  <tbody>\n",
       "    <tr>\n",
       "      <th>0</th>\n",
       "      <td>A2IBPI20UZIR0U</td>\n",
       "      <td>1384719342</td>\n",
       "      <td>cassandra tu \"Yeah, well, that's just like, u...</td>\n",
       "      <td>[0, 0]</td>\n",
       "      <td>5.0</td>\n",
       "      <td>1393545600</td>\n",
       "      <td>Not much to write about here, but it does exac...</td>\n",
       "      <td>2014</td>\n",
       "      <td>02</td>\n",
       "      <td>28</td>\n",
       "    </tr>\n",
       "    <tr>\n",
       "      <th>1</th>\n",
       "      <td>A14VAT5EAX3D9S</td>\n",
       "      <td>1384719342</td>\n",
       "      <td>Jake</td>\n",
       "      <td>[13, 14]</td>\n",
       "      <td>5.0</td>\n",
       "      <td>1363392000</td>\n",
       "      <td>The product does exactly as it should and is q...</td>\n",
       "      <td>2013</td>\n",
       "      <td>03</td>\n",
       "      <td>16</td>\n",
       "    </tr>\n",
       "    <tr>\n",
       "      <th>2</th>\n",
       "      <td>A195EZSQDW3E21</td>\n",
       "      <td>1384719342</td>\n",
       "      <td>Rick Bennette \"Rick Bennette\"</td>\n",
       "      <td>[1, 1]</td>\n",
       "      <td>5.0</td>\n",
       "      <td>1377648000</td>\n",
       "      <td>The primary job of this device is to block the...</td>\n",
       "      <td>2013</td>\n",
       "      <td>08</td>\n",
       "      <td>28</td>\n",
       "    </tr>\n",
       "    <tr>\n",
       "      <th>3</th>\n",
       "      <td>A2C00NNG1ZQQG2</td>\n",
       "      <td>1384719342</td>\n",
       "      <td>RustyBill \"Sunday Rocker\"</td>\n",
       "      <td>[0, 0]</td>\n",
       "      <td>5.0</td>\n",
       "      <td>1392336000</td>\n",
       "      <td>Nice windscreen protects my MXL mic and preven...</td>\n",
       "      <td>2014</td>\n",
       "      <td>02</td>\n",
       "      <td>14</td>\n",
       "    </tr>\n",
       "    <tr>\n",
       "      <th>4</th>\n",
       "      <td>A94QU4C90B1AX</td>\n",
       "      <td>1384719342</td>\n",
       "      <td>SEAN MASLANKA</td>\n",
       "      <td>[0, 0]</td>\n",
       "      <td>5.0</td>\n",
       "      <td>1392940800</td>\n",
       "      <td>This pop filter is great. It looks and perform...</td>\n",
       "      <td>2014</td>\n",
       "      <td>02</td>\n",
       "      <td>21</td>\n",
       "    </tr>\n",
       "  </tbody>\n",
       "</table>\n",
       "</div>"
      ],
      "text/plain": [
       "        review_id        asin  \\\n",
       "0  A2IBPI20UZIR0U  1384719342   \n",
       "1  A14VAT5EAX3D9S  1384719342   \n",
       "2  A195EZSQDW3E21  1384719342   \n",
       "3  A2C00NNG1ZQQG2  1384719342   \n",
       "4   A94QU4C90B1AX  1384719342   \n",
       "\n",
       "                                        review_name   helpful  overall  \\\n",
       "0  cassandra tu \"Yeah, well, that's just like, u...    [0, 0]      5.0   \n",
       "1                                              Jake  [13, 14]      5.0   \n",
       "2                     Rick Bennette \"Rick Bennette\"    [1, 1]      5.0   \n",
       "3                         RustyBill \"Sunday Rocker\"    [0, 0]      5.0   \n",
       "4                                     SEAN MASLANKA    [0, 0]      5.0   \n",
       "\n",
       "   unix_review_time                                            reviews   year  \\\n",
       "0        1393545600  Not much to write about here, but it does exac...   2014   \n",
       "1        1363392000  The product does exactly as it should and is q...   2013   \n",
       "2        1377648000  The primary job of this device is to block the...   2013   \n",
       "3        1392336000  Nice windscreen protects my MXL mic and preven...   2014   \n",
       "4        1392940800  This pop filter is great. It looks and perform...   2014   \n",
       "\n",
       "  month day  \n",
       "0    02  28  \n",
       "1    03  16  \n",
       "2    08  28  \n",
       "3    02  14  \n",
       "4    02  21  "
      ]
     },
     "execution_count": 67,
     "metadata": {},
     "output_type": "execute_result"
    }
   ],
   "source": [
    "# Splitting the date \n",
    "new1 = data[\"date\"].str.split(\" \", n = 1, expand = True) \n",
    "  \n",
    "# adding month to the main dataset \n",
    "data[\"month\"]= new1[0] \n",
    "  \n",
    "# adding day to the main dataset \n",
    "data[\"day\"]= new1[1] \n",
    "\n",
    "data=data.drop(['date'], axis=1)\n",
    "data.head()"
   ]
  },
  {
   "cell_type": "code",
   "execution_count": 68,
   "id": "d64a21ad",
   "metadata": {
    "ExecuteTime": {
     "end_time": "2021-10-21T11:26:51.099871Z",
     "start_time": "2021-10-21T11:26:51.053993Z"
    }
   },
   "outputs": [],
   "source": [
    "#Finding the helpfulness of the review From the main dataframe we can see the helpful feature with values in list [a,b] format. \n",
    "#It says that a out of b people found that review helpful. But with that format, it could not add value to the machine learning model and it will be difficult to decrypt the meaning for the machine.\n",
    "#Create helpful_rate feature which returns a/b value from [a,b]."
   ]
  },
  {
   "cell_type": "code",
   "execution_count": 69,
   "id": "3968ddf2",
   "metadata": {
    "ExecuteTime": {
     "end_time": "2021-10-21T11:26:51.223540Z",
     "start_time": "2021-10-21T11:26:51.100882Z"
    }
   },
   "outputs": [],
   "source": [
    "# Splitting the dataset based on comma and square bracket \n",
    "new1 = data[\"helpful\"].str.split(\",\", n = 1, expand = True)\n",
    "new2 = new1[0].str.split(\"[\", n = 1, expand = True)\n",
    "new3 = new1[1].str.split(\"]\", n = 1, expand = True)\n",
    "\n",
    "#Resetting the index\n",
    "new2.reset_index(drop=True, inplace=True)\n",
    "new3.reset_index(drop=True, inplace=True)\n",
    "\n",
    "#Dropping empty columns due to splitting \n",
    "new2=new2.drop([0], axis=1)\n",
    "new3=new3.drop([1], axis=1)\n",
    "\n",
    "#Concatenating the splitted columns\n",
    "helpful=pd.concat([new2, new3], axis=1)"
   ]
  },
  {
   "cell_type": "code",
   "execution_count": 70,
   "id": "acd018f7",
   "metadata": {
    "ExecuteTime": {
     "end_time": "2021-10-21T11:26:51.300336Z",
     "start_time": "2021-10-21T11:26:51.224537Z"
    }
   },
   "outputs": [
    {
     "data": {
      "text/html": [
       "<div>\n",
       "<style scoped>\n",
       "    .dataframe tbody tr th:only-of-type {\n",
       "        vertical-align: middle;\n",
       "    }\n",
       "\n",
       "    .dataframe tbody tr th {\n",
       "        vertical-align: top;\n",
       "    }\n",
       "\n",
       "    .dataframe thead th {\n",
       "        text-align: right;\n",
       "    }\n",
       "</style>\n",
       "<table border=\"1\" class=\"dataframe\">\n",
       "  <thead>\n",
       "    <tr style=\"text-align: right;\">\n",
       "      <th></th>\n",
       "      <th>1</th>\n",
       "      <th>0</th>\n",
       "    </tr>\n",
       "  </thead>\n",
       "  <tbody>\n",
       "    <tr>\n",
       "      <th>0</th>\n",
       "      <td>0</td>\n",
       "      <td>0</td>\n",
       "    </tr>\n",
       "    <tr>\n",
       "      <th>1</th>\n",
       "      <td>13</td>\n",
       "      <td>14</td>\n",
       "    </tr>\n",
       "    <tr>\n",
       "      <th>2</th>\n",
       "      <td>1</td>\n",
       "      <td>1</td>\n",
       "    </tr>\n",
       "    <tr>\n",
       "      <th>3</th>\n",
       "      <td>0</td>\n",
       "      <td>0</td>\n",
       "    </tr>\n",
       "    <tr>\n",
       "      <th>4</th>\n",
       "      <td>0</td>\n",
       "      <td>0</td>\n",
       "    </tr>\n",
       "    <tr>\n",
       "      <th>...</th>\n",
       "      <td>...</td>\n",
       "      <td>...</td>\n",
       "    </tr>\n",
       "    <tr>\n",
       "      <th>10256</th>\n",
       "      <td>0</td>\n",
       "      <td>0</td>\n",
       "    </tr>\n",
       "    <tr>\n",
       "      <th>10257</th>\n",
       "      <td>0</td>\n",
       "      <td>0</td>\n",
       "    </tr>\n",
       "    <tr>\n",
       "      <th>10258</th>\n",
       "      <td>0</td>\n",
       "      <td>0</td>\n",
       "    </tr>\n",
       "    <tr>\n",
       "      <th>10259</th>\n",
       "      <td>0</td>\n",
       "      <td>0</td>\n",
       "    </tr>\n",
       "    <tr>\n",
       "      <th>10260</th>\n",
       "      <td>0</td>\n",
       "      <td>0</td>\n",
       "    </tr>\n",
       "  </tbody>\n",
       "</table>\n",
       "<p>10261 rows × 2 columns</p>\n",
       "</div>"
      ],
      "text/plain": [
       "        1    0\n",
       "0       0    0\n",
       "1      13   14\n",
       "2       1    1\n",
       "3       0    0\n",
       "4       0    0\n",
       "...    ..  ...\n",
       "10256   0    0\n",
       "10257   0    0\n",
       "10258   0    0\n",
       "10259   0    0\n",
       "10260   0    0\n",
       "\n",
       "[10261 rows x 2 columns]"
      ]
     },
     "execution_count": 70,
     "metadata": {},
     "output_type": "execute_result"
    }
   ],
   "source": [
    "helpful"
   ]
  },
  {
   "cell_type": "code",
   "execution_count": 71,
   "id": "0b4b3407",
   "metadata": {
    "ExecuteTime": {
     "end_time": "2021-10-21T11:26:51.377130Z",
     "start_time": "2021-10-21T11:26:51.301333Z"
    }
   },
   "outputs": [],
   "source": [
    "# I found few spaces in new3, so it is better to strip all the values to find the rate\n",
    "#Trim whitespace from ends of each value across all series in dataframe\n",
    "\n",
    "def trim_all_columns(df):\n",
    "    \n",
    "    trim_strings = lambda x: x.strip() if isinstance(x, str) else x\n",
    "    return df.applymap(trim_strings)\n",
    "\n",
    "#Applying the function\n",
    "helpful= trim_all_columns(helpful)\n",
    "\n",
    "#Converting into integer types\n",
    "\n",
    "helpful[0]=helpful[0].astype(str).astype(int)\n",
    "helpful[1]=helpful[1].astype(str).astype(int)\n",
    "\n",
    "#Dividing the two columns, we have 0 in the second columns when dvided gives error, so I'm ignoring those errors\n",
    "\n",
    "try:\n",
    "  helpful['result'] = helpful[1]/helpful[0]\n",
    "except ZeroDivisionError:\n",
    "  helpful['result']=0\n",
    "\n",
    "#Filling the NaN values(created due to dividing) with 0\n",
    "\n",
    "helpful['result'] = helpful['result'].fillna(0)\n",
    "\n",
    "#Rounding of the results to two decimal places\n",
    "\n",
    "helpful['result']=helpful['result'].round(2) \n",
    "\n",
    "#Attaching the results to a new column of the main dataframe\n",
    "\n",
    "data['helpful_rate']=helpful['result']\n",
    "\n",
    "#dropping the helpful column from main dataframe\n",
    "data=data.drop(['helpful'], axis=1)"
   ]
  },
  {
   "cell_type": "code",
   "execution_count": 72,
   "id": "d7eea223",
   "metadata": {
    "ExecuteTime": {
     "end_time": "2021-10-21T11:26:51.438965Z",
     "start_time": "2021-10-21T11:26:51.378128Z"
    }
   },
   "outputs": [
    {
     "data": {
      "text/plain": [
       "0.00    7215\n",
       "1.00    2040\n",
       "0.50     266\n",
       "0.67     136\n",
       "0.75     111\n",
       "        ... \n",
       "0.47       1\n",
       "0.31       1\n",
       "0.46       1\n",
       "0.56       1\n",
       "0.30       1\n",
       "Name: helpful_rate, Length: 65, dtype: int64"
      ]
     },
     "execution_count": 72,
     "metadata": {},
     "output_type": "execute_result"
    }
   ],
   "source": [
    "data['helpful_rate'].value_counts()"
   ]
  },
  {
   "cell_type": "code",
   "execution_count": 73,
   "id": "2beb91bb",
   "metadata": {
    "ExecuteTime": {
     "end_time": "2021-10-21T11:26:51.532714Z",
     "start_time": "2021-10-21T11:26:51.439963Z"
    }
   },
   "outputs": [],
   "source": [
    "#Removing unnecessary columns\n",
    "\n",
    "data=data.drop(['review_name','unix_review_time'], axis=1)\n",
    "#Creating a copy \n",
    "clean_reviews=data.copy()"
   ]
  },
  {
   "cell_type": "code",
   "execution_count": 74,
   "id": "f7a08bca",
   "metadata": {
    "ExecuteTime": {
     "end_time": "2021-10-21T11:26:51.594549Z",
     "start_time": "2021-10-21T11:26:51.533711Z"
    }
   },
   "outputs": [],
   "source": [
    "def review_cleaning(text):\n",
    "    '''Make text lowercase, remove text in square brackets,remove links,remove punctuation\n",
    "    and remove words containing numbers.'''\n",
    "    text = str(text).lower()\n",
    "    text = re.sub('\\[.*?\\]', '', text)\n",
    "    text = re.sub('https?://\\S+|www\\.\\S+', '', text)\n",
    "    text = re.sub('<.*?>+', '', text)\n",
    "    text = re.sub('[%s]' % re.escape(string.punctuation), '', text)\n",
    "    text = re.sub('\\n', '', text)\n",
    "    text = re.sub('\\w*\\d\\w*', '', text)\n",
    "    return text"
   ]
  },
  {
   "cell_type": "code",
   "execution_count": 75,
   "id": "06d4174f",
   "metadata": {
    "ExecuteTime": {
     "end_time": "2021-10-21T11:26:52.197582Z",
     "start_time": "2021-10-21T11:26:51.595547Z"
    }
   },
   "outputs": [],
   "source": [
    "import re\n",
    "data['reviews'] = data['reviews'].apply(lambda x: review_cleaning(x))"
   ]
  },
  {
   "cell_type": "code",
   "execution_count": 76,
   "id": "dfaee333",
   "metadata": {
    "ExecuteTime": {
     "end_time": "2021-10-21T11:26:52.212815Z",
     "start_time": "2021-10-21T11:26:52.198731Z"
    }
   },
   "outputs": [
    {
     "data": {
      "text/html": [
       "<div>\n",
       "<style scoped>\n",
       "    .dataframe tbody tr th:only-of-type {\n",
       "        vertical-align: middle;\n",
       "    }\n",
       "\n",
       "    .dataframe tbody tr th {\n",
       "        vertical-align: top;\n",
       "    }\n",
       "\n",
       "    .dataframe thead th {\n",
       "        text-align: right;\n",
       "    }\n",
       "</style>\n",
       "<table border=\"1\" class=\"dataframe\">\n",
       "  <thead>\n",
       "    <tr style=\"text-align: right;\">\n",
       "      <th></th>\n",
       "      <th>review_id</th>\n",
       "      <th>asin</th>\n",
       "      <th>overall</th>\n",
       "      <th>reviews</th>\n",
       "      <th>year</th>\n",
       "      <th>month</th>\n",
       "      <th>day</th>\n",
       "      <th>helpful_rate</th>\n",
       "    </tr>\n",
       "  </thead>\n",
       "  <tbody>\n",
       "    <tr>\n",
       "      <th>0</th>\n",
       "      <td>A2IBPI20UZIR0U</td>\n",
       "      <td>1384719342</td>\n",
       "      <td>5.0</td>\n",
       "      <td>not much to write about here but it does exact...</td>\n",
       "      <td>2014</td>\n",
       "      <td>02</td>\n",
       "      <td>28</td>\n",
       "      <td>0.00</td>\n",
       "    </tr>\n",
       "    <tr>\n",
       "      <th>1</th>\n",
       "      <td>A14VAT5EAX3D9S</td>\n",
       "      <td>1384719342</td>\n",
       "      <td>5.0</td>\n",
       "      <td>the product does exactly as it should and is q...</td>\n",
       "      <td>2013</td>\n",
       "      <td>03</td>\n",
       "      <td>16</td>\n",
       "      <td>0.93</td>\n",
       "    </tr>\n",
       "    <tr>\n",
       "      <th>2</th>\n",
       "      <td>A195EZSQDW3E21</td>\n",
       "      <td>1384719342</td>\n",
       "      <td>5.0</td>\n",
       "      <td>the primary job of this device is to block the...</td>\n",
       "      <td>2013</td>\n",
       "      <td>08</td>\n",
       "      <td>28</td>\n",
       "      <td>1.00</td>\n",
       "    </tr>\n",
       "    <tr>\n",
       "      <th>3</th>\n",
       "      <td>A2C00NNG1ZQQG2</td>\n",
       "      <td>1384719342</td>\n",
       "      <td>5.0</td>\n",
       "      <td>nice windscreen protects my mxl mic and preven...</td>\n",
       "      <td>2014</td>\n",
       "      <td>02</td>\n",
       "      <td>14</td>\n",
       "      <td>0.00</td>\n",
       "    </tr>\n",
       "    <tr>\n",
       "      <th>4</th>\n",
       "      <td>A94QU4C90B1AX</td>\n",
       "      <td>1384719342</td>\n",
       "      <td>5.0</td>\n",
       "      <td>this pop filter is great it looks and performs...</td>\n",
       "      <td>2014</td>\n",
       "      <td>02</td>\n",
       "      <td>21</td>\n",
       "      <td>0.00</td>\n",
       "    </tr>\n",
       "  </tbody>\n",
       "</table>\n",
       "</div>"
      ],
      "text/plain": [
       "        review_id        asin  overall  \\\n",
       "0  A2IBPI20UZIR0U  1384719342      5.0   \n",
       "1  A14VAT5EAX3D9S  1384719342      5.0   \n",
       "2  A195EZSQDW3E21  1384719342      5.0   \n",
       "3  A2C00NNG1ZQQG2  1384719342      5.0   \n",
       "4   A94QU4C90B1AX  1384719342      5.0   \n",
       "\n",
       "                                             reviews   year month day  \\\n",
       "0  not much to write about here but it does exact...   2014    02  28   \n",
       "1  the product does exactly as it should and is q...   2013    03  16   \n",
       "2  the primary job of this device is to block the...   2013    08  28   \n",
       "3  nice windscreen protects my mxl mic and preven...   2014    02  14   \n",
       "4  this pop filter is great it looks and performs...   2014    02  21   \n",
       "\n",
       "   helpful_rate  \n",
       "0          0.00  \n",
       "1          0.93  \n",
       "2          1.00  \n",
       "3          0.00  \n",
       "4          0.00  "
      ]
     },
     "execution_count": 76,
     "metadata": {},
     "output_type": "execute_result"
    }
   ],
   "source": [
    "data.head()"
   ]
  },
  {
   "cell_type": "code",
   "execution_count": 77,
   "id": "9cb67c65",
   "metadata": {
    "ExecuteTime": {
     "end_time": "2021-10-21T11:26:52.275819Z",
     "start_time": "2021-10-21T11:26:52.213817Z"
    }
   },
   "outputs": [],
   "source": [
    "#Review text-Stop words Coming to stop words, general nltk stop words contains \n",
    "#words like not,hasn't,would'nt which actually conveys a negative sentiment. \n",
    "#If we remove that it will end up contradicting the target variable(sentiment). \n",
    "#So I have curated the stop words which doesn't have any negative sentiment or any negative alternatives."
   ]
  },
  {
   "cell_type": "code",
   "execution_count": 78,
   "id": "c3ad8107",
   "metadata": {
    "ExecuteTime": {
     "end_time": "2021-10-21T11:26:52.337653Z",
     "start_time": "2021-10-21T11:26:52.276788Z"
    }
   },
   "outputs": [],
   "source": [
    "stop_words= ['yourselves', 'between', 'whom', 'itself', 'is', \"she's\", 'up', 'herself', 'here', 'your', 'each', \n",
    "             'we', 'he', 'my', \"you've\", 'having', 'in', 'both', 'for', 'themselves', 'are', 'them', 'other',\n",
    "             'and', 'an', 'during', 'their', 'can', 'yourself', 'she', 'until', 'so', 'these', 'ours', 'above', \n",
    "             'what', 'while', 'have', 're', 'more', 'only', \"needn't\", 'when', 'just', 'that', 'were', \"don't\", \n",
    "             'very', 'should', 'any', 'y', 'isn', 'who',  'a', 'they', 'to', 'too', \"should've\", 'has', 'before',\n",
    "             'into', 'yours', \"it's\", 'do', 'against', 'on',  'now', 'her', 've', 'd', 'by', 'am', 'from', \n",
    "             'about', 'further', \"that'll\", \"you'd\", 'you', 'as', 'how', 'been', 'the', 'or', 'doing', 'such',\n",
    "             'his', 'himself', 'ourselves',  'was', 'through', 'out', 'below', 'own', 'myself', 'theirs', \n",
    "             'me', 'why', 'once',  'him', 'than', 'be', 'most', \"you'll\", 'same', 'some', 'with', 'few', 'it',\n",
    "             'at', 'after', 'its', 'which', 'there','our', 'this', 'hers', 'being', 'did', 'of', 'had', 'under',\n",
    "             'over','again', 'where', 'those', 'then', \"you're\", 'i', 'because', 'does', 'all']"
   ]
  },
  {
   "cell_type": "code",
   "execution_count": 79,
   "id": "21e38405",
   "metadata": {
    "ExecuteTime": {
     "end_time": "2021-10-21T11:26:53.505099Z",
     "start_time": "2021-10-21T11:26:52.340618Z"
    }
   },
   "outputs": [
    {
     "data": {
      "text/html": [
       "<div>\n",
       "<style scoped>\n",
       "    .dataframe tbody tr th:only-of-type {\n",
       "        vertical-align: middle;\n",
       "    }\n",
       "\n",
       "    .dataframe tbody tr th {\n",
       "        vertical-align: top;\n",
       "    }\n",
       "\n",
       "    .dataframe thead th {\n",
       "        text-align: right;\n",
       "    }\n",
       "</style>\n",
       "<table border=\"1\" class=\"dataframe\">\n",
       "  <thead>\n",
       "    <tr style=\"text-align: right;\">\n",
       "      <th></th>\n",
       "      <th>review_id</th>\n",
       "      <th>asin</th>\n",
       "      <th>overall</th>\n",
       "      <th>reviews</th>\n",
       "      <th>year</th>\n",
       "      <th>month</th>\n",
       "      <th>day</th>\n",
       "      <th>helpful_rate</th>\n",
       "    </tr>\n",
       "  </thead>\n",
       "  <tbody>\n",
       "    <tr>\n",
       "      <th>0</th>\n",
       "      <td>A2IBPI20UZIR0U</td>\n",
       "      <td>1384719342</td>\n",
       "      <td>5.0</td>\n",
       "      <td>not much write but exactly supposed filters po...</td>\n",
       "      <td>2014</td>\n",
       "      <td>02</td>\n",
       "      <td>28</td>\n",
       "      <td>0.00</td>\n",
       "    </tr>\n",
       "    <tr>\n",
       "      <th>1</th>\n",
       "      <td>A14VAT5EAX3D9S</td>\n",
       "      <td>1384719342</td>\n",
       "      <td>5.0</td>\n",
       "      <td>product exactly quite affordablei not realized...</td>\n",
       "      <td>2013</td>\n",
       "      <td>03</td>\n",
       "      <td>16</td>\n",
       "      <td>0.93</td>\n",
       "    </tr>\n",
       "    <tr>\n",
       "      <th>2</th>\n",
       "      <td>A195EZSQDW3E21</td>\n",
       "      <td>1384719342</td>\n",
       "      <td>5.0</td>\n",
       "      <td>primary job device block breath would otherwis...</td>\n",
       "      <td>2013</td>\n",
       "      <td>08</td>\n",
       "      <td>28</td>\n",
       "      <td>1.00</td>\n",
       "    </tr>\n",
       "    <tr>\n",
       "      <th>3</th>\n",
       "      <td>A2C00NNG1ZQQG2</td>\n",
       "      <td>1384719342</td>\n",
       "      <td>5.0</td>\n",
       "      <td>nice windscreen protects mxl mic prevents pops...</td>\n",
       "      <td>2014</td>\n",
       "      <td>02</td>\n",
       "      <td>14</td>\n",
       "      <td>0.00</td>\n",
       "    </tr>\n",
       "    <tr>\n",
       "      <th>4</th>\n",
       "      <td>A94QU4C90B1AX</td>\n",
       "      <td>1384719342</td>\n",
       "      <td>5.0</td>\n",
       "      <td>pop filter great looks performs like studio fi...</td>\n",
       "      <td>2014</td>\n",
       "      <td>02</td>\n",
       "      <td>21</td>\n",
       "      <td>0.00</td>\n",
       "    </tr>\n",
       "  </tbody>\n",
       "</table>\n",
       "</div>"
      ],
      "text/plain": [
       "        review_id        asin  overall  \\\n",
       "0  A2IBPI20UZIR0U  1384719342      5.0   \n",
       "1  A14VAT5EAX3D9S  1384719342      5.0   \n",
       "2  A195EZSQDW3E21  1384719342      5.0   \n",
       "3  A2C00NNG1ZQQG2  1384719342      5.0   \n",
       "4   A94QU4C90B1AX  1384719342      5.0   \n",
       "\n",
       "                                             reviews   year month day  \\\n",
       "0  not much write but exactly supposed filters po...   2014    02  28   \n",
       "1  product exactly quite affordablei not realized...   2013    03  16   \n",
       "2  primary job device block breath would otherwis...   2013    08  28   \n",
       "3  nice windscreen protects mxl mic prevents pops...   2014    02  14   \n",
       "4  pop filter great looks performs like studio fi...   2014    02  21   \n",
       "\n",
       "   helpful_rate  \n",
       "0          0.00  \n",
       "1          0.93  \n",
       "2          1.00  \n",
       "3          0.00  \n",
       "4          0.00  "
      ]
     },
     "execution_count": 79,
     "metadata": {},
     "output_type": "execute_result"
    }
   ],
   "source": [
    "data['reviews'] = data['reviews'].apply(lambda x: ' '.join(\n",
    "    [word for word in x.split() if word not in (stop_words)]))\n",
    "data.head()"
   ]
  },
  {
   "cell_type": "code",
   "execution_count": 80,
   "id": "fd49e76b",
   "metadata": {
    "ExecuteTime": {
     "end_time": "2021-10-21T11:26:53.521029Z",
     "start_time": "2021-10-21T11:26:53.507066Z"
    }
   },
   "outputs": [],
   "source": [
    "#Calculate sentiment value for reviews"
   ]
  },
  {
   "cell_type": "code",
   "execution_count": 81,
   "id": "eb8206f3",
   "metadata": {
    "ExecuteTime": {
     "end_time": "2021-10-21T11:26:53.598848Z",
     "start_time": "2021-10-21T11:26:53.523022Z"
    }
   },
   "outputs": [
    {
     "data": {
      "text/plain": [
       "(2477, 2)"
      ]
     },
     "execution_count": 81,
     "metadata": {},
     "output_type": "execute_result"
    }
   ],
   "source": [
    "afinn = pd.read_csv('Afinn.csv', sep=',', encoding='latin-1')\n",
    "afinn.shape"
   ]
  },
  {
   "cell_type": "code",
   "execution_count": 82,
   "id": "7c89c45e",
   "metadata": {
    "ExecuteTime": {
     "end_time": "2021-10-21T11:26:53.660683Z",
     "start_time": "2021-10-21T11:26:53.599829Z"
    }
   },
   "outputs": [
    {
     "data": {
      "text/html": [
       "<div>\n",
       "<style scoped>\n",
       "    .dataframe tbody tr th:only-of-type {\n",
       "        vertical-align: middle;\n",
       "    }\n",
       "\n",
       "    .dataframe tbody tr th {\n",
       "        vertical-align: top;\n",
       "    }\n",
       "\n",
       "    .dataframe thead th {\n",
       "        text-align: right;\n",
       "    }\n",
       "</style>\n",
       "<table border=\"1\" class=\"dataframe\">\n",
       "  <thead>\n",
       "    <tr style=\"text-align: right;\">\n",
       "      <th></th>\n",
       "      <th>word</th>\n",
       "      <th>value</th>\n",
       "    </tr>\n",
       "  </thead>\n",
       "  <tbody>\n",
       "    <tr>\n",
       "      <th>0</th>\n",
       "      <td>abandon</td>\n",
       "      <td>-2</td>\n",
       "    </tr>\n",
       "    <tr>\n",
       "      <th>1</th>\n",
       "      <td>abandoned</td>\n",
       "      <td>-2</td>\n",
       "    </tr>\n",
       "    <tr>\n",
       "      <th>2</th>\n",
       "      <td>abandons</td>\n",
       "      <td>-2</td>\n",
       "    </tr>\n",
       "    <tr>\n",
       "      <th>3</th>\n",
       "      <td>abducted</td>\n",
       "      <td>-2</td>\n",
       "    </tr>\n",
       "    <tr>\n",
       "      <th>4</th>\n",
       "      <td>abduction</td>\n",
       "      <td>-2</td>\n",
       "    </tr>\n",
       "  </tbody>\n",
       "</table>\n",
       "</div>"
      ],
      "text/plain": [
       "        word  value\n",
       "0    abandon     -2\n",
       "1  abandoned     -2\n",
       "2   abandons     -2\n",
       "3   abducted     -2\n",
       "4  abduction     -2"
      ]
     },
     "execution_count": 82,
     "metadata": {},
     "output_type": "execute_result"
    }
   ],
   "source": [
    "afinn.head()"
   ]
  },
  {
   "cell_type": "code",
   "execution_count": 83,
   "id": "c7238cdd",
   "metadata": {
    "ExecuteTime": {
     "end_time": "2021-10-21T11:26:53.722643Z",
     "start_time": "2021-10-21T11:26:53.661653Z"
    }
   },
   "outputs": [],
   "source": [
    "affinity_scores = afinn.set_index('word')['value'].to_dict()"
   ]
  },
  {
   "cell_type": "code",
   "execution_count": 84,
   "id": "c7c7dcbc",
   "metadata": {
    "ExecuteTime": {
     "end_time": "2021-10-21T11:26:54.093652Z",
     "start_time": "2021-10-21T11:26:53.723669Z"
    }
   },
   "outputs": [],
   "source": [
    "#Custom function :score each word in a sentence in lemmatised form, \n",
    "#but calculate the score for the whole original sentence.\n",
    "nlp = spacy.load(\"en_core_web_sm\")\n",
    "sentiment_lexicon = affinity_scores\n",
    "\n",
    "def calculate_sentiment(text: str = None):\n",
    "    sent_score = 0\n",
    "    if text:\n",
    "        sentence = nlp(text)\n",
    "        for word in sentence:\n",
    "            sent_score += sentiment_lexicon.get(word.lemma_, 0)\n",
    "    return sent_score"
   ]
  },
  {
   "cell_type": "code",
   "execution_count": 85,
   "id": "0029baff",
   "metadata": {
    "ExecuteTime": {
     "end_time": "2021-10-21T11:26:54.108612Z",
     "start_time": "2021-10-21T11:26:54.094650Z"
    }
   },
   "outputs": [
    {
     "data": {
      "text/plain": [
       "3"
      ]
     },
     "execution_count": 85,
     "metadata": {},
     "output_type": "execute_result"
    }
   ],
   "source": [
    "# test that it works\n",
    "calculate_sentiment(text = 'nice')"
   ]
  },
  {
   "cell_type": "code",
   "execution_count": 86,
   "id": "e2c7a9d9",
   "metadata": {
    "ExecuteTime": {
     "end_time": "2021-10-21T11:28:15.982524Z",
     "start_time": "2021-10-21T11:26:54.109610Z"
    }
   },
   "outputs": [],
   "source": [
    "data['sentiment_value'] = data['reviews'].apply(calculate_sentiment)"
   ]
  },
  {
   "cell_type": "code",
   "execution_count": 87,
   "id": "ccbf235c",
   "metadata": {
    "ExecuteTime": {
     "end_time": "2021-10-21T11:28:15.998481Z",
     "start_time": "2021-10-21T11:28:15.983522Z"
    }
   },
   "outputs": [
    {
     "data": {
      "text/html": [
       "<div>\n",
       "<style scoped>\n",
       "    .dataframe tbody tr th:only-of-type {\n",
       "        vertical-align: middle;\n",
       "    }\n",
       "\n",
       "    .dataframe tbody tr th {\n",
       "        vertical-align: top;\n",
       "    }\n",
       "\n",
       "    .dataframe thead th {\n",
       "        text-align: right;\n",
       "    }\n",
       "</style>\n",
       "<table border=\"1\" class=\"dataframe\">\n",
       "  <thead>\n",
       "    <tr style=\"text-align: right;\">\n",
       "      <th></th>\n",
       "      <th>review_id</th>\n",
       "      <th>asin</th>\n",
       "      <th>overall</th>\n",
       "      <th>reviews</th>\n",
       "      <th>year</th>\n",
       "      <th>month</th>\n",
       "      <th>day</th>\n",
       "      <th>helpful_rate</th>\n",
       "      <th>sentiment_value</th>\n",
       "    </tr>\n",
       "  </thead>\n",
       "  <tbody>\n",
       "    <tr>\n",
       "      <th>0</th>\n",
       "      <td>A2IBPI20UZIR0U</td>\n",
       "      <td>1384719342</td>\n",
       "      <td>5.0</td>\n",
       "      <td>not much write but exactly supposed filters po...</td>\n",
       "      <td>2014</td>\n",
       "      <td>02</td>\n",
       "      <td>28</td>\n",
       "      <td>0.00</td>\n",
       "      <td>0</td>\n",
       "    </tr>\n",
       "    <tr>\n",
       "      <th>1</th>\n",
       "      <td>A14VAT5EAX3D9S</td>\n",
       "      <td>1384719342</td>\n",
       "      <td>5.0</td>\n",
       "      <td>product exactly quite affordablei not realized...</td>\n",
       "      <td>2013</td>\n",
       "      <td>03</td>\n",
       "      <td>16</td>\n",
       "      <td>0.93</td>\n",
       "      <td>2</td>\n",
       "    </tr>\n",
       "    <tr>\n",
       "      <th>2</th>\n",
       "      <td>A195EZSQDW3E21</td>\n",
       "      <td>1384719342</td>\n",
       "      <td>5.0</td>\n",
       "      <td>primary job device block breath would otherwis...</td>\n",
       "      <td>2013</td>\n",
       "      <td>08</td>\n",
       "      <td>28</td>\n",
       "      <td>1.00</td>\n",
       "      <td>-1</td>\n",
       "    </tr>\n",
       "    <tr>\n",
       "      <th>3</th>\n",
       "      <td>A2C00NNG1ZQQG2</td>\n",
       "      <td>1384719342</td>\n",
       "      <td>5.0</td>\n",
       "      <td>nice windscreen protects mxl mic prevents pops...</td>\n",
       "      <td>2014</td>\n",
       "      <td>02</td>\n",
       "      <td>14</td>\n",
       "      <td>0.00</td>\n",
       "      <td>4</td>\n",
       "    </tr>\n",
       "    <tr>\n",
       "      <th>4</th>\n",
       "      <td>A94QU4C90B1AX</td>\n",
       "      <td>1384719342</td>\n",
       "      <td>5.0</td>\n",
       "      <td>pop filter great looks performs like studio fi...</td>\n",
       "      <td>2014</td>\n",
       "      <td>02</td>\n",
       "      <td>21</td>\n",
       "      <td>0.00</td>\n",
       "      <td>5</td>\n",
       "    </tr>\n",
       "    <tr>\n",
       "      <th>...</th>\n",
       "      <td>...</td>\n",
       "      <td>...</td>\n",
       "      <td>...</td>\n",
       "      <td>...</td>\n",
       "      <td>...</td>\n",
       "      <td>...</td>\n",
       "      <td>...</td>\n",
       "      <td>...</td>\n",
       "      <td>...</td>\n",
       "    </tr>\n",
       "    <tr>\n",
       "      <th>10256</th>\n",
       "      <td>A14B2YH83ZXMPP</td>\n",
       "      <td>B00JBIVXGC</td>\n",
       "      <td>5.0</td>\n",
       "      <td>great expected thank allfive stars</td>\n",
       "      <td>2014</td>\n",
       "      <td>07</td>\n",
       "      <td>20</td>\n",
       "      <td>0.00</td>\n",
       "      <td>5</td>\n",
       "    </tr>\n",
       "    <tr>\n",
       "      <th>10257</th>\n",
       "      <td>A1RPTVW5VEOSI</td>\n",
       "      <td>B00JBIVXGC</td>\n",
       "      <td>5.0</td>\n",
       "      <td>ive thinking trying nanoweb strings but bit pu...</td>\n",
       "      <td>2014</td>\n",
       "      <td>07</td>\n",
       "      <td>2</td>\n",
       "      <td>0.00</td>\n",
       "      <td>26</td>\n",
       "    </tr>\n",
       "    <tr>\n",
       "      <th>10258</th>\n",
       "      <td>AWCJ12KBO5VII</td>\n",
       "      <td>B00JBIVXGC</td>\n",
       "      <td>4.0</td>\n",
       "      <td>tried coated strings past including elixirs ne...</td>\n",
       "      <td>2014</td>\n",
       "      <td>07</td>\n",
       "      <td>22</td>\n",
       "      <td>0.00</td>\n",
       "      <td>11</td>\n",
       "    </tr>\n",
       "    <tr>\n",
       "      <th>10259</th>\n",
       "      <td>A2Z7S8B5U4PAKJ</td>\n",
       "      <td>B00JBIVXGC</td>\n",
       "      <td>4.0</td>\n",
       "      <td>well made elixir developed taylor guitars stri...</td>\n",
       "      <td>2014</td>\n",
       "      <td>07</td>\n",
       "      <td>1</td>\n",
       "      <td>0.00</td>\n",
       "      <td>16</td>\n",
       "    </tr>\n",
       "    <tr>\n",
       "      <th>10260</th>\n",
       "      <td>A2WA8TDCTGUADI</td>\n",
       "      <td>B00JBIVXGC</td>\n",
       "      <td>4.0</td>\n",
       "      <td>strings really quite good but wouldnt call per...</td>\n",
       "      <td>2014</td>\n",
       "      <td>07</td>\n",
       "      <td>16</td>\n",
       "      <td>0.00</td>\n",
       "      <td>21</td>\n",
       "    </tr>\n",
       "  </tbody>\n",
       "</table>\n",
       "<p>10261 rows × 9 columns</p>\n",
       "</div>"
      ],
      "text/plain": [
       "            review_id        asin  overall  \\\n",
       "0      A2IBPI20UZIR0U  1384719342      5.0   \n",
       "1      A14VAT5EAX3D9S  1384719342      5.0   \n",
       "2      A195EZSQDW3E21  1384719342      5.0   \n",
       "3      A2C00NNG1ZQQG2  1384719342      5.0   \n",
       "4       A94QU4C90B1AX  1384719342      5.0   \n",
       "...               ...         ...      ...   \n",
       "10256  A14B2YH83ZXMPP  B00JBIVXGC      5.0   \n",
       "10257   A1RPTVW5VEOSI  B00JBIVXGC      5.0   \n",
       "10258   AWCJ12KBO5VII  B00JBIVXGC      4.0   \n",
       "10259  A2Z7S8B5U4PAKJ  B00JBIVXGC      4.0   \n",
       "10260  A2WA8TDCTGUADI  B00JBIVXGC      4.0   \n",
       "\n",
       "                                                 reviews   year month day  \\\n",
       "0      not much write but exactly supposed filters po...   2014    02  28   \n",
       "1      product exactly quite affordablei not realized...   2013    03  16   \n",
       "2      primary job device block breath would otherwis...   2013    08  28   \n",
       "3      nice windscreen protects mxl mic prevents pops...   2014    02  14   \n",
       "4      pop filter great looks performs like studio fi...   2014    02  21   \n",
       "...                                                  ...    ...   ...  ..   \n",
       "10256                 great expected thank allfive stars   2014    07  20   \n",
       "10257  ive thinking trying nanoweb strings but bit pu...   2014    07   2   \n",
       "10258  tried coated strings past including elixirs ne...   2014    07  22   \n",
       "10259  well made elixir developed taylor guitars stri...   2014    07   1   \n",
       "10260  strings really quite good but wouldnt call per...   2014    07  16   \n",
       "\n",
       "       helpful_rate  sentiment_value  \n",
       "0              0.00                0  \n",
       "1              0.93                2  \n",
       "2              1.00               -1  \n",
       "3              0.00                4  \n",
       "4              0.00                5  \n",
       "...             ...              ...  \n",
       "10256          0.00                5  \n",
       "10257          0.00               26  \n",
       "10258          0.00               11  \n",
       "10259          0.00               16  \n",
       "10260          0.00               21  \n",
       "\n",
       "[10261 rows x 9 columns]"
      ]
     },
     "execution_count": 87,
     "metadata": {},
     "output_type": "execute_result"
    }
   ],
   "source": [
    "data"
   ]
  },
  {
   "cell_type": "code",
   "execution_count": 88,
   "id": "750ec99d",
   "metadata": {
    "ExecuteTime": {
     "end_time": "2021-10-21T11:28:16.199943Z",
     "start_time": "2021-10-21T11:28:15.999479Z"
    }
   },
   "outputs": [
    {
     "data": {
      "text/plain": [
       "0         25\n",
       "1         55\n",
       "2         48\n",
       "3         22\n",
       "4         21\n",
       "        ... \n",
       "10256      5\n",
       "10257    291\n",
       "10258     58\n",
       "10259    153\n",
       "10260     61\n",
       "Name: word_count, Length: 10261, dtype: int64"
      ]
     },
     "execution_count": 88,
     "metadata": {},
     "output_type": "execute_result"
    }
   ],
   "source": [
    "# how many words are in the sentence?\n",
    "data['word_count'] = data['reviews'].str.split().apply(len)\n",
    "data['word_count']"
   ]
  },
  {
   "cell_type": "code",
   "execution_count": 89,
   "id": "210c2528",
   "metadata": {
    "ExecuteTime": {
     "end_time": "2021-10-21T11:28:16.245820Z",
     "start_time": "2021-10-21T11:28:16.200941Z"
    }
   },
   "outputs": [
    {
     "data": {
      "text/html": [
       "<div>\n",
       "<style scoped>\n",
       "    .dataframe tbody tr th:only-of-type {\n",
       "        vertical-align: middle;\n",
       "    }\n",
       "\n",
       "    .dataframe tbody tr th {\n",
       "        vertical-align: top;\n",
       "    }\n",
       "\n",
       "    .dataframe thead th {\n",
       "        text-align: right;\n",
       "    }\n",
       "</style>\n",
       "<table border=\"1\" class=\"dataframe\">\n",
       "  <thead>\n",
       "    <tr style=\"text-align: right;\">\n",
       "      <th></th>\n",
       "      <th>review_id</th>\n",
       "      <th>asin</th>\n",
       "      <th>overall</th>\n",
       "      <th>reviews</th>\n",
       "      <th>year</th>\n",
       "      <th>month</th>\n",
       "      <th>day</th>\n",
       "      <th>helpful_rate</th>\n",
       "      <th>sentiment_value</th>\n",
       "      <th>word_count</th>\n",
       "    </tr>\n",
       "  </thead>\n",
       "  <tbody>\n",
       "    <tr>\n",
       "      <th>6758</th>\n",
       "      <td>A3FQ9WYUHG9CD</td>\n",
       "      <td>B001OLZYUU</td>\n",
       "      <td>4.0</td>\n",
       "      <td>fender treated polish cloth soft ecru colored ...</td>\n",
       "      <td>2013</td>\n",
       "      <td>12</td>\n",
       "      <td>4</td>\n",
       "      <td>0.00</td>\n",
       "      <td>-35</td>\n",
       "      <td>349</td>\n",
       "    </tr>\n",
       "    <tr>\n",
       "      <th>5678</th>\n",
       "      <td>A34WEXT7SIRFE4</td>\n",
       "      <td>B000ULAP4U</td>\n",
       "      <td>2.0</td>\n",
       "      <td>cans decent back bucks theyve inflated thats r...</td>\n",
       "      <td>2012</td>\n",
       "      <td>02</td>\n",
       "      <td>3</td>\n",
       "      <td>0.64</td>\n",
       "      <td>-30</td>\n",
       "      <td>105</td>\n",
       "    </tr>\n",
       "    <tr>\n",
       "      <th>4112</th>\n",
       "      <td>A3M9FH2OZKYF4D</td>\n",
       "      <td>B000A2HOB6</td>\n",
       "      <td>1.0</td>\n",
       "      <td>crikey begin firstly hated fact package two st...</td>\n",
       "      <td>2013</td>\n",
       "      <td>06</td>\n",
       "      <td>23</td>\n",
       "      <td>0.50</td>\n",
       "      <td>-27</td>\n",
       "      <td>67</td>\n",
       "    </tr>\n",
       "    <tr>\n",
       "      <th>8812</th>\n",
       "      <td>A165EMA3YTIM6A</td>\n",
       "      <td>B004UJO41S</td>\n",
       "      <td>1.0</td>\n",
       "      <td>downgrade star returning back brookmays seller...</td>\n",
       "      <td>2012</td>\n",
       "      <td>01</td>\n",
       "      <td>3</td>\n",
       "      <td>0.09</td>\n",
       "      <td>-20</td>\n",
       "      <td>410</td>\n",
       "    </tr>\n",
       "    <tr>\n",
       "      <th>9364</th>\n",
       "      <td>A3D1A0YHTT0E9G</td>\n",
       "      <td>B005OZE9SA</td>\n",
       "      <td>1.0</td>\n",
       "      <td>updated owning year encountering many difficul...</td>\n",
       "      <td>2012</td>\n",
       "      <td>10</td>\n",
       "      <td>29</td>\n",
       "      <td>0.90</td>\n",
       "      <td>-16</td>\n",
       "      <td>268</td>\n",
       "    </tr>\n",
       "    <tr>\n",
       "      <th>...</th>\n",
       "      <td>...</td>\n",
       "      <td>...</td>\n",
       "      <td>...</td>\n",
       "      <td>...</td>\n",
       "      <td>...</td>\n",
       "      <td>...</td>\n",
       "      <td>...</td>\n",
       "      <td>...</td>\n",
       "      <td>...</td>\n",
       "      <td>...</td>\n",
       "    </tr>\n",
       "    <tr>\n",
       "      <th>8500</th>\n",
       "      <td>ADH0O8UVJOT10</td>\n",
       "      <td>B0043RZ9QQ</td>\n",
       "      <td>5.0</td>\n",
       "      <td>unfamiliar voxs amplug products things amazing...</td>\n",
       "      <td>2012</td>\n",
       "      <td>10</td>\n",
       "      <td>24</td>\n",
       "      <td>1.00</td>\n",
       "      <td>78</td>\n",
       "      <td>501</td>\n",
       "    </tr>\n",
       "    <tr>\n",
       "      <th>6576</th>\n",
       "      <td>A20JJ8634DG3FS</td>\n",
       "      <td>B001I8ITQA</td>\n",
       "      <td>5.0</td>\n",
       "      <td>comparisons compared side side following pedal...</td>\n",
       "      <td>2013</td>\n",
       "      <td>08</td>\n",
       "      <td>21</td>\n",
       "      <td>1.00</td>\n",
       "      <td>98</td>\n",
       "      <td>1129</td>\n",
       "    </tr>\n",
       "    <tr>\n",
       "      <th>5973</th>\n",
       "      <td>A1LCG14GZJI5LO</td>\n",
       "      <td>B000Y7Q2C4</td>\n",
       "      <td>5.0</td>\n",
       "      <td>love capo let tell capo journey ive used every...</td>\n",
       "      <td>2014</td>\n",
       "      <td>05</td>\n",
       "      <td>30</td>\n",
       "      <td>1.00</td>\n",
       "      <td>105</td>\n",
       "      <td>637</td>\n",
       "    </tr>\n",
       "    <tr>\n",
       "      <th>8636</th>\n",
       "      <td>A35YS5ND3K5FN</td>\n",
       "      <td>B004ISK48S</td>\n",
       "      <td>5.0</td>\n",
       "      <td>constructionthis amp certainly looks sharp not...</td>\n",
       "      <td>2011</td>\n",
       "      <td>02</td>\n",
       "      <td>10</td>\n",
       "      <td>0.99</td>\n",
       "      <td>130</td>\n",
       "      <td>719</td>\n",
       "    </tr>\n",
       "    <tr>\n",
       "      <th>412</th>\n",
       "      <td>A27L5L6I7OSV5B</td>\n",
       "      <td>B0002CZV82</td>\n",
       "      <td>2.0</td>\n",
       "      <td>greg abrams review entitled but tone snobs rev...</td>\n",
       "      <td>2011</td>\n",
       "      <td>06</td>\n",
       "      <td>30</td>\n",
       "      <td>0.95</td>\n",
       "      <td>139</td>\n",
       "      <td>713</td>\n",
       "    </tr>\n",
       "  </tbody>\n",
       "</table>\n",
       "<p>10261 rows × 10 columns</p>\n",
       "</div>"
      ],
      "text/plain": [
       "           review_id        asin  overall  \\\n",
       "6758   A3FQ9WYUHG9CD  B001OLZYUU      4.0   \n",
       "5678  A34WEXT7SIRFE4  B000ULAP4U      2.0   \n",
       "4112  A3M9FH2OZKYF4D  B000A2HOB6      1.0   \n",
       "8812  A165EMA3YTIM6A  B004UJO41S      1.0   \n",
       "9364  A3D1A0YHTT0E9G  B005OZE9SA      1.0   \n",
       "...              ...         ...      ...   \n",
       "8500   ADH0O8UVJOT10  B0043RZ9QQ      5.0   \n",
       "6576  A20JJ8634DG3FS  B001I8ITQA      5.0   \n",
       "5973  A1LCG14GZJI5LO  B000Y7Q2C4      5.0   \n",
       "8636   A35YS5ND3K5FN  B004ISK48S      5.0   \n",
       "412   A27L5L6I7OSV5B  B0002CZV82      2.0   \n",
       "\n",
       "                                                reviews   year month day  \\\n",
       "6758  fender treated polish cloth soft ecru colored ...   2013    12   4   \n",
       "5678  cans decent back bucks theyve inflated thats r...   2012    02   3   \n",
       "4112  crikey begin firstly hated fact package two st...   2013    06  23   \n",
       "8812  downgrade star returning back brookmays seller...   2012    01   3   \n",
       "9364  updated owning year encountering many difficul...   2012    10  29   \n",
       "...                                                 ...    ...   ...  ..   \n",
       "8500  unfamiliar voxs amplug products things amazing...   2012    10  24   \n",
       "6576  comparisons compared side side following pedal...   2013    08  21   \n",
       "5973  love capo let tell capo journey ive used every...   2014    05  30   \n",
       "8636  constructionthis amp certainly looks sharp not...   2011    02  10   \n",
       "412   greg abrams review entitled but tone snobs rev...   2011    06  30   \n",
       "\n",
       "      helpful_rate  sentiment_value  word_count  \n",
       "6758          0.00              -35         349  \n",
       "5678          0.64              -30         105  \n",
       "4112          0.50              -27          67  \n",
       "8812          0.09              -20         410  \n",
       "9364          0.90              -16         268  \n",
       "...            ...              ...         ...  \n",
       "8500          1.00               78         501  \n",
       "6576          1.00               98        1129  \n",
       "5973          1.00              105         637  \n",
       "8636          0.99              130         719  \n",
       "412           0.95              139         713  \n",
       "\n",
       "[10261 rows x 10 columns]"
      ]
     },
     "execution_count": 89,
     "metadata": {},
     "output_type": "execute_result"
    }
   ],
   "source": [
    "data.sort_values(by='sentiment_value')"
   ]
  },
  {
   "cell_type": "code",
   "execution_count": 90,
   "id": "e7ab46bf",
   "metadata": {
    "ExecuteTime": {
     "end_time": "2021-10-21T11:28:16.322615Z",
     "start_time": "2021-10-21T11:28:16.246820Z"
    }
   },
   "outputs": [
    {
     "data": {
      "text/plain": [
       "139"
      ]
     },
     "execution_count": 90,
     "metadata": {},
     "output_type": "execute_result"
    }
   ],
   "source": [
    "# Maximum sentiment value\n",
    "data['sentiment_value'].max()"
   ]
  },
  {
   "cell_type": "code",
   "execution_count": 91,
   "id": "be684914",
   "metadata": {
    "ExecuteTime": {
     "end_time": "2021-10-21T11:28:16.400408Z",
     "start_time": "2021-10-21T11:28:16.323613Z"
    }
   },
   "outputs": [
    {
     "data": {
      "text/html": [
       "<div>\n",
       "<style scoped>\n",
       "    .dataframe tbody tr th:only-of-type {\n",
       "        vertical-align: middle;\n",
       "    }\n",
       "\n",
       "    .dataframe tbody tr th {\n",
       "        vertical-align: top;\n",
       "    }\n",
       "\n",
       "    .dataframe thead th {\n",
       "        text-align: right;\n",
       "    }\n",
       "</style>\n",
       "<table border=\"1\" class=\"dataframe\">\n",
       "  <thead>\n",
       "    <tr style=\"text-align: right;\">\n",
       "      <th></th>\n",
       "      <th>review_id</th>\n",
       "      <th>asin</th>\n",
       "      <th>overall</th>\n",
       "      <th>reviews</th>\n",
       "      <th>year</th>\n",
       "      <th>month</th>\n",
       "      <th>day</th>\n",
       "      <th>helpful_rate</th>\n",
       "      <th>sentiment_value</th>\n",
       "      <th>word_count</th>\n",
       "    </tr>\n",
       "  </thead>\n",
       "  <tbody>\n",
       "    <tr>\n",
       "      <th>412</th>\n",
       "      <td>A27L5L6I7OSV5B</td>\n",
       "      <td>B0002CZV82</td>\n",
       "      <td>2.0</td>\n",
       "      <td>greg abrams review entitled but tone snobs rev...</td>\n",
       "      <td>2011</td>\n",
       "      <td>06</td>\n",
       "      <td>30</td>\n",
       "      <td>0.95</td>\n",
       "      <td>139</td>\n",
       "      <td>713</td>\n",
       "    </tr>\n",
       "  </tbody>\n",
       "</table>\n",
       "</div>"
      ],
      "text/plain": [
       "          review_id        asin  overall  \\\n",
       "412  A27L5L6I7OSV5B  B0002CZV82      2.0   \n",
       "\n",
       "                                               reviews   year month day  \\\n",
       "412  greg abrams review entitled but tone snobs rev...   2011    06  30   \n",
       "\n",
       "     helpful_rate  sentiment_value  word_count  \n",
       "412          0.95              139         713  "
      ]
     },
     "execution_count": 91,
     "metadata": {},
     "output_type": "execute_result"
    }
   ],
   "source": [
    "# review which is having max sentiment value\n",
    "data[data['sentiment_value']==139]"
   ]
  },
  {
   "cell_type": "code",
   "execution_count": 92,
   "id": "b596b2f5",
   "metadata": {
    "ExecuteTime": {
     "end_time": "2021-10-21T11:28:16.479197Z",
     "start_time": "2021-10-21T11:28:16.401404Z"
    }
   },
   "outputs": [],
   "source": [
    "#From above review, we can see that it's \"helpful_rate\" is also high"
   ]
  },
  {
   "cell_type": "code",
   "execution_count": 93,
   "id": "95a84b56",
   "metadata": {
    "ExecuteTime": {
     "end_time": "2021-10-21T11:28:16.540035Z",
     "start_time": "2021-10-21T11:28:16.480195Z"
    }
   },
   "outputs": [
    {
     "data": {
      "text/plain": [
       "'greg abrams review entitled but tone snobs review down products pagealright want get good if somewhat basic distortion sound less deali strongly disagree find much better distortions less even near mark currently priced ative played guitar years like many people one first pedal purchases afterall everyone talks theyre available given music store nation hear famous musicians using plus actually pretty cheap snapped one like everyone else come find something popular doesnt always mean good see nickelback transformers movie franchise kardashian family etcso plugged didnt really care distortion harsh thin artificial sounding always noisy tried amps practic amp solid state fender frontman big amp tube halfstack not diverse basic sound not likeable ive read japanese made better sound newer made taiwan models but either way not great pedal mindbut like many newer players didnt know better time fast forward years ive bought sold literally dozens pedals whole world great tones found if keep eyes openso pedals currently like much better great general purpose distortions easy enough find new used guitar shops time writing bought brand new less good ol amazoncom rugged enough last yearsboss turbo distortion lest catch flames people thinking im boss hater im certainly not loved among others ill start big brother pedal much nicer tone not mention distinct distortion modes setting pretty much higher quality ii setting brighter richer tone completely overshadows popularity find ebay cheap prices worthy pedal unfortunately overlooked manypro co great dirty distortion pedal probably personal favorite youve heard box used literally hundreds if not thousands songs last years used ridiculous amount guitarists rich full distortion higher gains gets slightly fuzzy ive never heard bad tone mine great getting big amp kind sound small practice amp also great pushing big amp much headroom overdriven sweet spot without crank amp volume truly excellent pedalehx little big muff big muff another pedal youve heard hundreds songs kind fuzz kind distortion but definitely owns sonic territory big saturated warm used heavily classic rock tones also beyond tons grunge garage used everyone carlos santana david gilmour smashing pumpkins dinosaur jr jack white personally reccomend little big muff not touch creamier tone recent nyc reissue smaller uses regular adapter cheaper great pedalmxr distortion distortion great first distortion usually found pretty cheap whats nice distortion sounds great anything lack tone knob helps keep somewhat transparent ie easily hear natural tone guitar amp doesnt cover equipments sound used quite famous folks including greatful deads jerry garcia randy rhoads ozzys famous guitarist steve jones sex pistolsdanelectro cool cat metal make sure get cool cat metal not metal ii thats fine pedal well but definitely traditional metal pedal cool cat metal actually different pedal metal pedals basically preamp sits floor fully adjustable eq tons volume gain roof anything clean boost gain minimum virtually no coloration tone high gain metal stuff plenty great overdrive rock tones works well amp ive tried find tons great sounds unbelievably versatile pedal even true bypass best part danelectro seems made way many easily find one used even new true hidden gem thats actually cheaper crunch distortion little guy surprised supposedly clone mi audio crunch box if must one awesome pedal essentially marshall stack box boy ever succeed great crunch tons volume gain really make practice amp sound like big ragin stack even sounded good going modeling amp pedals work well modeling amp one even sounded better marshall simualtion built get brand new one shipped fantasticspeaking joyo ive pedals well one two moen another chinese pedal maker im honestly floored nice sound given shockingly low price tag especially themoen mofm fuzz moowhich honestly big muffs every big muff ive ever played joyo moen make variety great sounding fuzz od dirt pedals check anyone gets arms supporting chinese company please keep mind none pedals listed review included made america let alone western hemispherehopefully suggestions give something look also if cant actually try pedal store youtube great place hear demos different pedals doi also mention if try love suits needs power tone subjective every pedal sounds different running different guitars amps may share different opinions something love thats okay main reason posting lengthy review give newer players information plenty options distortion pedals not thing thats affordable find something truly love buy if one pedals ive mentioned anything else important part sounds right youwish knew know'"
      ]
     },
     "execution_count": 93,
     "metadata": {},
     "output_type": "execute_result"
    }
   ],
   "source": [
    "# Full review at index 412\n",
    "data['reviews'][412]"
   ]
  },
  {
   "cell_type": "code",
   "execution_count": 94,
   "id": "6fa76ee8",
   "metadata": {
    "ExecuteTime": {
     "end_time": "2021-10-21T11:28:16.601893Z",
     "start_time": "2021-10-21T11:28:16.541032Z"
    }
   },
   "outputs": [
    {
     "data": {
      "text/plain": [
       "-35"
      ]
     },
     "execution_count": 94,
     "metadata": {},
     "output_type": "execute_result"
    }
   ],
   "source": [
    "# minimum sentiment value\n",
    "data['sentiment_value'].min()"
   ]
  },
  {
   "cell_type": "code",
   "execution_count": 95,
   "id": "f2cd2f2c",
   "metadata": {
    "ExecuteTime": {
     "end_time": "2021-10-21T11:28:16.679687Z",
     "start_time": "2021-10-21T11:28:16.602867Z"
    }
   },
   "outputs": [
    {
     "data": {
      "text/html": [
       "<div>\n",
       "<style scoped>\n",
       "    .dataframe tbody tr th:only-of-type {\n",
       "        vertical-align: middle;\n",
       "    }\n",
       "\n",
       "    .dataframe tbody tr th {\n",
       "        vertical-align: top;\n",
       "    }\n",
       "\n",
       "    .dataframe thead th {\n",
       "        text-align: right;\n",
       "    }\n",
       "</style>\n",
       "<table border=\"1\" class=\"dataframe\">\n",
       "  <thead>\n",
       "    <tr style=\"text-align: right;\">\n",
       "      <th></th>\n",
       "      <th>review_id</th>\n",
       "      <th>asin</th>\n",
       "      <th>overall</th>\n",
       "      <th>reviews</th>\n",
       "      <th>year</th>\n",
       "      <th>month</th>\n",
       "      <th>day</th>\n",
       "      <th>helpful_rate</th>\n",
       "      <th>sentiment_value</th>\n",
       "      <th>word_count</th>\n",
       "    </tr>\n",
       "  </thead>\n",
       "  <tbody>\n",
       "    <tr>\n",
       "      <th>6758</th>\n",
       "      <td>A3FQ9WYUHG9CD</td>\n",
       "      <td>B001OLZYUU</td>\n",
       "      <td>4.0</td>\n",
       "      <td>fender treated polish cloth soft ecru colored ...</td>\n",
       "      <td>2013</td>\n",
       "      <td>12</td>\n",
       "      <td>4</td>\n",
       "      <td>0.0</td>\n",
       "      <td>-35</td>\n",
       "      <td>349</td>\n",
       "    </tr>\n",
       "  </tbody>\n",
       "</table>\n",
       "</div>"
      ],
      "text/plain": [
       "          review_id        asin  overall  \\\n",
       "6758  A3FQ9WYUHG9CD  B001OLZYUU      4.0   \n",
       "\n",
       "                                                reviews   year month day  \\\n",
       "6758  fender treated polish cloth soft ecru colored ...   2013    12   4   \n",
       "\n",
       "      helpful_rate  sentiment_value  word_count  \n",
       "6758           0.0              -35         349  "
      ]
     },
     "execution_count": 95,
     "metadata": {},
     "output_type": "execute_result"
    }
   ],
   "source": [
    "# review which is having min sentiment value\n",
    "data[data['sentiment_value']==-35]"
   ]
  },
  {
   "cell_type": "code",
   "execution_count": 96,
   "id": "bfc42346",
   "metadata": {
    "ExecuteTime": {
     "end_time": "2021-10-21T11:28:16.725568Z",
     "start_time": "2021-10-21T11:28:16.680659Z"
    }
   },
   "outputs": [
    {
     "data": {
      "text/plain": [
       "'fender treated polish cloth soft ecru colored cloth cut scalloped edge around asimple product classic fender logo left upper quadrant cloth resealableplastic bag cloth came label read states size inchesby incheswell size measured actually inches inches wanted mention itbecause seen people get mighty upset things like no problem inch minor detail go lumber yard time look wontactually find actual theyve shrinking yearsi not sure cloth treated but not feel different untreatedgibson polishing cloths purchased also gave nose test thought might hintof whiff polish something nope no scent no whiffwhat find disconcerting warning product details section amazon web page isthe fourth bullet down california residents click proposition warning thewarning verbatim amazon kudos amazon posting warning californias proposition entitles california consumers special warnings products contain chemicals known state california cause cancer birth defects reproductive harm if products expose consumers chemicals certain threshold levels care customers safety hope information helps buying decisions providing following warning products linked page warning product contains chemicals known state california cause cancer birth defects reproductive harm thought let know one guess missing inch really no big deal atthis point need worry concerns keeping beautiful guitar sparkling cleanyou could get cancer wow back reviewthe fender cloth soft little bit bigger gibson cloths but not much differencebetween two well gibson cloth whipstitch edging around notmuch differencewhen use fender cloth fender guitar no marks left no smudges left like tokeep neck especially clean polished regular basis seemed good job idont use body much not exposed dirty oily hands much theneckso based fact fender made cloth not scratch smudge guitar will give thisamazingly boring uninteresting ecru colored cloth stars appears supposed doand polish guitar without harming itit gets one less star california prop warning suppose need take somewhatseriously docked one star will definitely washing hand right using itso far no harm done guitars writing review future not sureabout thank say goodnight gracienote vendor godps responded admirably cloth not show time dayspast delivery date emailed responded quickly put another cloth mail tome came appropriate amount time inexpensive item went distance incustomer service will use x warning fender treated polish cloth photos lt'"
      ]
     },
     "execution_count": 96,
     "metadata": {},
     "output_type": "execute_result"
    }
   ],
   "source": [
    "# Full review at index 6758\n",
    "data['reviews'][6758]"
   ]
  },
  {
   "cell_type": "code",
   "execution_count": 97,
   "id": "13587f85",
   "metadata": {
    "ExecuteTime": {
     "end_time": "2021-10-21T11:28:16.802361Z",
     "start_time": "2021-10-21T11:28:16.726536Z"
    }
   },
   "outputs": [
    {
     "data": {
      "text/plain": [
       "count    10261.000000\n",
       "mean         6.931293\n",
       "std          8.031435\n",
       "min        -35.000000\n",
       "25%          2.000000\n",
       "50%          6.000000\n",
       "75%         10.000000\n",
       "max        139.000000\n",
       "Name: sentiment_value, dtype: float64"
      ]
     },
     "execution_count": 97,
     "metadata": {},
     "output_type": "execute_result"
    }
   ],
   "source": [
    "# Sentiment score of the whole review\n",
    "data['sentiment_value'].describe()"
   ]
  },
  {
   "cell_type": "code",
   "execution_count": 98,
   "id": "56cec7b0",
   "metadata": {
    "ExecuteTime": {
     "end_time": "2021-10-21T11:28:16.865166Z",
     "start_time": "2021-10-21T11:28:16.803329Z"
    }
   },
   "outputs": [
    {
     "data": {
      "text/html": [
       "<div>\n",
       "<style scoped>\n",
       "    .dataframe tbody tr th:only-of-type {\n",
       "        vertical-align: middle;\n",
       "    }\n",
       "\n",
       "    .dataframe tbody tr th {\n",
       "        vertical-align: top;\n",
       "    }\n",
       "\n",
       "    .dataframe thead th {\n",
       "        text-align: right;\n",
       "    }\n",
       "</style>\n",
       "<table border=\"1\" class=\"dataframe\">\n",
       "  <thead>\n",
       "    <tr style=\"text-align: right;\">\n",
       "      <th></th>\n",
       "      <th>review_id</th>\n",
       "      <th>asin</th>\n",
       "      <th>overall</th>\n",
       "      <th>reviews</th>\n",
       "      <th>year</th>\n",
       "      <th>month</th>\n",
       "      <th>day</th>\n",
       "      <th>helpful_rate</th>\n",
       "      <th>sentiment_value</th>\n",
       "      <th>word_count</th>\n",
       "    </tr>\n",
       "  </thead>\n",
       "  <tbody>\n",
       "    <tr>\n",
       "      <th>0</th>\n",
       "      <td>A2IBPI20UZIR0U</td>\n",
       "      <td>1384719342</td>\n",
       "      <td>5.0</td>\n",
       "      <td>not much write but exactly supposed filters po...</td>\n",
       "      <td>2014</td>\n",
       "      <td>02</td>\n",
       "      <td>28</td>\n",
       "      <td>0.0</td>\n",
       "      <td>0</td>\n",
       "      <td>25</td>\n",
       "    </tr>\n",
       "    <tr>\n",
       "      <th>2</th>\n",
       "      <td>A195EZSQDW3E21</td>\n",
       "      <td>1384719342</td>\n",
       "      <td>5.0</td>\n",
       "      <td>primary job device block breath would otherwis...</td>\n",
       "      <td>2013</td>\n",
       "      <td>08</td>\n",
       "      <td>28</td>\n",
       "      <td>1.0</td>\n",
       "      <td>-1</td>\n",
       "      <td>48</td>\n",
       "    </tr>\n",
       "    <tr>\n",
       "      <th>7</th>\n",
       "      <td>AJNFQI3YR6XJ5</td>\n",
       "      <td>B00004Y2UT</td>\n",
       "      <td>3.0</td>\n",
       "      <td>use cable run output pedal chain input fender ...</td>\n",
       "      <td>2012</td>\n",
       "      <td>11</td>\n",
       "      <td>16</td>\n",
       "      <td>0.0</td>\n",
       "      <td>0</td>\n",
       "      <td>87</td>\n",
       "    </tr>\n",
       "    <tr>\n",
       "      <th>12</th>\n",
       "      <td>A2NIT6BKW11XJQ</td>\n",
       "      <td>B00005ML71</td>\n",
       "      <td>3.0</td>\n",
       "      <td>if not use using large sustaining pedal playin...</td>\n",
       "      <td>2013</td>\n",
       "      <td>11</td>\n",
       "      <td>17</td>\n",
       "      <td>0.0</td>\n",
       "      <td>0</td>\n",
       "      <td>16</td>\n",
       "    </tr>\n",
       "    <tr>\n",
       "      <th>28</th>\n",
       "      <td>A2CCGGDGZ694CT</td>\n",
       "      <td>B000068NVI</td>\n",
       "      <td>4.0</td>\n",
       "      <td>hosa xlr cables affordable heavily madei large...</td>\n",
       "      <td>2012</td>\n",
       "      <td>07</td>\n",
       "      <td>11</td>\n",
       "      <td>1.0</td>\n",
       "      <td>-2</td>\n",
       "      <td>29</td>\n",
       "    </tr>\n",
       "    <tr>\n",
       "      <th>...</th>\n",
       "      <td>...</td>\n",
       "      <td>...</td>\n",
       "      <td>...</td>\n",
       "      <td>...</td>\n",
       "      <td>...</td>\n",
       "      <td>...</td>\n",
       "      <td>...</td>\n",
       "      <td>...</td>\n",
       "      <td>...</td>\n",
       "      <td>...</td>\n",
       "    </tr>\n",
       "    <tr>\n",
       "      <th>10178</th>\n",
       "      <td>A768OB1LNE356</td>\n",
       "      <td>B00FXKIG5I</td>\n",
       "      <td>2.0</td>\n",
       "      <td>larger ones sometimes neck snap thought might ...</td>\n",
       "      <td>2014</td>\n",
       "      <td>03</td>\n",
       "      <td>22</td>\n",
       "      <td>0.5</td>\n",
       "      <td>-5</td>\n",
       "      <td>44</td>\n",
       "    </tr>\n",
       "    <tr>\n",
       "      <th>10181</th>\n",
       "      <td>AYTKUTAP0VA53</td>\n",
       "      <td>B00FXKIG5I</td>\n",
       "      <td>5.0</td>\n",
       "      <td>thing tiny not breakable swivel head original ...</td>\n",
       "      <td>2014</td>\n",
       "      <td>02</td>\n",
       "      <td>9</td>\n",
       "      <td>0.0</td>\n",
       "      <td>0</td>\n",
       "      <td>12</td>\n",
       "    </tr>\n",
       "    <tr>\n",
       "      <th>10188</th>\n",
       "      <td>A3M1PLEYNDEYO8</td>\n",
       "      <td>B00GTSM8FW</td>\n",
       "      <td>5.0</td>\n",
       "      <td>several capos but first adjustable tension sev...</td>\n",
       "      <td>2014</td>\n",
       "      <td>04</td>\n",
       "      <td>29</td>\n",
       "      <td>0.0</td>\n",
       "      <td>-5</td>\n",
       "      <td>72</td>\n",
       "    </tr>\n",
       "    <tr>\n",
       "      <th>10222</th>\n",
       "      <td>A2FY8306QHI5LE</td>\n",
       "      <td>B00IZCSW3M</td>\n",
       "      <td>4.0</td>\n",
       "      <td>twice price standard strings daddario nyxl str...</td>\n",
       "      <td>2014</td>\n",
       "      <td>06</td>\n",
       "      <td>21</td>\n",
       "      <td>0.0</td>\n",
       "      <td>0</td>\n",
       "      <td>40</td>\n",
       "    </tr>\n",
       "    <tr>\n",
       "      <th>10239</th>\n",
       "      <td>A2PD27UKAD3Q00</td>\n",
       "      <td>B00IZCSW3M</td>\n",
       "      <td>5.0</td>\n",
       "      <td>daddarios nickel plated electric guitar string...</td>\n",
       "      <td>2014</td>\n",
       "      <td>06</td>\n",
       "      <td>17</td>\n",
       "      <td>1.0</td>\n",
       "      <td>-3</td>\n",
       "      <td>108</td>\n",
       "    </tr>\n",
       "  </tbody>\n",
       "</table>\n",
       "<p>1505 rows × 10 columns</p>\n",
       "</div>"
      ],
      "text/plain": [
       "            review_id        asin  overall  \\\n",
       "0      A2IBPI20UZIR0U  1384719342      5.0   \n",
       "2      A195EZSQDW3E21  1384719342      5.0   \n",
       "7       AJNFQI3YR6XJ5  B00004Y2UT      3.0   \n",
       "12     A2NIT6BKW11XJQ  B00005ML71      3.0   \n",
       "28     A2CCGGDGZ694CT  B000068NVI      4.0   \n",
       "...               ...         ...      ...   \n",
       "10178   A768OB1LNE356  B00FXKIG5I      2.0   \n",
       "10181   AYTKUTAP0VA53  B00FXKIG5I      5.0   \n",
       "10188  A3M1PLEYNDEYO8  B00GTSM8FW      5.0   \n",
       "10222  A2FY8306QHI5LE  B00IZCSW3M      4.0   \n",
       "10239  A2PD27UKAD3Q00  B00IZCSW3M      5.0   \n",
       "\n",
       "                                                 reviews   year month day  \\\n",
       "0      not much write but exactly supposed filters po...   2014    02  28   \n",
       "2      primary job device block breath would otherwis...   2013    08  28   \n",
       "7      use cable run output pedal chain input fender ...   2012    11  16   \n",
       "12     if not use using large sustaining pedal playin...   2013    11  17   \n",
       "28     hosa xlr cables affordable heavily madei large...   2012    07  11   \n",
       "...                                                  ...    ...   ...  ..   \n",
       "10178  larger ones sometimes neck snap thought might ...   2014    03  22   \n",
       "10181  thing tiny not breakable swivel head original ...   2014    02   9   \n",
       "10188  several capos but first adjustable tension sev...   2014    04  29   \n",
       "10222  twice price standard strings daddario nyxl str...   2014    06  21   \n",
       "10239  daddarios nickel plated electric guitar string...   2014    06  17   \n",
       "\n",
       "       helpful_rate  sentiment_value  word_count  \n",
       "0               0.0                0          25  \n",
       "2               1.0               -1          48  \n",
       "7               0.0                0          87  \n",
       "12              0.0                0          16  \n",
       "28              1.0               -2          29  \n",
       "...             ...              ...         ...  \n",
       "10178           0.5               -5          44  \n",
       "10181           0.0                0          12  \n",
       "10188           0.0               -5          72  \n",
       "10222           0.0                0          40  \n",
       "10239           1.0               -3         108  \n",
       "\n",
       "[1505 rows x 10 columns]"
      ]
     },
     "execution_count": 98,
     "metadata": {},
     "output_type": "execute_result"
    }
   ],
   "source": [
    "# Sentiment score of the whole review\n",
    "data[data['sentiment_value']<=0]"
   ]
  },
  {
   "cell_type": "code",
   "execution_count": 99,
   "id": "fdf71162",
   "metadata": {
    "ExecuteTime": {
     "end_time": "2021-10-21T11:28:16.941988Z",
     "start_time": "2021-10-21T11:28:16.866163Z"
    }
   },
   "outputs": [
    {
     "data": {
      "text/html": [
       "<div>\n",
       "<style scoped>\n",
       "    .dataframe tbody tr th:only-of-type {\n",
       "        vertical-align: middle;\n",
       "    }\n",
       "\n",
       "    .dataframe tbody tr th {\n",
       "        vertical-align: top;\n",
       "    }\n",
       "\n",
       "    .dataframe thead th {\n",
       "        text-align: right;\n",
       "    }\n",
       "</style>\n",
       "<table border=\"1\" class=\"dataframe\">\n",
       "  <thead>\n",
       "    <tr style=\"text-align: right;\">\n",
       "      <th></th>\n",
       "      <th>review_id</th>\n",
       "      <th>asin</th>\n",
       "      <th>overall</th>\n",
       "      <th>reviews</th>\n",
       "      <th>year</th>\n",
       "      <th>month</th>\n",
       "      <th>day</th>\n",
       "      <th>helpful_rate</th>\n",
       "      <th>sentiment_value</th>\n",
       "      <th>word_count</th>\n",
       "    </tr>\n",
       "  </thead>\n",
       "  <tbody>\n",
       "    <tr>\n",
       "      <th>412</th>\n",
       "      <td>A27L5L6I7OSV5B</td>\n",
       "      <td>B0002CZV82</td>\n",
       "      <td>2.0</td>\n",
       "      <td>greg abrams review entitled but tone snobs rev...</td>\n",
       "      <td>2011</td>\n",
       "      <td>06</td>\n",
       "      <td>30</td>\n",
       "      <td>0.95</td>\n",
       "      <td>139</td>\n",
       "      <td>713</td>\n",
       "    </tr>\n",
       "    <tr>\n",
       "      <th>5973</th>\n",
       "      <td>A1LCG14GZJI5LO</td>\n",
       "      <td>B000Y7Q2C4</td>\n",
       "      <td>5.0</td>\n",
       "      <td>love capo let tell capo journey ive used every...</td>\n",
       "      <td>2014</td>\n",
       "      <td>05</td>\n",
       "      <td>30</td>\n",
       "      <td>1.00</td>\n",
       "      <td>105</td>\n",
       "      <td>637</td>\n",
       "    </tr>\n",
       "    <tr>\n",
       "      <th>8636</th>\n",
       "      <td>A35YS5ND3K5FN</td>\n",
       "      <td>B004ISK48S</td>\n",
       "      <td>5.0</td>\n",
       "      <td>constructionthis amp certainly looks sharp not...</td>\n",
       "      <td>2011</td>\n",
       "      <td>02</td>\n",
       "      <td>10</td>\n",
       "      <td>0.99</td>\n",
       "      <td>130</td>\n",
       "      <td>719</td>\n",
       "    </tr>\n",
       "  </tbody>\n",
       "</table>\n",
       "</div>"
      ],
      "text/plain": [
       "           review_id        asin  overall  \\\n",
       "412   A27L5L6I7OSV5B  B0002CZV82      2.0   \n",
       "5973  A1LCG14GZJI5LO  B000Y7Q2C4      5.0   \n",
       "8636   A35YS5ND3K5FN  B004ISK48S      5.0   \n",
       "\n",
       "                                                reviews   year month day  \\\n",
       "412   greg abrams review entitled but tone snobs rev...   2011    06  30   \n",
       "5973  love capo let tell capo journey ive used every...   2014    05  30   \n",
       "8636  constructionthis amp certainly looks sharp not...   2011    02  10   \n",
       "\n",
       "      helpful_rate  sentiment_value  word_count  \n",
       "412           0.95              139         713  \n",
       "5973          1.00              105         637  \n",
       "8636          0.99              130         719  "
      ]
     },
     "execution_count": 99,
     "metadata": {},
     "output_type": "execute_result"
    }
   ],
   "source": [
    "data[data['sentiment_value']>=100]"
   ]
  },
  {
   "cell_type": "code",
   "execution_count": 100,
   "id": "61b06e77",
   "metadata": {
    "ExecuteTime": {
     "end_time": "2021-10-21T11:28:17.249139Z",
     "start_time": "2021-10-21T11:28:16.942958Z"
    }
   },
   "outputs": [
    {
     "name": "stderr",
     "output_type": "stream",
     "text": [
      "C:\\Users\\BHC228\\anaconda3\\lib\\site-packages\\seaborn\\distributions.py:2557: FutureWarning: `distplot` is a deprecated function and will be removed in a future version. Please adapt your code to use either `displot` (a figure-level function with similar flexibility) or `histplot` (an axes-level function for histograms).\n",
      "  warnings.warn(msg, FutureWarning)\n"
     ]
    },
    {
     "data": {
      "text/plain": [
       "<AxesSubplot:xlabel='sentiment_value', ylabel='Density'>"
      ]
     },
     "execution_count": 100,
     "metadata": {},
     "output_type": "execute_result"
    },
    {
     "data": {
      "image/png": "[encoded data removed]",
      "text/plain": [
       "<Figure size 720x432 with 1 Axes>"
      ]
     },
     "metadata": {},
     "output_type": "display_data"
    }
   ],
   "source": [
    "# Checking the distribution of reviews \n",
    "\n",
    "import seaborn as sns\n",
    "sns.set(rc={'figure.figsize':(10,6)})\n",
    "sns.distplot(data['sentiment_value'])"
   ]
  },
  {
   "cell_type": "code",
   "execution_count": 101,
   "id": "20d0a44d",
   "metadata": {
    "ExecuteTime": {
     "end_time": "2021-10-21T11:28:17.265097Z",
     "start_time": "2021-10-21T11:28:17.250150Z"
    }
   },
   "outputs": [],
   "source": [
    "#From above distplot, we can state that reviews of this musical instrument are having somewhat normal distribution \n",
    "#with positive and negative sentiment."
   ]
  },
  {
   "cell_type": "code",
   "execution_count": 102,
   "id": "05820dc4",
   "metadata": {
    "ExecuteTime": {
     "end_time": "2021-10-21T11:28:17.450629Z",
     "start_time": "2021-10-21T11:28:17.266094Z"
    }
   },
   "outputs": [],
   "source": [
    "# This function will return sentiment category based on values in sentiment_value column\n",
    "\n",
    "def sentiment_cat(row):\n",
    "    \n",
    "    '''This function returns sentiment category based on values in sentiment_value column'''\n",
    "    \n",
    "    if row['sentiment_value'] < 0:\n",
    "        val = 'Negative'\n",
    "    elif row['sentiment_value'] == 0: \n",
    "        val = 'Neutral'\n",
    "    elif row['sentiment_value'] > 0:\n",
    "        val = 'Positive'\n",
    "    else:\n",
    "        val = -1\n",
    "    return val"
   ]
  },
  {
   "cell_type": "code",
   "execution_count": 103,
   "id": "863e4dd1",
   "metadata": {
    "ExecuteTime": {
     "end_time": "2021-10-21T11:28:17.636089Z",
     "start_time": "2021-10-21T11:28:17.451597Z"
    }
   },
   "outputs": [
    {
     "data": {
      "text/html": [
       "<div>\n",
       "<style scoped>\n",
       "    .dataframe tbody tr th:only-of-type {\n",
       "        vertical-align: middle;\n",
       "    }\n",
       "\n",
       "    .dataframe tbody tr th {\n",
       "        vertical-align: top;\n",
       "    }\n",
       "\n",
       "    .dataframe thead th {\n",
       "        text-align: right;\n",
       "    }\n",
       "</style>\n",
       "<table border=\"1\" class=\"dataframe\">\n",
       "  <thead>\n",
       "    <tr style=\"text-align: right;\">\n",
       "      <th></th>\n",
       "      <th>review_id</th>\n",
       "      <th>asin</th>\n",
       "      <th>overall</th>\n",
       "      <th>reviews</th>\n",
       "      <th>year</th>\n",
       "      <th>month</th>\n",
       "      <th>day</th>\n",
       "      <th>helpful_rate</th>\n",
       "      <th>sentiment_value</th>\n",
       "      <th>word_count</th>\n",
       "      <th>sentiment_category</th>\n",
       "    </tr>\n",
       "  </thead>\n",
       "  <tbody>\n",
       "    <tr>\n",
       "      <th>0</th>\n",
       "      <td>A2IBPI20UZIR0U</td>\n",
       "      <td>1384719342</td>\n",
       "      <td>5.0</td>\n",
       "      <td>not much write but exactly supposed filters po...</td>\n",
       "      <td>2014</td>\n",
       "      <td>02</td>\n",
       "      <td>28</td>\n",
       "      <td>0.00</td>\n",
       "      <td>0</td>\n",
       "      <td>25</td>\n",
       "      <td>Neutral</td>\n",
       "    </tr>\n",
       "    <tr>\n",
       "      <th>1</th>\n",
       "      <td>A14VAT5EAX3D9S</td>\n",
       "      <td>1384719342</td>\n",
       "      <td>5.0</td>\n",
       "      <td>product exactly quite affordablei not realized...</td>\n",
       "      <td>2013</td>\n",
       "      <td>03</td>\n",
       "      <td>16</td>\n",
       "      <td>0.93</td>\n",
       "      <td>2</td>\n",
       "      <td>55</td>\n",
       "      <td>Positive</td>\n",
       "    </tr>\n",
       "    <tr>\n",
       "      <th>2</th>\n",
       "      <td>A195EZSQDW3E21</td>\n",
       "      <td>1384719342</td>\n",
       "      <td>5.0</td>\n",
       "      <td>primary job device block breath would otherwis...</td>\n",
       "      <td>2013</td>\n",
       "      <td>08</td>\n",
       "      <td>28</td>\n",
       "      <td>1.00</td>\n",
       "      <td>-1</td>\n",
       "      <td>48</td>\n",
       "      <td>Negative</td>\n",
       "    </tr>\n",
       "    <tr>\n",
       "      <th>3</th>\n",
       "      <td>A2C00NNG1ZQQG2</td>\n",
       "      <td>1384719342</td>\n",
       "      <td>5.0</td>\n",
       "      <td>nice windscreen protects mxl mic prevents pops...</td>\n",
       "      <td>2014</td>\n",
       "      <td>02</td>\n",
       "      <td>14</td>\n",
       "      <td>0.00</td>\n",
       "      <td>4</td>\n",
       "      <td>22</td>\n",
       "      <td>Positive</td>\n",
       "    </tr>\n",
       "    <tr>\n",
       "      <th>4</th>\n",
       "      <td>A94QU4C90B1AX</td>\n",
       "      <td>1384719342</td>\n",
       "      <td>5.0</td>\n",
       "      <td>pop filter great looks performs like studio fi...</td>\n",
       "      <td>2014</td>\n",
       "      <td>02</td>\n",
       "      <td>21</td>\n",
       "      <td>0.00</td>\n",
       "      <td>5</td>\n",
       "      <td>21</td>\n",
       "      <td>Positive</td>\n",
       "    </tr>\n",
       "  </tbody>\n",
       "</table>\n",
       "</div>"
      ],
      "text/plain": [
       "        review_id        asin  overall  \\\n",
       "0  A2IBPI20UZIR0U  1384719342      5.0   \n",
       "1  A14VAT5EAX3D9S  1384719342      5.0   \n",
       "2  A195EZSQDW3E21  1384719342      5.0   \n",
       "3  A2C00NNG1ZQQG2  1384719342      5.0   \n",
       "4   A94QU4C90B1AX  1384719342      5.0   \n",
       "\n",
       "                                             reviews   year month day  \\\n",
       "0  not much write but exactly supposed filters po...   2014    02  28   \n",
       "1  product exactly quite affordablei not realized...   2013    03  16   \n",
       "2  primary job device block breath would otherwis...   2013    08  28   \n",
       "3  nice windscreen protects mxl mic prevents pops...   2014    02  14   \n",
       "4  pop filter great looks performs like studio fi...   2014    02  21   \n",
       "\n",
       "   helpful_rate  sentiment_value  word_count sentiment_category  \n",
       "0          0.00                0          25            Neutral  \n",
       "1          0.93                2          55           Positive  \n",
       "2          1.00               -1          48           Negative  \n",
       "3          0.00                4          22           Positive  \n",
       "4          0.00                5          21           Positive  "
      ]
     },
     "execution_count": 103,
     "metadata": {},
     "output_type": "execute_result"
    }
   ],
   "source": [
    "#Applying the function in our new column\n",
    "data['sentiment_category'] = data.apply(sentiment_cat, axis=1)\n",
    "data.head()"
   ]
  },
  {
   "cell_type": "code",
   "execution_count": 104,
   "id": "e1fa54a6",
   "metadata": {
    "ExecuteTime": {
     "end_time": "2021-10-21T11:28:17.651048Z",
     "start_time": "2021-10-21T11:28:17.637086Z"
    }
   },
   "outputs": [
    {
     "data": {
      "text/plain": [
       "Positive    8756\n",
       "Negative     860\n",
       "Neutral      645\n",
       "Name: sentiment_category, dtype: int64"
      ]
     },
     "execution_count": 104,
     "metadata": {},
     "output_type": "execute_result"
    }
   ],
   "source": [
    "data\n",
    "['sentiment_category'].value_counts()"
   ]
  }
 ],
 "metadata": {
  "kernelspec": {
   "display_name": "Python 3",
   "language": "python",
   "name": "python3"
  },
  "language_info": {
   "codemirror_mode": {
    "name": "ipython",
    "version": 3
   },
   "file_extension": ".py",
   "mimetype": "text/x-python",
   "name": "python",
   "nbconvert_exporter": "python",
   "pygments_lexer": "ipython3",
   "version": "3.8.8"
  },
  "varInspector": {
   "cols": {
    "lenName": 16,
    "lenType": 16,
    "lenVar": 40
   },
   "kernels_config": {
    "python": {
     "delete_cmd_postfix": "",
     "delete_cmd_prefix": "del ",
     "library": "var_list.py",
     "varRefreshCmd": "print(var_dic_list())"
    },
    "r": {
     "delete_cmd_postfix": ") ",
     "delete_cmd_prefix": "rm(",
     "library": "var_list.r",
     "varRefreshCmd": "cat(var_dic_list()) "
    }
   },
   "types_to_exclude": [
    "module",
    "function",
    "builtin_function_or_method",
    "instance",
    "_Feature"
   ],
   "window_display": false
  }
 },
 "nbformat": 4,
 "nbformat_minor": 5
}
