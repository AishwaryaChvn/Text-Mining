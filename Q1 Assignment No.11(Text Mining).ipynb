{
 "cells": [
  {
   "cell_type": "markdown",
   "id": "4a19a3a0",
   "metadata": {},
   "source": [
    "For Text Mining\n",
    "Perform sentimental analysis on the Elon-musk tweets \n",
    "\n",
    "Dataset-(Exlon-musk.csv)"
   ]
  },
  {
   "cell_type": "code",
   "execution_count": 38,
   "id": "5a00366e",
   "metadata": {
    "ExecuteTime": {
     "end_time": "2021-10-21T11:24:58.415758Z",
     "start_time": "2021-10-21T11:24:58.402792Z"
    }
   },
   "outputs": [],
   "source": [
    "# importing libraries\n",
    "import pandas as pd\n",
    "import numpy as np\n",
    "import matplotlib.pyplot as plt\n",
    "import string  # special operations on strings\n",
    "import spacy  # language models\n",
    "\n",
    "from matplotlib.pyplot import imread\n",
    "from wordcloud import WordCloud\n",
    "%matplotlib inline"
   ]
  },
  {
   "cell_type": "code",
   "execution_count": 39,
   "id": "0b7c63fe",
   "metadata": {
    "ExecuteTime": {
     "end_time": "2021-10-21T11:24:58.494547Z",
     "start_time": "2021-10-21T11:24:58.416755Z"
    }
   },
   "outputs": [],
   "source": [
    "data = pd.read_csv('Elon_musk.csv', encoding = 'latin1', error_bad_lines=False)"
   ]
  },
  {
   "cell_type": "code",
   "execution_count": 40,
   "id": "b3576b7e",
   "metadata": {
    "ExecuteTime": {
     "end_time": "2021-10-21T11:24:58.571342Z",
     "start_time": "2021-10-21T11:24:58.495544Z"
    }
   },
   "outputs": [
    {
     "data": {
      "text/plain": [
       "(1999, 2)"
      ]
     },
     "execution_count": 40,
     "metadata": {},
     "output_type": "execute_result"
    }
   ],
   "source": [
    "data.shape"
   ]
  },
  {
   "cell_type": "code",
   "execution_count": 41,
   "id": "fcbf3741",
   "metadata": {
    "ExecuteTime": {
     "end_time": "2021-10-21T11:24:58.633182Z",
     "start_time": "2021-10-21T11:24:58.572340Z"
    }
   },
   "outputs": [
    {
     "data": {
      "text/html": [
       "<div>\n",
       "<style scoped>\n",
       "    .dataframe tbody tr th:only-of-type {\n",
       "        vertical-align: middle;\n",
       "    }\n",
       "\n",
       "    .dataframe tbody tr th {\n",
       "        vertical-align: top;\n",
       "    }\n",
       "\n",
       "    .dataframe thead th {\n",
       "        text-align: right;\n",
       "    }\n",
       "</style>\n",
       "<table border=\"1\" class=\"dataframe\">\n",
       "  <thead>\n",
       "    <tr style=\"text-align: right;\">\n",
       "      <th></th>\n",
       "      <th>Unnamed: 0</th>\n",
       "      <th>Text</th>\n",
       "    </tr>\n",
       "  </thead>\n",
       "  <tbody>\n",
       "    <tr>\n",
       "      <th>0</th>\n",
       "      <td>1</td>\n",
       "      <td>@kunalb11 Im an alien</td>\n",
       "    </tr>\n",
       "    <tr>\n",
       "      <th>1</th>\n",
       "      <td>2</td>\n",
       "      <td>@ID_AA_Carmack Ray tracing on Cyberpunk with H...</td>\n",
       "    </tr>\n",
       "    <tr>\n",
       "      <th>2</th>\n",
       "      <td>3</td>\n",
       "      <td>@joerogan @Spotify Great interview!</td>\n",
       "    </tr>\n",
       "    <tr>\n",
       "      <th>3</th>\n",
       "      <td>4</td>\n",
       "      <td>@gtera27 Doge is underestimated</td>\n",
       "    </tr>\n",
       "    <tr>\n",
       "      <th>4</th>\n",
       "      <td>5</td>\n",
       "      <td>@teslacn Congratulations Tesla China for amazi...</td>\n",
       "    </tr>\n",
       "  </tbody>\n",
       "</table>\n",
       "</div>"
      ],
      "text/plain": [
       "   Unnamed: 0                                               Text\n",
       "0           1                             @kunalb11 Im an alien\n",
       "1           2  @ID_AA_Carmack Ray tracing on Cyberpunk with H...\n",
       "2           3                @joerogan @Spotify Great interview!\n",
       "3           4                    @gtera27 Doge is underestimated\n",
       "4           5  @teslacn Congratulations Tesla China for amazi..."
      ]
     },
     "execution_count": 41,
     "metadata": {},
     "output_type": "execute_result"
    }
   ],
   "source": [
    "data.head()"
   ]
  },
  {
   "cell_type": "markdown",
   "id": "3e6c5e9e",
   "metadata": {},
   "source": [
    "# Data Preprocessing for Sentimental Analysis"
   ]
  },
  {
   "cell_type": "code",
   "execution_count": 42,
   "id": "a441be91",
   "metadata": {
    "ExecuteTime": {
     "end_time": "2021-10-21T11:24:58.709971Z",
     "start_time": "2021-10-21T11:24:58.634174Z"
    }
   },
   "outputs": [
    {
     "data": {
      "text/html": [
       "<div>\n",
       "<style scoped>\n",
       "    .dataframe tbody tr th:only-of-type {\n",
       "        vertical-align: middle;\n",
       "    }\n",
       "\n",
       "    .dataframe tbody tr th {\n",
       "        vertical-align: top;\n",
       "    }\n",
       "\n",
       "    .dataframe thead th {\n",
       "        text-align: right;\n",
       "    }\n",
       "</style>\n",
       "<table border=\"1\" class=\"dataframe\">\n",
       "  <thead>\n",
       "    <tr style=\"text-align: right;\">\n",
       "      <th></th>\n",
       "      <th>Text</th>\n",
       "    </tr>\n",
       "  </thead>\n",
       "  <tbody>\n",
       "    <tr>\n",
       "      <th>0</th>\n",
       "      <td>@kunalb11 Im an alien</td>\n",
       "    </tr>\n",
       "    <tr>\n",
       "      <th>1</th>\n",
       "      <td>@ID_AA_Carmack Ray tracing on Cyberpunk with H...</td>\n",
       "    </tr>\n",
       "    <tr>\n",
       "      <th>2</th>\n",
       "      <td>@joerogan @Spotify Great interview!</td>\n",
       "    </tr>\n",
       "    <tr>\n",
       "      <th>3</th>\n",
       "      <td>@gtera27 Doge is underestimated</td>\n",
       "    </tr>\n",
       "    <tr>\n",
       "      <th>4</th>\n",
       "      <td>@teslacn Congratulations Tesla China for amazi...</td>\n",
       "    </tr>\n",
       "  </tbody>\n",
       "</table>\n",
       "</div>"
      ],
      "text/plain": [
       "                                                Text\n",
       "0                             @kunalb11 Im an alien\n",
       "1  @ID_AA_Carmack Ray tracing on Cyberpunk with H...\n",
       "2                @joerogan @Spotify Great interview!\n",
       "3                    @gtera27 Doge is underestimated\n",
       "4  @teslacn Congratulations Tesla China for amazi..."
      ]
     },
     "execution_count": 42,
     "metadata": {},
     "output_type": "execute_result"
    }
   ],
   "source": [
    "# Dropping additional index column 'Unnamed'\n",
    "\n",
    "data = data.drop('Unnamed: 0', axis = 1)\n",
    "data.head()"
   ]
  },
  {
   "cell_type": "code",
   "execution_count": 43,
   "id": "7b250f73",
   "metadata": {
    "ExecuteTime": {
     "end_time": "2021-10-21T11:24:58.802661Z",
     "start_time": "2021-10-21T11:24:58.710968Z"
    }
   },
   "outputs": [],
   "source": [
    "# remove both the leading and the trailing characters such as spaces in tweets\n",
    "data = [x.strip() for x in data.Text]"
   ]
  },
  {
   "cell_type": "code",
   "execution_count": 44,
   "id": "34dd2895",
   "metadata": {
    "ExecuteTime": {
     "end_time": "2021-10-21T11:24:58.865493Z",
     "start_time": "2021-10-21T11:24:58.803658Z"
    }
   },
   "outputs": [],
   "source": [
    "# remove empty strings, because they are considered in Python as False\n",
    "data = [x for x in data if x]"
   ]
  },
  {
   "cell_type": "code",
   "execution_count": 45,
   "id": "61016a79",
   "metadata": {
    "ExecuteTime": {
     "end_time": "2021-10-21T11:24:58.927326Z",
     "start_time": "2021-10-21T11:24:58.867487Z"
    }
   },
   "outputs": [
    {
     "data": {
      "text/plain": [
       "['@kunalb11 I\\x92m an alien',\n",
       " '@ID_AA_Carmack Ray tracing on Cyberpunk with HDR is next-level. Have you tried it?',\n",
       " '@joerogan @Spotify Great interview!',\n",
       " '@gtera27 Doge is underestimated',\n",
       " '@teslacn Congratulations Tesla China for amazing execution last year. Now on to the next for even more!!',\n",
       " 'Happy New Year of the Ox! https://t.co/9WFKMYu2oj',\n",
       " 'Frodo was the underdoge,\\nAll thought he would fail,\\nHimself most of all. https://t.co/zGxJFDzzrM',\n",
       " '@OwenSparks_ @flcnhvy @anonyx10 Haha thanks :)',\n",
       " '@flcnhvy @anonyx10 Indeed! Tweets definitely do not represent real-world time allocation.',\n",
       " 'The most entertaining outcome is the most likely']"
      ]
     },
     "execution_count": 45,
     "metadata": {},
     "output_type": "execute_result"
    }
   ],
   "source": [
    "data[0:10]"
   ]
  },
  {
   "cell_type": "code",
   "execution_count": 46,
   "id": "c0cc6fb9",
   "metadata": {
    "ExecuteTime": {
     "end_time": "2021-10-21T11:24:58.989160Z",
     "start_time": "2021-10-21T11:24:58.928323Z"
    }
   },
   "outputs": [],
   "source": [
    "import nltk"
   ]
  },
  {
   "cell_type": "code",
   "execution_count": 47,
   "id": "3a956744",
   "metadata": {
    "ExecuteTime": {
     "end_time": "2021-10-21T11:24:59.065955Z",
     "start_time": "2021-10-21T11:24:58.990160Z"
    }
   },
   "outputs": [
    {
     "name": "stderr",
     "output_type": "stream",
     "text": [
      "[nltk_data] Downloading package punkt to\n",
      "[nltk_data]     C:\\Users\\BHC228\\AppData\\Roaming\\nltk_data...\n",
      "[nltk_data]   Package punkt is already up-to-date!\n"
     ]
    },
    {
     "data": {
      "text/plain": [
       "True"
      ]
     },
     "execution_count": 47,
     "metadata": {},
     "output_type": "execute_result"
    }
   ],
   "source": [
    "nltk.download('punkt')"
   ]
  },
  {
   "cell_type": "code",
   "execution_count": 48,
   "id": "6c568d77",
   "metadata": {
    "ExecuteTime": {
     "end_time": "2021-10-21T11:24:59.174664Z",
     "start_time": "2021-10-21T11:24:59.066953Z"
    }
   },
   "outputs": [
    {
     "data": {
      "text/plain": [
       "['@kunalb11 I\\x92m an alien @ID_AA_Carmack Ray tracing on Cyberpunk with HDR is next-level.',\n",
       " 'Have you tried it?',\n",
       " '@joerogan @Spotify Great interview!',\n",
       " '@gtera27 Doge is underestimated @teslacn Congratulations Tesla China for amazing execution last year.',\n",
       " 'Now on to the next for even more!!',\n",
       " 'Happy New Year of the Ox!',\n",
       " 'https://t.co/9WFKMYu2oj Frodo was the underdoge,\\nAll thought he would fail,\\nHimself most of all.',\n",
       " 'https://t.co/zGxJFDzzrM @OwenSparks_ @flcnhvy @anonyx10 Haha thanks :) @flcnhvy @anonyx10 Indeed!',\n",
       " 'Tweets definitely do not represent real-world time allocation.',\n",
       " 'The most entertaining outcome is the most likely @GiveDirectly Just sent some Just agree to do Clubhouse with @kanyewest https://t.co/3rWE9uHSTS @geoffkeighley @UnrealEngine It\\x92s getting real Bought some Dogecoin for lil X, so he can be a toddler hodler @JoshManMode He definitely has issues, but the sentencing seems a bit high @freewalletorg Thanks for fixing @freewalletorg Please unlock my account @AstroJordy <U+0001F923><U+0001F923> This is true power haha https://t.co/Fc9uhQSd7O @freewalletorg Any crypto wallet that won\\x92t give you your private keys should be avoided at all costs @freewalletorg Your app sucks RT @SpaceX: NASA has selected Falcon Heavy to launch the first two elements of the lunar Gateway together on one mission!',\n",
       " 'https://t.co/3pWt @ajtourville Yes @BLKMDL3 @RationalEtienne @Adamklotz_ Once we can predict cash flow reasonably well, Starlink will IPO @RationalEtienne @Adamklotz_ Starlink is a staggeringly difficult technical &amp; economic endeavor.',\n",
       " 'However, if we don\\x85 https://t.co/9Z8Ac6skqx @RationalEtienne @Adamklotz_ SpaceX needs to pass through a deep chasm of negative cash flow over the next year or\\x85 https://t.co/7J1c92hdjl @ID_AA_Carmack Lowest cost per ton of carbon sequestered, net of value of any product made.',\n",
       " 'Must be scalable to g\\x85 https://t.co/XMyI7qWSgw @Adamklotz_ It\\x92s meant to be the same price in all countries.',\n",
       " 'Only difference should be taxes &amp; shipping.',\n",
       " '@tobyliiiiiiiiii This is intended for Earth, but there may be some ideas that apply to Mars too @CryptoShrikar @CoinDesk @Tesla @Dan_Z_Palmer <U+0001F923><U+0001F923> XPrize team will manage the $100M carbon capture prize https://t.co/fSw5IanL0r @SRuhle Everyone at Tesla receives stock.',\n",
       " 'My comp is all stock/options, which I do not take off the table.',\n",
       " 'That\\x92s what you\\x92re missing.',\n",
       " 'Back to work I go @CapybaraSurfer @MattWallace888 Does seem a bit high @itsALLrisky Doge appears to be inflationary, but is not meaningfully so (fixed # of coins per unit time), whereas\\x85 https://t.co/4UH4rARC6T @MichaelGalanin @kevinmgill Wow @Erdayastronaut @michaelhodapp_ 1.',\n",
       " 'Orbital launch tower that can stack\\n2.',\n",
       " 'Enough Raptors for orbit booster\\n3.',\n",
       " 'Improve ship &amp; booster mass @michaelhodapp_ Back to work tonight!',\n",
       " 'Ð is for Ðogecoin!',\n",
       " 'Instructional video.',\n",
       " 'https://t.co/UEEocOfcTb The people have spoken \\x85 https://t.co/x41oVMzTGo @Nivetha_7_42 @lexfridman So cute <U+0001F495> @UniverCurious Extremely misleading image, as doesn\\x92t reflect true time cost to people or rain &amp; pain <U+0001F3B6> Who let the Doge out <U+0001F3B6> Hodl the rainforests!!',\n",
       " 'So \\x85 it\\x92s finally come to this \\x85 https://t.co/Gf0Rg2QOaF @itsALLrisky It\\x92s the most fun crypto!',\n",
       " '@JoshRoomsburg @SnoopDogg @genesimmons Its simplicity is its genius @astro_g_dogg @SpaceX Yup @Jbuttermost @Dogecoinrich <U+0001F923><U+0001F923> @wapodavenport True @Dogecoinrich <U+0001F923><U+0001F923> @flcnhvy @AstroJordy Not that easy.',\n",
       " 'This is two decades of intense work.',\n",
       " 'Have to look at old notes, emails, texts.',\n",
       " '@AstroJordy Yes Lessons learned Of Earth and Mars Time to tell the story of Tesla &amp; SpaceX @TheOnion Have you read @TheBabylonBee?',\n",
       " 'It\\x92s great!!',\n",
       " 'The Second Last Kingdom https://t.co/Je4EI88HmV @DumDin7 @Grimezsz Haven\\x92t heard that name in years @Grimezsz Dogecake YOLT\\n\\nhttps://t.co/cnOf9yjpF1 @Kristennetten That\\x92s Damian @Kristennetten Yeah @OwenSparks_ Sure The great thing about restaurants is that you get to hang out with strangers!',\n",
       " '- SJM The future currency of Earth @redlineshifter Just a scratch Much wow!',\n",
       " '@RationalEtienne <U+0001F5A4> @wonderofscience Destiny @RenataKonkoly @Teslarati @woodhaus2 Franz was essential @Erdayastronaut @josh_bickett @ajtourville @SpaceX That said, the ship landing burn has a clear solution.',\n",
       " 'My greate\\x85 https://t.co/e5Wikiugkz @Adamklotz_ @Erdayastronaut @josh_bickett @ajtourville @SpaceX Will still use hot gas maneuvering (RCS) thrusters,\\x85 https://t.co/vsO9h4Ioed @Erdayastronaut @josh_bickett @ajtourville @SpaceX Higher Isp too @Erdayastronaut @josh_bickett @ajtourville @SpaceX Intuitively, it would seem so, but turbopump-fed Raptors have mu\\x85 https://t.co/lBTG1sIBuC @brendan2908 @NASASpaceflight Yes RT @SpaceX: Falcon 9 will launch @NASA\\x92s SPHEREx mission \\x96 which will collect data on more than 300 million galaxies and explore how the un RT @SpaceX: Falcon 9 launches 60 Starlink satellites to orbit \\x96 mission from pad 39A on deck https://t.co/71cuCBgPNX @mikko @Darudevil It\\x92s true!',\n",
       " '@josh_bickett @ajtourville @Erdayastronaut @SpaceX Yeah.',\n",
       " 'By default, engine with least lever arm would shut down if all 3 are good.',\n",
       " '@ajtourville @Erdayastronaut @SpaceX Yes, but engines have a min throttle point where there is flameout risk, so la\\x85 https://t.co/ThniYsSnWn @Adamklotz_ @Erdayastronaut @SpaceX Yes @Erdayastronaut @SpaceX It was foolish of us not to start 3 engines &amp; immediately shut down 1, as 2 are needed to land I am become meme,\\nDestroyer of shorts @commander_cruz Might actually happen Sandstorm is a masterpiece @MadOverlord We were too dumb Next time, we try pull *up* method https://t.co/J1M7WHLRDR Low-key Loki No highs, no lows, only Doge No need to be a gigachad to own Dogecoin is the people\\x92s crypto ur welcome https://t.co/e2KF57KLxb @HuobiGlobal The most entertaining outcome is the most likely Doge https://t.co/vviUzWhodT @Erdayastronaut High seas &amp; wind This was a tough one https://t.co/beY7peFpCj RT @SpaceX: Watch Falcon 9 launch 60 Starlink satellites <U+2192> https://t.co/bJFjLCzWdK  https://t.co/Ln95rEesbW Off Twitter for a while It will be filled with graffiti art @eiraum <U+043C><U+044B> <U+0441><U+0434><U+0435><U+043B><U+0430><U+0435><U+043C> Giga Berlin progress https://t.co/ekpG5qcbUi @hamoon__ @neuralink Neuralink is working super hard to ensure implant safety &amp; is in close communication with the\\x85 https://t.co/Yky1llPUMd RT @SpaceX: This mission enables access for everyday people who dream of going to space RT @SpaceX: Announcing the first commercial astronaut mission to orbit Earth aboard Dragon <U+2192> https://t.co/MbESvnakAD https://t.co/ukLsjFfRjk If you\\x92ve worked on advanced wearables, phones or robots, those skills are needed @neuralink Feels weird helping make (hopefully good version of) Cyberpunk come true Please consider working at Neuralink!',\n",
       " 'Short-term: solve brain/spine injuries\\nLong-term: human/AI symbiosis \\n\\nLatte\\x85 https://t.co/qrC6aLAdS2 https://t.co/XcCoKOjYlt On Clubhouse tonight at 10pm LA time @Erdayastronaut @TJ_Cooney @lrocket @SpaceX @FelixSchlang @MarcusHouseGame Tom has some great stories about experim\\x85 https://t.co/tEEzkIwcmK RT @Commercial_Crew: Launch Alert <U+0001F680> @NASA and @SpaceX are targeting no earlier than April 20 for the launch of the second crew rotation mis @Erdayastronaut @TJ_Cooney @lrocket @SpaceX @FelixSchlang @MarcusHouseGame He became a big fan of methane, but was\\x85 https://t.co/mdv0vDEFyC @TJ_Cooney @lrocket @SpaceX @FelixSchlang @MarcusHouseGame That sounds correct.',\n",
       " 'Tom certainly deserves a lot of cre\\x85 https://t.co/hDRI4HfA8b @TJ_Cooney @lrocket @SpaceX @FelixSchlang @MarcusHouseGame Tom is great &amp; was instrumental in developing early vers\\x85 https://t.co/ULxTClM1g6 @ErcXspace @smvllstvrs T/W will be ~1.5, so it will accelerate unusually fast.',\n",
       " 'High T/W is important for reusable v\\x85 https://t.co/u1z2CPRRQJ @we5dogg @teslaownersSV No escaping that for me @TheBabylonBee Read the whole article <U+0001F923><U+0001F923> Warm, sunny day &amp; snowy mountains https://t.co/2k8psyqU4J What a beautiful day in LA https://t.co/EsCJTbzO9D @JayLav_ Yeah, Dr Frankensteen https://t.co/WDJ9K2UJqK @YounesH1989 I never used this guy.',\n",
       " 'He gave a talk at SpaceX once.',\n",
       " '@flcnhvy Only Halo https://t.co/pyRCFE97Xp @Carnage4Life I sure hope that\\x92s not true at Tesla or SpaceX!',\n",
       " '@thejackbeyer @NASASpaceflight Cryoproof, then install engines Starship SN9 &amp; SN10 https://t.co/urtPJn7amo In retrospect, it was inevitable @RGVaerialphotos Great shot @its_menieb Live by the sword, die by the sword @lexfridman Entropy @teslaownersSV @GameSpot Buy &amp; hold companies that make goods &amp; produce services you love @engineers_feed Earth is small &amp; we are smaller still https://t.co/gTOhcLGJ82 @GameSpot <U+0001F440> With Cyberpunk, even the hotfixes literally have hotfixes, but \\x85 great game https://t.co/a6kmk0PEgM @DocumentingBTC The dollar is shorting itself @westcoastbill Indeed @JohnnaCrider1 @Iupsychdoctor @AOC @RobinhoodApp Shopify is great too.',\n",
       " 'SpaceX used them.',\n",
       " '@ohqwix @BnnJ6bCghvzQxLb <U+0001F923><U+0001F923> @wimgrommen @WSBChairman Indeed.',\n",
       " 'The economy \\x97 making useful products &amp; providing great services \\x97 is what actually matters.',\n",
       " '@Iupsychdoctor @AOC @RobinhoodApp TANSTAAFL.',\n",
       " 'Would be better to have small fees than no fees, as latter makes Robin\\x85 https://t.co/czRhLolYVO Here come the shorty apologists\\nGive them no respect\\nGet Shorty u can\\x92t sell houses u don\\x92t own\\nu can\\x92t sell cars u don\\x92t own\\nbut \\nu *can* sell stock u don\\x92t own!?',\n",
       " 'this is bs \\x96 sh\\x85 https://t.co/vJkf9BqbOD @RationalEtienne @teslavangelist Yes @28delayslater Finishing engineering this year, production starts next year.',\n",
       " 'Aiming to have release candidate desig\\x85 https://t.co/bFverxpOQU @PPathole @Grimezsz I made that video!',\n",
       " '@AOC @RobinhoodApp Absolutely @NASASpaceflight Unlike its aircraft division, which is fine, the FAA space division has a fundamentally broken reg\\x85 https://t.co/sI63AXBJbz @EvanKaylor Nomad @anbuteau <U+0001F917> The esthetics of Cyberpunk are incredible btw.',\n",
       " 'The interior design is<U+0001F44C>.',\n",
       " '@TrevorMahlmann @SpaceX Major esthetics improvements coming @teslaownersSV @DMC_Ryan A little @DMC_Ryan New Roadster is part rocket @DMC_Ryan @lafebra @Gfilche There\\x92s more storage now &amp; easily upgradable @avalonpenrose https://t.co/djdZxQ4Maz @Couch_Investor Yes @24_7TeslaNews @WholeMarsBlog Yeah, probably in a few months @WholeMarsBlog After you drive without using a PRND stalk/stick for a few days, it gets very annoying to go back &amp; use a shifter!',\n",
       " '@WholeMarsBlog No more stalks.',\n",
       " 'Car guesses drive direction based on what obstacles it sees, context &amp; nav map.',\n",
       " 'You\\x85 https://t.co/6gO7EHq9qy @avalonpenrose A hedge fund that shorts is a shrubbery @lafebra @Gfilche https://t.co/M0WwQSTAXm @lafebra @Gfilche Yeah, also a rear screen 0 to 155mph trap speed in a 1/4 mile.',\n",
       " '200mph top speed (with right tires).',\n",
       " 'First production car ever to achieve 0 to 60 mph in less than 2 seconds It can play Cyberpunk Plaid Model S ships next month https://t.co/HFUPTnQiPB Even Discord has gone corpo @Jason Yup.',\n",
       " 'Wild times on Discord haha.',\n",
       " 'https://t.co/F23fxQkBCE @AndyColt2 Waiting for FAA review Gamestonk!!',\n",
       " 'https://t.co/RZtkDzAewJ @LabPadre Passed initial pressure test @AdamHoov Yes @PPathole https://t.co/v7cffwac0A Bought a hand knit wool Marvin the Martian helm for my dog https://t.co/gpcvjIBTLM I kinda love Etsy @thesheetztweetz It does not serve the public to hamstring Starlink today for an Amazon satellite system that is at\\x85 https://t.co/sNiGKxdXFP @nextspaceflight We\\x92re hoping for FAA approval of a test flight tomorrow afternoon @WholeMarsBlog The entire \\x93stack\\x94 from data collection through labeling &amp; inference has to be in surround video.',\n",
       " 'Th\\x85 https://t.co/u90Sqjkn8U @flcnhvy @WholeMarsBlog Yes, although it will be crazy not to turn  on FSD @WholeMarsBlog Tesla is steadily moving all NNs to 8 camera surround video.',\n",
       " 'This will enable superhuman self-driving.',\n",
       " '@naval [Some tyranny].',\n",
       " 'Also, the road to hell is mostly paved with bad intentions.',\n",
       " '@levine Catchy!',\n",
       " 'https://t.co/Au32MYF2Rn @Megaconstellati @Aviation_Intel @jetcitystar @larrypress All sats launched next year will have laser links.',\n",
       " 'Only o\\x85 https://t.co/CeoFLi8Lzm @Megaconstellati @Aviation_Intel @jetcitystar @larrypress Yup @TeslaGong @teslaownersSV @cleantechnica I hope so @Tesmanian_com These also have laser links between the satellites, so no ground stations are needed over the poles @teslaownersSV @cleantechnica Sorry for the version confusion.',\n",
       " 'V8.1 is what it should say for FSD.',\n",
       " 'Separate version number for rest of car.',\n",
       " '@cleantechnica To my surprise, Tesla has better AI hardware &amp; software than Waymo (money) @RicGuccio @teslaownersSV It floats @flcnhvy @boringcompany Fallout-themed opening party for Vegas Loop happening as soon as allowed!',\n",
       " '@Alex_E_Benton @boringcompany <U+0001F923><U+0001F923> Under Vegas in @boringcompany tunnel yesterday with my boys https://t.co/tLfOuiEdFm @PPathole @SpaceX Lasers RT @SpaceX: SpaceX\\x92s rideshare offering provides increased access to space for small satellite operators seeking a reliable, affordable rid RT @SpaceX: Falcon 9\\x92s first stage has landed on the Of Course I Still Love You droneship https://t.co/6gWWlLiXdG RT @SpaceX: Liftoff!',\n",
       " 'https://t.co/js3zVM77rH @CodeWisdom <U+0001F4AF> @teslascope We\\x92re switching to a more sensible FSD version numbering to distinguish between major &amp; minor updates.',\n",
       " \"https://t.co/QmHipv5zQs @NASASpaceflight Hopefully, early next week RT @SpaceX: Due to unfavorable weather, we are standing down from today's launch; the team will continue with the countdown until T-30 seco @arstechnica @SciGuySpace Given so many other companies are depending on this mission, it is getting even more scru\\x85 https://t.co/GBY9NACrSn Launching many small satellites for a wide range of customers tomorrow.\",\n",
       " 'Excited about offering low-cost access to o\\x85 https://t.co/w66u5qdUh9 @GerberKawasaki They are part of the solution, but require lots of fresh water &amp; land.',\n",
       " 'We may need something that\\x92s\\x85 https://t.co/FWXsmo0f8t @Erdayastronaut @SpaceX SN9 https://t.co/kwTVwM7MBn @Erdayastronaut It\\x92s a good path for fully renewable rocket energy, so solves part of problem, but longer chain hyd\\x85 https://t.co/xUGrZQiJzX Details next week Am donating $100M towards a prize for best carbon capture technology @Kristennetten @SpaceX @EliBurton_ @EvaFoxU @JaneidyEve @austinbarnard45 @ElonsBrain @JasoN7Patterson @AstroJordy @RenataKonkoly Pretty much @ElonsWorld @Tesla @SpaceX @neuralink @boringcompany @EashanMisra That would probably mean civilization is doing gr\\x85 https://t.co/sIAr8iFvWc @LaurenRow5 @EvaFoxU @RenataKonkoly @sarapolak_cz @seanmmitchell @28delayslater @ElonsWorld @JohnnaCrider1\\x85 https://t.co/vv6TthKR55 @TesLatino @Tesla Absolutely!',\n",
       " 'They rock.',\n",
       " '<U+0001F5A4> RT @SpaceX: Falcon 9 launches Starlink to orbit \\x96 the eighth launch and landing of this booster https://t.co/zyj8ZdDFql @kellyreid The rate-limiting part or process in cell production is constantly changing @FrancisSuarez @CityofMiami Cars &amp; trucks stuck in traffic generate megatons of toxic gases &amp; particulate, but\\x85 https://t.co/JcQIaCxJno @RationalEtienne @OwenSparks_ @Tesla With our giant casting machines, we are literally trying to make full-size car\\x85 https://t.co/CHGQMaIYTs @lexfridman @tegmark Tegmark is an exceptionally smart &amp; good human @OwenSparks_ The best manufacturing technology is in ultra high volume industries, like food &amp; beverage, some medical (eg syringes) &amp; toys Battery cell production is the fundamental rate-limiter slowing down a sustainable energy future.',\n",
       " 'Very important pr\\x85 https://t.co/9ybABEzxCV @p_ferragu Looking into this.',\n",
       " 'No question that FSD should be viewed as reasonably valuable when doing a trade-in.',\n",
       " '@tobyliiiiiiiiii @Erdayastronaut For sure @Erdayastronaut Glad you\\x92re ok @Virgin_Orbit Congratulations!',\n",
       " '@teslaownersSV This is a good one @MrBeastYT I whistle @DMC_Ryan @C_R_H_M @Tesla Cybertruck doesn\\x92t need a garage @DMC_Ryan @Tesla It will be awesome @owenshift Good point @signalapp Your server-side code is doing too much @Wikipedia Happy birthday Wikipedia!',\n",
       " 'So glad you exist.',\n",
       " '@TheOnion Guess you been watching Cobra Kai @SuperclusterHQ @w00ki33 Fallout New Texas @Breedlove22 @benmezrich Only Chuck Norris can divide by zero @Cerberu21014829 @Breedlove22 @benmezrich Good point @Breedlove22 @benmezrich The thing we call money is just an information system for labor allocation.',\n",
       " 'What actuall\\x85 https://t.co/JZ6zmQGBO3 Monty Python is amazing\\nhttps://t.co/UJq94IWT88 @RationalEtienne @tobyliiiiiiiiii @Erdayastronaut They sure can twist the knife in that show!',\n",
       " '@tobyliiiiiiiiii @Erdayastronaut Probably wise @Erdayastronaut We\\x92re making major improvements to ease of engine swap.',\n",
       " 'Needs to be a few hours at most.',\n",
       " '@PPathole @johnkrausphotos @SpaceX Two of the engines need slight repairs, so will be switched out @johnkrausphotos @SpaceX Nice shot @realOmarAbdalah We don\\x92t have high school internships, but please apply when you\\x92re in college!',\n",
       " '@skorusARK Prototypes are easy, volume production is hard, positive cash flow is  excruciating @Tesla Physics RT @SpaceX: Splashdown of Dragon confirmed, completing SpaceX\\x92s 21st @Space_Station resupply mission and the first return of a cargo resupp @Erdayastronaut Detanking &amp; inspections now.',\n",
       " 'Good progress towards our \\x93Hop in &amp; go to Mars!\\x94 goal.',\n",
       " 'All three static fires completed &amp; no RUDs!',\n",
       " '@justpaulinelol @Erdayastronaut @SpaceX Wow, a lot has happened in 10 years!',\n",
       " '@OfficialJlipper Fair enough haha https://t.co/ho7yGXAS3a @NASASpaceflight Sea shanty tiktok takes it to a new level with actual pirate ships @ConnectDotsToo Sure Today at SpaceX is about practicing Starship engine starts.',\n",
       " 'Ship is held down by massive pins while engines are fir\\x85 https://t.co/QtIiWLxXPl @Tesmanian_com As promised Legalize comedy @lvladimirovBG You can steal our name/logos &amp; we probably won\\x92t sue you @arstechnica @SciGuySpace We\\x92re just trying to get people to Mars.',\n",
       " 'Help would be appreciated.',\n",
       " '@SpaceX @Space_Station One day, we will get a camera up there that also shows the star field in the background RT @SpaceX: Separation confirmed!',\n",
       " 'Dragon performing 3 departure burns to move away from the @Space_Station https://t.co/G27ohWvnXj @lexfridman Suicide is more than double homicide https://t.co/MvWGPs9uQE @lexfridman Absolutely Hey you \\x85\\nYeah you Queen \\x85\\nYou\\x92re gonna make it!',\n",
       " '<U+0001F495><U+0001F495> https://t.co/LrqdIrbIyd @TheOldManPar @DJSnM @MachinePix Hate to say it, but might be true @MachinePix The robot future is coming @wonderofscience @physicsJ 300km every millisecond, but there are times I wish it were faster https://t.co/TKkruvgBth https://t.co/ocy2gFRYvN @iamdevloper https://t.co/BkKeiIicYe Mus protec <U+0001F476> yoda https://t.co/1dvhG0nTkU @roscosmos <U+041E><U+043D> <U+0431><U+044B><U+043B> <U+0432><U+0435><U+043B><U+0438><U+043A><U+043E><U+043B><U+0435><U+043F><U+0435><U+043D> @RationalEtienne @TheBabylonBee This is an important distinction @ValaAfshar Much more than this &amp; increasing rapidly @CodingMark @flcnhvy It is @archillect Once in a while, something happens that is even better than we imagined @skorusARK The factory is the product @AustinTeslaClub @TheBabylonBee Probably commenting on @signalapp will do more @PPathole I bought the replacement glass from a junkyard for $20.',\n",
       " 'They\\x92re great places to get spare parts.',\n",
       " '@TheBabylonBee A lot of people are going to be super unhappy with West Coast high tech as the de facto arbiter of free speech @alexandersibert @signalapp Already donated to Signal a year ago.',\n",
       " 'Will donate more.',\n",
       " '@benmezrich I am primarily trying to advance two causes: sustainable energy &amp; extending life/consciousness beyond E\\x85 https://t.co/VYBfaVHkys @song_wooseok @GerberKawasaki @benmezrich <U+0001F923><U+0001F923> @Ragazaga5 @SpacePadreIsle Maybe a Tesla AI day later this year @SpacePadreIsle The Prancing Pony?',\n",
       " '@BoredElonMusk <U+0001F923><U+0001F923> @erigganewmoney <U+0001F622> @mayemusk It\\x92s true @glenn22x @woketopiansa Yes, but not for long @woketopiansa Yeah, they seemed optimistic too My 14-year-old son, Saxon, said he feels like 2021 will be a good year.',\n",
       " 'I agree.',\n",
       " 'Let us all make it so.',\n",
       " '@Erdayastronaut @SpaceX Was also thinking that SpaceX Boca should hold fun parties and give tours for the community from time to time @Erdayastronaut @SpaceX I super support public spaces around our production &amp; launch sites, wherever it can be done\\x85 https://t.co/wmqWcT2WFH @Christo49699922 @sean18743005 @Erdayastronaut @SpaceX That too @sean18743005 @Erdayastronaut @SpaceX Catapult high into the air &amp; land on the roof with a base jumping parachute (the only way to travel) @Erdayastronaut @SpaceX That\\x92s actually our restaurant, but SpaceX is building a futuristic bar at the top of the h\\x85 https://t.co/z2UmtGSAoI @techreview And increase fun!',\n",
       " 'Hopefully.',\n",
       " '@benmezrich Me neither @TonyChoMrMagic @TeslaEnergy One of the best Tesla Solar Roof installations @91demigod No, but maybe one day @PPathole @engineers_feed Yes, that would be the best way to do it.',\n",
       " 'A large solar field or reactor is needed for po\\x85 https://t.co/Ph6x1PlnaM @engineers_feed His sick beats https://t.co/8PbsgffzRp @flcnhvy Probably less than a few dozen primary decision-makers.',\n",
       " 'Technically, only three.',\n",
       " '@Erdayastronaut @lexfridman Or at least the option for verification, so that the public can ascribe more credibilit\\x85 https://t.co/jU4WemVsjG Launch underway https://t.co/wbk7ZZ0Fqx Btw, critical feedback is always super appreciated, as well as ways to donate money that really make a difference (way harder than it seems) @eugenelee3 @engineers_feed Yup @engineers_feed Indirectly, an electric rocket is possible by using electricity to convert CO2+H2O \\x97&gt; CH4+O2.',\n",
       " 'This\\x85 https://t.co/fqzOtWQT9d @engineers_feed Not to get to orbit, unfortunately.',\n",
       " 'In space, photon emission powered by matter-antimatter annihila\\x85 https://t.co/Y8PO10oPQN @Teslarati @ResidentSponge This will be hard to make, as it isn\\x92t like any other vehicle @4thFromOurStar Playing the long game @ashleevance True @ID_AA_Carmack I hope so.',\n",
       " 'Wings don\\x92t work on the moon at all and def not well on Mars.',\n",
       " 'Also, no runways.',\n",
       " '@EricRWeinstein Hamiltonians have +2V the potential of Langrangians and a play!',\n",
       " 'https://t.co/2ja38Z8MRE @teslaownersSV Well, back to work @teslaownersSV How strange Use Signal @TheHackersNews Ya don\\x92t say.',\n",
       " 'Reminds me of this timeless classic \\x85 https://t.co/Gq1wayoTIr @UniverCurious Fast water with tiny rocks @flcnhvy Yes, and then Occam\\x92s razor is actually third most likely As seen from an external observer, not the participants The most entertaining outcome is the most likely @PPathole Dumb and Dumber is a great movie tho This is called the domino effect https://t.co/qpbEW54RvM @Dtrford @austinbarnard45 @AlexSvanArt @ErcXspace @SpceEnthusiast @SpacexVision @TomDixonDesign @SpaceX\\x85 https://t.co/eS5gArRyvS Because of the large footprint, it may seem flat, but actually ranges up to 5 stories tall Snow falling on Giga Berlin https://t.co/eTXMtYp8hG @RGVaerialphotos @SpaceX Yes @Gfilche <U+0001F609> @flcnhvy Tesla is responsible for 2/3 of all the personal &amp; professional pain in my life combined.',\n",
       " 'But it was worth it.',\n",
       " 'So proud of the Tesla team for achieving this major milestone!',\n",
       " 'At the start of Tesla, I thought we had (optimistica\\x85 https://t.co/1wlybPKMZj RT @Tesla: In 2020, we produced and delivered half a million cars.',\n",
       " 'Huge thanks to all those who made this possible.',\n",
       " 'https://t.co/q43vz6RMhd @newscientist Um, we have giant fusion reactor in the sky that works with no maintenance @comma_ai Tesla Full Self-Driving will work at a safety level well above that of the average driver this year, of t\\x85 https://t.co/jmABJUqfDF @PPathole Dojo isn\\x92t needed, but will make self-driving better.',\n",
       " 'It isn\\x92t enough to be safer than human drivers, Aut\\x85 https://t.co/dyy2rMhgIl Ignore the heading Great interview with Mathias Döpfner\\nhttps://t.co/ewnaHc4cH0 @jack <U+0001F3A9> The Greatest Gatsby <U+0001F3A9> @flcnhvy Inspired by the ballet @smvllstvrs @ErcXspace Rocket motion is primarily vertical, so you want the top open @jack Let\\x92s make the roaring 20\\x92s again!',\n",
       " '@Erdayastronaut Might be a few lumps along the way @Erdayastronaut @flcnhvy @ErcXspace Production is hard, prototypes are easy.',\n",
       " 'Building ~1000 Starships to create a s\\x85 https://t.co/XJLLjplJbP @ICannot_Enough @AloysiusFekete @RationalEtienne @biogirl09 @ErcXspace Exactly @RexChapman Haha @Erdayastronaut @flcnhvy @ErcXspace SN9 will press CH4 header tank with helium.',\n",
       " 'Long-term solution is under debate.',\n",
       " 'https://t.co/kaWWoL54jG @flabellina212 @RationalEtienne @biogirl09 @ErcXspace Yes @RationalEtienne @biogirl09 @ErcXspace Legs would certainly work, but best part is no part, best step is no step @flcnhvy @ErcXspace Yes @flcnhvy @ErcXspace Saves mass &amp; cost of legs &amp; enables immediate repositioning of booster on to launch mount \\x97 rea\\x85 https://t.co/jwDCjArymJ @ErcXspace We\\x92re going to try to catch the Super Heavy Booster with the launch tower arm, using the grid fins to take the load Snake-head dog had my undivided attention until winder-head ostrich came gliding through all nonchalant https://t.co/dtPMdM3TQp @Tesmanian_com Seems odd that the opposition group is from BMW\\x92s home state of Baveria.',\n",
       " 'That\\x91s very far from Brande\\x85 https://t.co/M7DYvli4cx @Tesmanian_com This is very sensible.',\n",
       " 'Opposition from anywhere cannot mean no progress everywhere!',\n",
       " '@harsimranbansal Literally @tobyliiiiiiiiii Are we sure this is real?',\n",
       " 'Destiny, destiny\\nNo escaping \\nthat for me All Tesla cars delivered in the final three days of the year will get three months of the Full Self-Driving option\\x85 https://t.co/PPaEreeo8y @SpaceNews_Inc And Mark Dankberg.',\n",
       " 'This action is wack, not dank!!',\n",
       " '@Reza_Zadeh Less?',\n",
       " '@ashleevance Westworld The Last Kingdom show is great @jayson32292601 Absolutely.',\n",
       " 'Will be text &amp; visualization, but could add voice too.',\n",
       " '@sfs_central !!',\n",
       " 'Even cheese is made of cake !!',\n",
       " '@karpathy If they don\\x92t love us, we\\x92re in deep trouble!',\n",
       " 'Not everything is made of cake https://t.co/oMaCmYQAwx @chicago_glenn True haha Such a weird game when you think about it https://t.co/5MrvVzmeKG This is not CGI https://t.co/VOivE97vPR @BenSullins We need a UI overhaul @Maldivawow @CodingMark @Tesla No, these are just incremental improvements to the production codebase.',\n",
       " 'FSD build is\\x85 https://t.co/07pUOraMGo @SpaceNews_Inc Starlink \\x93poses a hazard\\x94 to Viasat\\x92s profits, more like it.',\n",
       " 'Stop the sneaky moves, Charlie Ergen!',\n",
       " 'Entertainment will be critical when cars drive themselves @kimpaquette Just meeting with Larry Ellison to seek some advice.',\n",
       " 'Back working on Tesla end of quarter tomorrow.',\n",
       " '@richierichhhhh_ Absolutely What should Tesla do with in-car gaming in an autonomous world?',\n",
       " '@PPathole @WSJ Absolutely @Tesmanian_com Taste of the future Try playing Polytopia in your Tesla!',\n",
       " 'Great game.',\n",
       " 'Multiplayer online version coming soon.',\n",
       " '@WSJ Focus on making products &amp; services people truly love, so that the total economic pie is bigger, instead of en\\x85 https://t.co/qe4jcEzyTq @ThatDesignGuy @m_siphiw @moosuraj @Tesla Roughly 95% of parts in Tesla Roadster were unique \\x97 not in any other pro\\x85 https://t.co/R3yB6CmRB8 @LaurenRow5 @karpathy Yes @engineers_feed Very important @teslaownersSV @lexfridman Ok, service might be able to do this.',\n",
       " 'Will check.',\n",
       " '@teslaownersSV @lexfridman You mean install the external speaker on earlier cars that don\\x92t have it?',\n",
       " '@GUNMTLM3 @lexfridman No, but definitely this year @lexfridman Good point @conexionspacial @spacecoast_stve @NASASpaceflight Interesting @flcnhvy Liz has always done great interviews @spacecoast_stve @NASASpaceflight Falcon was 25% of successful orbital launches in 2020, but maybe a majority of pa\\x85 https://t.co/PmGu4vHQEZ @karpathy Vaccines are just the start.',\n",
       " 'It\\x92s also capable in theory of curing almost anything.',\n",
       " 'Turns medicine into a\\x85 https://t.co/URuVC4QF1A @jgrano305 @TeslaTruckClub @jeremyjudkins @JPUConn @jchybow @DirtyTesla Yes @TeslaTruckClub @jeremyjudkins @JPUConn @jchybow @DirtyTesla We will offer multiple display options @IvanEscobosa @Erdayastronaut @teslaownersSV A few more revisions needed.',\n",
       " 'Probably Beta 10 or 11.',\n",
       " '@Erdayastronaut @teslaownersSV Sure @Erdayastronaut @teslaownersSV Haha ok @kkvr2823 @tesla_adri @teslaownersSV There are subtle, important, differences between US &amp; Canada traffic rules, bu\\x85 https://t.co/XZX9ppVL92 @tesla_adri @teslaownersSV Yes @teslaownersSV We need a \\x93match other traffic speed\\x94 setting @stevewoz Definitely @flcnhvy @h3_extrachars It\\x92s a step in that direction @13arm13arm It\\x92s one <U+0001F525> or 1/2 <U+0001F525> if you don\\x92t have a car with pedestrian speaker.',\n",
       " 'We couldn\\x92t get everything done in\\x85 https://t.co/7HkZA1OhE4 @westcoastbill The writing on Cobra Kai is sick<U+0001F44C> @AfloatHickory Haha I will save you the nightmare of seeing me in those shorts @h3_extrachars You can upload custom music/sounds @jgrano305 Unfortunately, pedestrian speaker is needed, otherwise no external sound generator except actual horn Change your horn sound to <U+0001F410>, <U+0001F40D><U+0001F3B7>, <U+0001F4A8> or holiday jingles with latest Tesla software update!',\n",
       " 'Merry Christmas &amp; happy holidays!',\n",
       " '<U+0001F381> https://t.co/uk6NSPwR9R @Tesmanian_com Great game!',\n",
       " '@harsimranbansal @heydave7 It will most likely make sense for Starlink to go public once the revenue growth is reasonably predictable @heydave7 Engineering, design &amp; general company operations absorb vast majority of my mind &amp; are the fundamental li\\x85 https://t.co/VxV7gHUMbd @ElonsWorld @Real_Futurist @lexfridman Yes @flcnhvy @MarcusHouseGame A few months @MarcusHouseGame Coming soon @OLHZN Minor @TrevorMahlmann Yeah 12 story rocket turns off its engines &amp; does a controlled fall https://t.co/HCRgyx42rn @Erdayastronaut Yup, we\\x92re just ironing out a few bugs To Tesla owners taking delivery in the final days of year, your support is super appreciated!!',\n",
       " '@DeepMind @nature Frictionless AI.',\n",
       " 'What could possibly go wrong?',\n",
       " '@heydave7 Good idea @wintonARK During the darkest days of the Model 3 program, I reached out to Tim Cook to discuss the possibility of\\x85 https://t.co/opTz9UrNE0 @wintonARK Strange, if true.',\n",
       " '- Tesla already uses iron-phosphate for medium range cars made in our Shanghai facto\\x85 https://t.co/MIlWSilvRT @archillect Sparta\\x92s reply to Macedon @LizClaman @Tesla @FoxBusiness @ClamanCountdown Hi Liz!',\n",
       " 'Thanks to everyone who worked so hard to make Tesla successful.',\n",
       " 'My heart goes out to you.',\n",
       " '@teslaownerssv Indeed @Kristennetten It was a seriously twisted affair, but all\\x92s that ends well.',\n",
       " '@MKBHD They are, although it\\x92s kind low-key.',\n",
       " 'Tesla Superchargers are being made accessible to other electric cars.',\n",
       " 'RT @SpaceX: Photos from yesterday\\x92s launch and landing <U+2192> https://t.co/095WHX44BX https://t.co/6ojFySuaxo @michael_saylor Are such large transactions even possible?',\n",
       " '<U+2665><U+FE0F> i love all u crazy ppl out there <U+2665><U+FE0F> @BizzzzzyD You have a point (sigh) @pcgamer Great game @flcnhvy Pretty much.',\n",
       " 'The main value of college used to be hanging out, having pseudo intellectual conversations &amp;\\x85 https://t.co/0S0ybsCm0p Come for the comments, \\nstay for the memes<U+0001F484> @padgeuk Absolutely.',\n",
       " 'We will release FSD subscription early next year.',\n",
       " 'One word: Doge Bitcoin is almost as bs as fiat money @hajek_miloslav Great nails &amp; lipstick @MightyTesla @Kristennetten @lauren_kalo @SawyerMerritt @jasondebolt @CodingMark @28delayslater @BabyTesla3\\x85 https://t.co/dvwZGTPpda https://t.co/EbOjGshvrq @CallowayTech Sounds about right \\x93Lord\\x94 Edge @xDreamCoding @frank_thelen Nice branding Just kidding, who needs a safe word anyway!?',\n",
       " 'Bitcoin is my safe word RT @SpaceX: Falcon 9\\x92s first stage has landed on Landing Zone 1 https://t.co/mR18Qv3GoC RT @SpaceX: Liftoff!',\n",
       " 'https://t.co/AG4rAR6qNp @SpaceX Standing down for today to inspect rocket.',\n",
       " 'Hopefully launching tomorrow.',\n",
       " '@SpaceX Pressure is slightly high in upper stage liquid oxygen tank.',\n",
       " 'Review underway.',\n",
       " '@Tesla__Mania I am hoping to be back next month!',\n",
       " '@nytimes Very impressive mission by China!',\n",
       " '@SpaceX Last launch of 2020 coming up @teslaownerssv @astonmartin @Tesla He was indeed quite grumpy, but we did not actually know what we were doing, so he had a point @teslaownerssv It will get absurdly good.',\n",
       " 'Tesla AI/Autopilot engineering is awesome!',\n",
       " 'There\\x92s some great AI out ther\\x85 https://t.co/v8mUhEApOQ Star Light, Star Bright https://t.co/6CeTAZSXCO @Teslarati @13ericralph31 This is incorrect @TheBabylonBee <U+0001F923><U+0001F923> @pcgamer But it is visually stunning &amp; playability is good @pcgamer A t-shirt being better armor than a Kevlar chest plate doesn\\x92t make sense in the absence of magic.',\n",
       " 'Also, w\\x85 https://t.co/IYdKttVsqk @cleantechnica Oh and umm \\x85 https://t.co/jtg944ERCy @cleantechnica I absolutely support trans, but all these pronouns are an esthetic nightmare @Erdayastronaut @flightclubio The Raptors were well below max thrust or the ship would have blown through the altit\\x85 https://t.co/ikCRzpyxTr @Erdayastronaut @flightclubio Far from fully loaded, but we were going slow or the ship would have gone crazy high/far with three engines @picot_john @CyberpunkGame It\\x92s a good to great game imo, but improving what may seem like mere surface detail woul\\x85 https://t.co/zm0SZ9CbZg @truth_tesla @Tesmanian_com Perhaps slightly more confident, but it\\x92s essential to view this as output vs time.',\n",
       " 'As\\x85 https://t.co/RkFVJvotSE @Tesmanian_com Dankeschön Brandenburg und Grünheide!',\n",
       " '@austinbarnard45 @lrocket Sure hope that future doesn\\x92t come to pass!',\n",
       " '@Tesmanian_com Giga Berlin-Brandenburg will be the first to use our new structural pack architecture, 4680 (world\\x92s\\x85 https://t.co/wESAfntz7a @Dota2funny1 @CyberpunkGame Original Deus Ex was incredible, Human Revolution was also great @CyberpunkGame The objective reality is that it is impossible to run an advanced game well on old hardware.',\n",
       " 'This is\\x85 https://t.co/zO01QsU1wt RT @SpaceX: Starship landing flip maneuver https://t.co/QuD9HwZ9CX @TheOnion .',\n",
       " '@TheBabylonBee Ascent to the Heavens https://t.co/oGgsw88YRZ @engineers_feed <U+0001F923> @PPathole @CyberpunkGame Yeah, briefly.',\n",
       " 'Seems pretty good.',\n",
       " 'I picked Nomad, so start was a little slow, but picks up\\x85 https://t.co/nLLIPnbMxr @Zwiebelbach @its_menieb @CyberpunkGame https://t.co/aaYYPCPP1i Hehe https://t.co/SkLMiL3OxT @CyberpunkGame https://t.co/RHKsB40xqr @CyberpunkGame https://t.co/kmG7C9qF6h https://t.co/sdmXKbHdzd https://t.co/qbNT1dUsED RT @SpaceX: Falcon 9 launches SXM-7 to orbit, completing SpaceX\\x92s 25th launch this year https://t.co/ZRur0ewNlv @QuantaMagazine init void @PPathole @ErcXspace @SpaceX *cooling haha @PPathole @ErcXspace @SpaceX I still have a soft spot in my heart for transpiration cooking.',\n",
       " \"In theory, it would us\\x85 https://t.co/9SsChDKFAD @ErcXspace @SpaceX Ship leeward side will be bare metal, windward will have black, hexagonal heat shield tiles RT @Pockn_CG: Can't wait!!\",\n",
       " '@elonmusk #spacex #SpaceXStarship https://t.co/ynEtMywFvg @conexionspacial @Pockn_CG Yes @SpacePadreIsle @SpaceX Agreed, should be preserved in memory of SN8 RT @SpaceX: Photos from Starship SN8\\x92s flight test <U+2192> https://t.co/095WHX44BX https://t.co/5OzLYF7QRf @NASASpaceflight @BocaChicaGal Exactly!',\n",
       " 'Woohoo!!',\n",
       " '@Erdayastronaut @SpaceX SN8 did great!',\n",
       " 'Even reaching apogee would\\x92ve been great, so controlling all way to putting\\x85 https://t.co/xwm1fxmX0R Thank you, South Texas for your support!',\n",
       " 'This is the gateway to Mars.',\n",
       " 'Life, the Universe and Everything https://t.co/1ZCzInfc4u @Erdayastronaut Yeah, engines did great!',\n",
       " 'Mars, here we come!!',\n",
       " 'Fuel header tank pressure was low during landing burn, causing touchdown velocity to be high &amp; RUD, but we got all\\x85 https://t.co/wGJVdSahmF Successful ascent, switchover to header tanks &amp; precise flap control to landing point!',\n",
       " 'https://t.co/IIraiESg5M @TheBabylonBee <U+0001F920> @wonderofscience Near-orbital space is the fastest way to travel long distance on Earth!',\n",
       " '@SpaceX @Space_Station It\\x92s called the Space \\x93Station\\x94, but it\\x92s actually moving around Earth at ~25 times the spee\\x85 https://t.co/vYVIvrtZsa RT @SpaceX: Time-lapse of Dragon on approach \\x96 two Dragons now docked to the @space_station https://t.co/I046jBmC7o \\x93So long, and thanks for the orifice!\\x94\\n- Alien message decrypted @SpaceX Probably 1/3 chance of completing all mission objectives @SpaceX Hopefully flying tomorrow @NASASpaceflight Yup RT @NASA: Success!',\n",
       " \"At 1:40pm ET, @SpaceX's upgraded Dragon cargo spacecraft autonomously docked to the @Space_Station.\",\n",
       " '<U+0001F409> This is the 1st Out on the pad in South Texas https://t.co/RcYOXXpTc2 RT @Space_Station: The station and the @SpaceX #Dragon are going into an orbital night period before the 1:30pm ET docking.',\n",
       " 'The #CrewDragon @Space_Station @SpaceX Wow, Station looks amazing!',\n",
       " 'RT @NASA: Good morning, earthlings.',\n",
       " '<U+2600><U+FE0F> The journey continues!',\n",
       " 'Watch as the NASA @SpaceX cargo resupply mission docks to the @Space_Statio @NASASpaceflight Knock, knock, singing telegram!',\n",
       " '@lexfridman Carrying even more symbiotic bacteria (~40 trillion) than cells @AdamKlotz_ @lexfridman Yes @lexfridman We are mobile cell colonies 100 RT @SpaceX: Tracking footage from a helicopter of today\\x92s Falcon 9 launch off LC-39A https://t.co/7rYVZRTS18 RT @Erdayastronaut: There\\x92s something genuinely magical about seeing #Starship #SN8 in person.',\n",
       " 'Boca Chica is beautiful, quiet and serine.',\n",
       " 'T Im Gespräch mit Mathias Döpfner \\n\\nhttps://t.co/bqa5pIAOnk RT @SpaceX: Dragon separation confirmed; the spacecraft is on its way to the @space_station.',\n",
       " 'Autonomous docking tomorrow at approximately 1 RT @SpaceX: Falcon 9 booster has landed on the Of Course I Still Love You droneship https://t.co/cNL6t0LQ0g RT @SpaceX: Liftoff!',\n",
       " 'https://t.co/pgk24cph9e @haya2e_jaxa @JAXA_en Congratulations!',\n",
       " '@haya2e_jaxa Congratulations!',\n",
       " '@RDAnglePhoto @SpaceX @Teslarati Yes, it does.',\n",
       " 'RT @boringcompany: Tunnel Rave https://t.co/d3JKOIAsy7 @RationalEtienne And no toilet paper <U+0001F923><U+0001F923> Watch Demolition Man Prometheus Unbound RT @SpaceX: The Falcon 9 booster supporting this mission previously launched @NASA astronauts Bob Behnken and Doug Hurley to the @space_sta @ErcXspace @SpaceX @NASASpaceflight @Erdayastronaut @MarcusHouseGame @FelixSchlang Not bad @TheOnion It was a beast compared to the VIC-20 @Tesmanian_com Award accepted on behalf of the great people at Tesla, SpaceX, Neuralink &amp; Boring Co Much of what people think of an science is actually engineering, eg no such thing as a \\x93rocket scientist\\x94, only roc\\x85 https://t.co/ws70UvCRyN Science is discovering the essential truths about what exists in the Universe, engineering is about creating things\\x85 https://t.co/XMQTBrLDYP @justpaulinelol It does get a bit cold at night @engineers_feed Paint makes a hell of a difference @DeepMind Congrats!',\n",
       " '@lrocket Thanks for everything you did to help build SpaceX!',\n",
       " 'Some of the best memories ever.',\n",
       " '@RGVaerialphotos It will be real soon @MarcusHouseGame @bcart03 @nextspaceflight @NASASpaceflight Starship legs are one of the hardest problems.',\n",
       " 'External\\x85 https://t.co/csIZk6sEVu @bcart03 @nextspaceflight @NASASpaceflight Static fire is not risky from build site, but we need to clear the build site for early flights @nextspaceflight @NASASpaceflight Just a static fire tomorrow.',\n",
       " 'Flight no earlier than Wednesday.',\n",
       " '@ErcXspace @SpaceX It will have landing legs @eugenelee3 @PPathole @karpathy Yes, very sad news.',\n",
       " 'Tony was great.',\n",
       " '@PPathole @karpathy For a second there, I thought that was a pic of Thanos haha @Poppa_BearQ @ID_AA_Carmack Yeah, truncate zeros &amp; then round @dburkland @ID_AA_Carmack Probably going to a wider beta in ~2 weeks @ID_AA_Carmack fp16 with least important digits truncated (so it feels like fp32) is what we\\x92re betting on for training with Dojo @ID_AA_Carmack Int8 for almost all heavy lifting in inference works great @thisisjendoll But actually!',\n",
       " 'https://t.co/lb14pKsayI @thisisjendoll https://t.co/mMg5b8b40z Happy Thanksgiving!',\n",
       " '@teslaownerssv @JohnEG78 @TeslaChillMode @UNPLGD3 @MFrunker @ccteslaclub Hopefully next month @JohnEG78 @TeslaChillMode @UNPLGD3 @MFrunker @ccteslaclub Ok.',\n",
       " 'Overall air suspension height &amp; damping algorithm is\\x85 https://t.co/opgo08vd4Y @karpathy Haha true @HumanoidHistory The Promise is greatly needed @EvaFoxU We will have special colors for new Roadster, as we did for the original @RationalEtienne @TheBabylonBee <U+0001F923><U+0001F923> .',\n",
       " '@TheBabylonBee is savage <U+0001F923><U+0001F923> @WorldAndScience If you ever wondered where we came from This is a life leader launch, so more risk than normal https://t.co/EtFP9IELrf @TesLatino @flcnhvy @thesheetztweetz Yes, but only slightly filled @aholstein404 @flcnhvy @thesheetztweetz This is a subject of much debate @flcnhvy @thesheetztweetz Major upgrades are slated for SN15 @flcnhvy @thesheetztweetz Many small improvements, but overall similar.',\n",
       " 'Wiring is more robust, engines are more mat\\x85 https://t.co/7oFbmY1N25 @thesheetztweetz But that\\x92s why we have SN 9 &amp; SN10 @thesheetztweetz Lot of things need to go right, so maybe 1/3 chance Good Starship SN8 static fire!',\n",
       " 'Aiming for first 15km / ~50k ft altitude flight next week.',\n",
       " 'Goals are to test 3 engin\\x85 https://t.co/7OjorqNhb6 @Erdayastronaut @MarcusHouseGame Maybe start on that a year from now.',\n",
       " 'Depends on how Starship progress goes.',\n",
       " '@RationalEtienne @MarcusHouseGame Not yet @StarshipFairing @MarcusHouseGame Not bad!',\n",
       " 'We will definitely need more engines if we make the cargo bay all propel\\x85 https://t.co/j2uVULTatv @MarcusHouseGame Rapid &amp; complete rocket reuse, low cost propellant, orbital refilling &amp; propellant production at d\\x85 https://t.co/UmyUR7yShY @Erdayastronaut @PPathole @Teslarati @TeslaRoadTrip Yes @PPathole @Teslarati @TeslaRoadTrip We\\x92re still far from simply video in, control out.',\n",
       " 'The biggest game-changer, cu\\x85 https://t.co/nb5Hl7gzlx @Teslarati @TeslaRoadTrip FSD Beta 5 coming out in a few days.',\n",
       " 'Improvement should be significant.',\n",
       " '@XHNews Exciting mission!',\n",
       " '@vincent13031925 @Tesla Wow @Liv_Boeree Yea Tomorrow will be the 7th flight of this rocket, landing on droneship Of Course I Still Love You @JohnnaCrider1 @teslaownerssv @28delayslater Sure @FutureJurvetson @flcnhvy True @RationalEtienne @heydave7 @philwhln We have quiet a queue of products to build!',\n",
       " 'Better do new Roadster at some point<U+0001F62C>.',\n",
       " '@RationalEtienne @ShyCybertruck Fate loves irony, but hates hypocrisy RT @NASA: Booster separation, second-engine start, and fairing separation as the U.S.-European Sentinel-6 Michael Freilich ocean-observing @ICannot_Enough @heydave7 Yes <U+0001F603> @flcnhvy Our data center was named Skynet as a joke over 10 years ago.',\n",
       " 'Might have been tempting fate!',\n",
       " '@heydave7 @philwhln Tesla is a vehicle for creating &amp; producing many useful products @NASASpaceflight Largest cast titanium part in the world.',\n",
       " 'No heat shielding needed.',\n",
       " 'Landing at Vandenberg AFB in California https://t.co/46J2GcCjP0 @tobyliiiiiiiiii @SpaceX @NASA @NASA_LSP @NASAJPL @esa Actually, off to the side (so it doesn\\x92t take out the launch\\x85 https://t.co/Fr9aUCYWCO @tobyliiiiiiiiii @SpaceX @NASA @NASA_LSP @NASAJPL @esa Where it should be!',\n",
       " '@philwhln @heydave7 Because I am not an investor.',\n",
       " 'Tesla is definitely not the only good company, but investing is n\\x85 https://t.co/wDUz0wnuIn Well, almost anything https://t.co/FFPVDsqruC Quite the day ahead https://t.co/apZNgmo0k7 RT @SpaceX: Crew-1\\x92s view of Earth during Dragon\\x92s flight to the @space_station https://t.co/lQW6TYmpB7 @NASAaero @LockheedMartin Now *this* is what you\\x92d call pointy!',\n",
       " '@cleantechnica Cool @Astro_Fonseca @Space_Station @wonderofscience @VirtualAstro They\\x92re moving at ~25 times the speed of sound, but it feels like nothing @WorldAndScience https://t.co/XAJaN4j9ZR @vicentes @EvaFoxU @PPathole @mirojurcevic @TashaARK @Space_Station There will always be upgrades @EvaFoxU @PPathole @mirojurcevic @TashaARK @Space_Station It will be better than human vision by quite a margin @enn_nafnlaus @mirojurcevic @TashaARK @Space_Station Reality looks like a strange ghost-world at radar wavelengths.',\n",
       " 'https://t.co/DMGov9rcnu @PPathole @mirojurcevic @TashaARK @Space_Station Exactly @mirojurcevic @TashaARK This is a misperception.',\n",
       " 'SpaceX developed &amp; continues to use lidar for Dragon docking with\\x85 https://t.co/3I0bWGjlQp @PhilippeCROIZON @SpaceX One day we will fly you on Starship @Peter_J_Beck Well done!',\n",
       " '@hisdirtremoves @SpaceX I can\\x92t comment on turbopump internal details, but you\\x92re roughly in the ballpark.',\n",
       " 'Wow, roc\\x85 https://t.co/0SRlFg03Fg @TashaARK To be clear, this was just an XPeng problem.',\n",
       " 'Other companies in China have not done this.',\n",
       " '@IsaacLatterell @TashaARK @karpathy Andrej is awesome, but it should be said that we have a very talented Autopilot\\x85 https://t.co/64ocngk3ey @spacetouristuk @TashaARK Yeah.',\n",
       " 'They stole Apple\\x92s code too.',\n",
       " 'https://t.co/gy4DT7Pq9N @TashaARK They have an old version of our software &amp; don\\x92t have our NN inference computer @levie Wild times!',\n",
       " '@RocketLab Congrats!',\n",
       " '@slashdot .',\n",
       " '@TheOnion @ID_AA_Carmack Yup @flcnhvy Change out a few parts, otherwise fine @Forbes Caution strongly advised with SPACs @AdamKIotz @Suvitruf @archillect Sure @Suvitruf @archillect Haha sexy cropping champion of all time @tweetmenima @teslaownerssv If next week\\x92s release looks good, we will widen beta @justpaulinelol @teslaownerssv Unfortunately, there are too many rules around liquor distribution, even in the US.',\n",
       " 'https://t.co/kvHlbueE1u @teslaownerssv Next week\\x92s release is special.',\n",
       " 'Lot of fundamental improvements, both important bug fixes &amp; entire n\\x85 https://t.co/BV5STdWNgj @westcoastbill @SpaceX 13 years &amp; $11 billion \\x85 wow @OwenSparks_ @flcnhvy @Tesla Safety is our primary design goal @PPathole @AstroJordy @flcnhvy Fully @Astronomiaum Let the Martians decide their own future @shifthappends @Tesla A lot of my brain space is spent dealing with both units!',\n",
       " '@Astronomiaum Terraforming will be too slow to be relevant in our lifetime.',\n",
       " 'However, we can establish a human base\\x85 https://t.co/uygaAE7g3r @PPathole @xDreamCoding @garyblack00 That is certainly the intention!',\n",
       " '@xDreamCoding @garyblack00 https://t.co/fREZwjCwNa @garyblack00 The only publicly traded stock I own is Tesla @garyblack00 Wise words from Bogle.',\n",
       " 'The point of companies is products &amp; services.',\n",
       " 'They have no point in &amp; of thems\\x85 https://t.co/eNCU8cBLpy @teslaownerssv @AstroJordy @flcnhvy No, just a mild cold.',\n",
       " 'Same with my bro.',\n",
       " 'Def had cov2 though.',\n",
       " 'Pc&lt;20 means viral\\x85 https://t.co/UySAnpqtFI @Astronomiaum Life in glass domes at first.',\n",
       " 'Eventually, terraformed to support life, like Earth.',\n",
       " '@AstroJordy @flcnhvy Yeah @Daywalker_xD @Astronomiaum I was going to say \\x93Sim!\\x94, but that seemed too obvious haha @Astronomiaum Deveras!',\n",
       " '@flcnhvy And cases with high (non-infectious) Ct should quarantine for a few days, while getting another test.',\n",
       " 'Seco\\x85 https://t.co/oAlvZwCMIO @tobyliiiiiiiiii So many things you want &amp; some you didn\\x92t know you wanted @nichegamer Maybe a little Mercy \\x85 https://t.co/9iE40HOihr Tesla holiday software release is <U+0001F525><U+0001F525> @StaceyR28715306 @Maisie_Williams <U+0001F60F> Cobra Kai is a deep cut @archillect It\\x92s all cake &amp; someone took a bite @nichegamer There is such a thing as too much sentience Deus ex machine learning https://t.co/5ZSYalVczx @peterrhague It\\x92s designed to make life multiplanetary, otherwise extreme overkill for mere Earth sector activity!',\n",
       " 'https://t.co/yjLTT8pEEu @Kristennetten @royalsociety More like he gave it his blessing.',\n",
       " 'It was sort of a groundswell of those who believed\\x85 https://t.co/fwK1ziHfEg Nullius in Verba @royalsociety @westcoastbill Indeed @ReflexFunds @nickidk4 @pcgamer Dojo/Doge @PPathole @Erdayastronaut @rweb11742 Yeah, looks like marginal cost of launch will be less than $1M for more than 1\\x85 https://t.co/rNSJ5FkDXT @speculawyer @Erdayastronaut @rweb11742 Exactly @Erdayastronaut @rweb11742 Merlin is a strong local maximum design, but kerosene is suboptimal fuel, no matter what\\x85 https://t.co/JoetYsKGp7 @parstalberg @josh_bickett @ICannot_Enough @Erdayastronaut @rweb11742 Yes, but from a visiting American.',\n",
       " 'Ah, the irony is just too much!!',\n",
       " '@josh_bickett @ICannot_Enough @Erdayastronaut @rweb11742 Yeah, PCR Ct was unequivocal at &lt;20.',\n",
       " 'Doesn\\x92t matter what m\\x85 https://t.co/YJdogoKX8Q @flcnhvy @LUGG4S1 @pcgamer Maybe making some notable changes.',\n",
       " 'Will wait until figurative &amp; literal dust settles.',\n",
       " '@ICannot_Enough @Erdayastronaut @rweb11742 Pretty close.',\n",
       " 'Definitely feel <U+0001F4AF> if I take DayQuil.',\n",
       " 'Frankly, this was one\\x85 https://t.co/hj0ThLR48N @LUGG4S1 @pcgamer Avionics cables moving to steel pipe shields &amp; adding water-cooled steel pipes to test pad @LUGG4S1 @pcgamer About 2 secs after starting engines, martyte covering concrete below shattered, sending blades of\\x85 https://t.co/vilv1S16Yo @Erdayastronaut @rweb11742 The most amazing thing about rocket engines is that they *sometimes* don\\x92t blow up!',\n",
       " 'The\\x85 https://t.co/EUXoocFR9T @pcgamer We should just count the atoms at this point @DJSnM @Erdayastronaut @CharlesNOtrumps @rweb11742 Absolutely.',\n",
       " 'Production/testing of rocket engines is over 90% of\\x85 https://t.co/Tv3piXzp4I @Erdayastronaut @CharlesNOtrumps @rweb11742 Our first Merlin engine design was really bad tbh.',\n",
       " 'Nothing worked well\\x85 https://t.co/Y5njREPvtc @billhuang688 @JohnnaCrider1 @timmerenginerd @jack Maybe *I* just love irony haha @GreenIsClutch @JohnnaCrider1 @timmerenginerd @jack They\\x92re on their way!',\n",
       " 'Hopefully, more Teslaquila next month.',\n",
       " '@ChrisG_NSF Special permission received from Stonecutters Guild!',\n",
       " 'https://t.co/SW5RBm1sRB @JohnnaCrider1 @timmerenginerd @jack Fate <U+0001F5A4> Irony @jack Well said.',\n",
       " '@trylolli @Maisie_Williams <U+0001F47B> <U+0001F4B5> \\nhttps://t.co/UWerAhxUev @Erdayastronaut @rweb11742 Damn, that\\x92s not easy!',\n",
       " 'I spent quite a bit of time looking at Russian/Ukrainian engines.',\n",
       " 'They\\x92re good.',\n",
       " '@PPathole @michaelmina_lab Yes RT @SpaceX: Docking confirmed \\x96 Crew Dragon has arrived at the @space_station!',\n",
       " '@Maisie_Williams <U+0001F3B6> Toss a bitcoin to ur Witcher <U+0001F3B6> @Kristennetten <U+0001F609> RT @NASA: <U+0001F409> Enter the Crew Dragon.',\n",
       " 'At 4:48 p.m. EST (9:48 p.m. UTC), the NASA @SpaceX Crew-1 astronauts give you a LIVE tour of their space @WhatsupFranks @michaelmina_lab CureVac, Moderna &amp; a few others.',\n",
       " 'Tesla makes the machine CureVac uses to go from kn\\x85 https://t.co/kVEPRq79Rl @michaelmina_lab Creating synthetic mRNA for cures/vaccines is the future of medicine imo.',\n",
       " 'Turns it (mostly) into a\\x85 https://t.co/Yp7djaWikS @gaertner_anne @Neuro_Skeptic @DresdenTea @judith_herbers Haha @michaelmina_lab Great thread @SamTalksTesla I\\x92m ok, thanks for asking.',\n",
       " 'No symptoms for past few days, apart from fatigue.',\n",
       " 'Unless something chang\\x85 https://t.co/S8EO2xB2sf <U+2665><U+FE0F> Launch in 5 minutes @flcnhvy Yeah, with cooling channels integrated into the chamber walls The same propellant is used either for abort or for orbital maneuvering, as one use obviates the other Dragon can also hover &amp; land propulsively, but we use the parachutes for maximum safety https://t.co/Mr7VFIQwWf Thrusters are integrated with spacecraft, enabling abort capability all the way to abort for increased safety https://t.co/KrOHKOr6AE RT @NASA: What song would you play on your ride out to the launch pad?',\n",
       " '#LaunchAmerica https://t.co/vzhxUn6Yie RT @SpaceX: Dragon has completed 22 flights to and from the @space_station.',\n",
       " 'It was designed from the beginning with human spaceflight in mi RT @SpaceX: Dragon is the only spacecraft currently flying capable of returning significant amounts of cargo to Earth and is the first priv RT @SpaceX: SpaceX\\x92s custom-tailored suits route the communications and cooling systems and protect the crew in the event of cabin depressu RT @NASA: LIVE NOW: We are ready to #LaunchAmerica.',\n",
       " 'Are you?',\n",
       " '<U+0001F680>\\n\\nWatch coverage of the NASA @SpaceX Crew-1 mission.',\n",
       " 'Liftoff is at 7:27pm ET: RT @SpaceX: Watch Falcon 9 launch Crew Dragon on its first operational mission to the @space_station with astronauts on board <U+2192> https://t.c @tboneagnoobs Ok RT @SpaceX: All systems are go for tonight\\x92s launch at 7:27 p.m. EST of Crew Dragon\\x92s first operational mission with four astronauts on boa @KlotzAdam @PPathole @AstroJordy @erujabidi Yeah, I feel pretty normal.',\n",
       " 'No symptoms right now.',\n",
       " 'Last week, I had sym\\x85 https://t.co/gL0mhrqJxY @PPathole @AstroJordy @erujabidi Doing tests from several different labs, same time of day, administered by RN &amp; am\\x85 https://t.co/hajhh7La7Q @PPathole @Mario_Livio Both obv insanely great, too bad they had this pointless argument Astronaut launch today!',\n",
       " 'https://t.co/3FAzZGss8c RT @NASA: <U+0001F338> @Astro_Soichi has a message for boys and girls in Japan: \"Space is waiting!\"',\n",
       " \"In this @Tumblr Spotlight, @JAXA_en astronaut So RT @NASA: This week...\\n\\n<U+0001F680> NASA's @SpaceX Crew-1 astronauts arrive at @NASAKennedy ahead of launch\\n<U+0001F534> Our @NASAPersevere rover marks 100 days RT @Astro_Soichi: #SpaceX #NASA #Crew1 just finished final dress rehearsal, getting ready for Saturday launch!\",\n",
       " 'Behind me is \"real\" #Dragon @Mario_Livio No kids though @Mario_Livio Hell of a wig collection too @michaelmina_lab It would be great if labs could give people this level of granular feedback in their results RT @michaelmina_lab: @elonmusk Great question!',\n",
       " 'It\\x92s more complex question and depends on why the test is being used - ie: do you want to kn Worth reading this thread if you\\x92re curious about rona testing https://t.co/FA6kD61eBA @stonkmanup @michaelmina_lab They should be imo.',\n",
       " 'If you get a blood pressure test, they tell you the number, not ju\\x85 https://t.co/tWl0Dgurmk @AstroJordy @erujabidi A little up &amp; down.',\n",
       " 'Feels just like a regular cold, but more body achy &amp; cloudy head than co\\x85 https://t.co/ihVPeox7m6 @michaelmina_lab In your opinion, at what Ct number for the cov2 N1 gene should a PCR test probably be regarded as\\x85 https://t.co/emuXLx698G @michaelmina_lab @stendeck77 !',\n",
       " '@teslaownerssv Cool, but please be super cautious.',\n",
       " 'Expect two steps forward, one back.',\n",
       " 'Lot of new code was merged.',\n",
       " '@austinbarnard45 Just a scratch.',\n",
       " 'We can buff it out.',\n",
       " '@erujabidi Am getting wildly different results from different labs, but most likely I have a moderate case of covid\\x85 https://t.co/XLBAHahJOj @WhatsupFranks @lexfridman NPCs all the way up @lexfridman Ahem Unless you\\x92re on DMT Laws of thermodynamics:\\n1.',\n",
       " 'You can\\x92t win\\n2.',\n",
       " 'You can\\x92t break even\\n3.',\n",
       " 'You can\\x92t stop playing Shakes fist at entropy @RealNattastic Big expansion of beta program in 6 to 8 weeks!',\n",
       " '@robintosh_nunez @PPathole Interesting.',\n",
       " 'My Thursday night saliva sample came back today with N1 gene (unique to cov\\x85 https://t.co/Tm7cs8oTdT @ICannot_Enough @JohnnaCrider1 What\\x92s honey?',\n",
       " '@slashdot Feels that way @WhatsupFranks @bluemoondance74 @StephenKing This seems accurate @bluemoondance74 @StephenKing Cold symptoms are gone for now <U+0001F600><U+0001F680><U+0001F4AB> @StephenKing There are degrees of pos @MrSammy_H @pelagicbird @max_roi @rossy65 Heneghan makes a lot of sense.',\n",
       " 'Hilarious that he has to clarify that he r\\x85 https://t.co/MlXngcSA9T @WhatsupFranks The number of PCR amplification cycles required to detect the virus is a rough indicator of your vir\\x85 https://t.co/mn8192hUeQ @MrSammy_H @max_roi @rossy65 This a great reference!',\n",
       " 'Worth a read.',\n",
       " 'Case closed https://t.co/pUYiJcAdD6 Soon https://t.co/mWOpR7W8kk @PPathole Fwiw, lab I just spoke to thinks below 30 is accurate, 30 to 40 gets dicey &amp; above 40 is bs.',\n",
       " 'Will talk to\\x85 https://t.co/K77wXQ11yt Lab I just spoke to said cov2 PCR detection (N1 &amp; N3 genes) below 30 cycles is reliable &amp; above 40 cycles is not @RationalEtienne @ryaneshea Note, this is not the spike protein.',\n",
       " 'They don\\x92t consider that reliable.',\n",
       " '@RationalEtienne @ryaneshea Just spoke directly to a testing lab.',\n",
       " 'Their main PCR search is for the N1 gene, unique\\x85 https://t.co/x57OdvDAuO @PPathole Strange @ryaneshea Possible explanation for the dramatic decline in cold &amp; flu prevalence vs prior years.',\n",
       " 'If someone comes\\x85 https://t.co/gMLVEwwXDP @ryaneshea Moreover, lower the true prevalence, the higher the false positive number will be.',\n",
       " 'This sounds obvious,\\x85 https://t.co/XvAbEkLh1q @ryaneshea From https://t.co/42z7vRPB9c https://t.co/XTSukcc3Tl @dana_e_morgan Sure is Would be great to hear from people who know a lot about the PCR testing industry.',\n",
       " 'What\\x92s the approximate false posi\\x85 https://t.co/lVc11nIkql @ClareCraigPath Interesting @john_beans @DirtyTesla Interesting What is the general population (no knowledge of symptoms) accuracy of a sars-cov2 PCR test &amp; is it possible to gene\\x85 https://t.co/VbIU7ds4UQ @PPathole @cleantechnica A good PCR test should identify if I have the cov2 spike proteins, although I have heard s\\x85 https://t.co/M8Vj2gaOfs @justpaulinelol @cleantechnica Mild sniffles &amp; cough &amp; slight fever past few days.',\n",
       " 'Right now, no symptoms, although I did take NyQuil.',\n",
       " '@cleantechnica Technically, I tested positive, then negative twice, then positive again, so \\x93Elon Musk Tests Negati\\x85 https://t.co/6ohTA09S5l The carousel turns ever faster @JoeInGeneral @andrewbogut Yup @ajtourville Exactly @JaneidyEve Symptoms of a typical cold.',\n",
       " 'Nothing unusual so far.',\n",
       " '@BLKMDL3 If it\\x92s happening to me, it\\x92s happening to others.',\n",
       " 'I\\x92m getting PCR tests from separate labs.',\n",
       " 'Results will take about 24 hours.',\n",
       " 'Something extremely bogus is going on.',\n",
       " 'Was tested for covid four times today.',\n",
       " 'Two tests came back negative, two cam\\x85 https://t.co/Z2V15u7Zcf @austinbarnard45 Burst disk worked, so vehicle appears to be ok. We\\x92ll have to swap out at least one of the engines.',\n",
       " '@tobyliiiiiiiiii @SpacePadreIsle @austinbarnard45 Maybe melted an engine preburner or fuel hot gas manifold.',\n",
       " 'Whatev\\x85 https://t.co/5elyX8PjlG @austinbarnard45 We lost vehicle pneumatics.',\n",
       " 'Reason unknown at present.',\n",
       " 'Liquid oxygen header tank pressure is risin\\x85 https://t.co/SZc90HnTi8 @DrPhiltill <U+0001F923><U+0001F923><U+0001F44D> RT @Teslarati: Tesla tops list of 2020\\x92s Most Attractive Employers for US engineering students\\nhttps://t.co/KKNYQlet0o 4 Astronauts fly to @Space_Station on Sat night from Cape.',\n",
       " 'First operational flight of Crew Dragon.',\n",
       " 'https://t.co/uZCGiKciKb @Cardoso Luck is the best superpower RT @SpaceX: Thank you to all those who have served and sacrificed #VeteransDay https://t.co/U8kN4FZpJ9 RT @SpaceX: Crew access arm swings into place https://t.co/XAImd6nLJV @hiromichimizuno Yes @Kristennetten It is an honor that they would choose to work with me.',\n",
       " 'I strive to ensure that the companies enable\\x85 https://t.co/OTdwCSk3cK Such a privilege to work with people I like &amp; respect so much.',\n",
       " 'I feel blessed.',\n",
       " 'RT @Commercial_Crew: The Flight Readiness Review for the Crew-1 mission to the @Space_Station has concluded, and @NASA and @SpaceX are GO t RT @SpaceX: Falcon 9 and Crew Dragon vertical on Launch Complex 39A https://t.co/hBVUHWv3Ab @DJSnM @DavidHuber15 @nickhenning3d @SpaceX @ErcXspace @Neopork85 @C_Bass3d @Caspar_Stanley @SpacexVision @FelixSchlang Probably @TeslaNY @Tesla Happy to see this :) @SamTalksTesla @Tesla I do expect this to become an important product for the world, but probably not financially material for Tesla @nickhenning3d @SpaceX @ErcXspace @Neopork85 @C_Bass3d @Caspar_Stanley @SpacexVision @FelixSchlang There\\x92s no entry\\x85 https://t.co/NCafKnfZlc @SamTalksTesla @Tesla Tesla makes the RNA Bioreactor that can make vaccines / cures.',\n",
       " 'CureVac has version 2 in use.',\n",
       " 'https://t.co/OPouohyAmu RT @SpaceX: Crew Dragon and Falcon 9 in the hangar at Launch Complex 39A ahead of launching four astronauts to the @space_station; liftoff @TesLatino Checking @pcgamer I just hope this game doesn\\x92t twist itself to tedium out of fear of being canceled RT @boringcompany: Rumor has it that \"Austin Chalk\" is geologically one of best soils for tunneling.',\n",
       " 'Want to find out?',\n",
       " 'Austin jobs now avai https://t.co/d0i2w8wNKG Yes, you can have my damn cookie!',\n",
       " 'should be a browser setting @teslaownerssv @Tesla Thanks to a lot of great Autopilot/AI hardware &amp; software engineers at Tesla!',\n",
       " '@BBCTech For sure @MKBHD @Vyyyper Will be worth it @MKBHD Exactly @Model3Owners @MKBHD Sure @MKBHD Actually, it\\x92s still there https://t.co/2zLKc8Fc2d @Ed_Spartan_117 @Tesla @NYKChannel Wait until you see what Cybertruck will do @MKBHD This is accidental.',\n",
       " 'Will be back shortly.',\n",
       " 'RT @Tesla: 20k Superchargers and counting https://t.co/urudyt9Eui @Erdayastronaut @RenataKonkoly @SpaceNews_Inc Am hoping to change booster design to land back on launch mount with\\x85 https://t.co/HpRGPtt6ru @Vasu42698392 @amyceskridge Chip has temp sensor &amp; automatically maintains safe temp @reganlovetesla @RenataKonkoly @SpaceNews_Inc Enough already on my plate &amp; Tesla\\x92s.',\n",
       " 'Maybe one day will do a prototy\\x85 https://t.co/tGPWEJ7WQA @amyceskridge Neuralink won\\x92t overclock the brain, it will transfer processing to the supercomputer extension of yo\\x85 https://t.co/NByBBFX0T2 @flcnhvy @PPathole @cleantechnica We rewrote all labeling software for 4D.',\n",
       " 'Very different from labeling single phot\\x85 https://t.co/mLTBdsQuTy @PPathole @cleantechnica Version 1 is about a year away @RenataKonkoly @SpaceNews_Inc It would appear that their calculations were incorrect @SpaceNews_Inc China understands the profound importance of reusability.',\n",
       " 'The era of expendable rockets will soon be over.',\n",
       " '@cleantechnica <U+2660><U+FE0F><U+2660><U+FE0F> Tesla Autopilot/AI team <U+2660><U+FE0F><U+2660><U+FE0F> @cleantechnica Good explanation.',\n",
       " '4D is essential for dynamically occluded objects, especially in large intersection\\x85 https://t.co/ooJ9PqAyHj RT @archillect: https://t.co/5U3fNqFhr1 The Phantom of the Opera \\nIs here \\x85 inside your mind @LinusTech @SpaceXStarlink @SpaceX <U+0001F1E8><U+0001F1E6> <U+0001F600> @PPathole Just looking for problem-solvers who get things done with a high sense of urgency.',\n",
       " 'Don\\x92t care if or where they went to school.',\n",
       " 'When sending your resume, please describe a few of the hardest problems you solved &amp; exactly how you solved them A New Banner is needed\\nNeither hard left nor right @PPathole Another fine day in the simulation @Nereide Faraday invented the electric motor, Tesla the (commutator-free, three-phase) AC induction motor, in other\\x85 https://t.co/cQo2rjLRBv @Nereide Maxwell was amazing.',\n",
       " 'Should have more recognition.',\n",
       " 'Tesla Motors, Inc., was almost called Faraday, as it to\\x85 https://t.co/6y42KMCPGk 420 is ten times better than 42 <U+0001F917> RT @SpaceX: Deployment of GPS III-4 confirmed https://t.co/fCFJRcWMti RT @SpaceX: Falcon 9\\x92s first stage lands on the Of Course I Still Love You droneship https://t.co/hd0IBPX3T5 RT @SpaceX: Liftoff!',\n",
       " 'https://t.co/LI4O0TNmL8 @LinusTech @SpaceXStarlink @SpaceX Awaiting approval from Canadian authorities Recruiting ace engineers for Giga Berlin!',\n",
       " 'Will interview in person tomorrow on site.',\n",
       " 'Send resume to 25Guns@Tesla.com.',\n",
       " '@Chad_Hurley @realDonaldTrump @kanyewest Stop being a chad @Chad_Hurley @realDonaldTrump @kanyewest Uh \\x85 Chad wtf @TechAmazing Einstein was great, but did not succeed at engineering (and he tried) @jtrevorchapman Yeah, that will be relatively easy, as so few users out in the ocean @ICannot_Enough @ZainRaz4 @vincent13031925 @JonErlichman Yes, although I didn\\x92t expect the stock to rise so much so\\x85 https://t.co/TMW6phbef0 @FutureJurvetson @PPathole Super appreciate your support, Steve!',\n",
       " 'That convertible loan gave us 6 months of runway.',\n",
       " 'https://t.co/eJ7iOVx2W4 @ZainRaz4 @vincent13031925 @JonErlichman Closest we got was about a month.',\n",
       " 'The Model 3 ramp was extreme stress &amp; pa\\x85 https://t.co/WuHekj0HIo @vincent13031925 @JonErlichman I put in my last money, even though I thought we would still fail.',\n",
       " 'But, it was eithe\\x85 https://t.co/9bGKEz9d8a @JonErlichman That funding round completed 6pm on Christmas Eve in 2008.',\n",
       " 'Last hour of last day possible, as investo\\x85 https://t.co/UmfGjnkoxm @josh_bickett @PPathole Yes @PPathole Lowering Starlink terminal cost, which may sound rather pedestrian, is actually our most difficult technical challenge @itshamzahkhan As soon as we get regulatory approval.',\n",
       " 'Hopefully, around middle of next year.',\n",
       " '@thesheetztweetz Right now, it takes about 5 mins to set up, but, with future improvements, probably less than 3 mi\\x85 https://t.co/8EhBQC3FA0 @kjell_arne @flcnhvy Canada and Norway are next after we get US out of early beta!',\n",
       " '@enn_nafnlaus @flcnhvy Didn\\x92t realize that was possible.',\n",
       " 'No problem if there\\x92s a way get current design Cybertruck approved in Europe!',\n",
       " '@flcnhvy As soon as we get country approval.',\n",
       " 'This is required for each country individually, as no EU-wide approval\\x85 https://t.co/8ZBt9qJD9H @jason_rassett Lower latitude states need more satellites in position, so probably January Several thousand more Starlink beta participation invitations going out this week @LouisWFerreira New design is better with many minor tweaks.',\n",
       " 'Even the small details matter.',\n",
       " '@engineers_feed Haha Very close to actual expected flight!',\n",
       " 'https://t.co/ruEdIPhTil @Nigel_Lockyer I could not be more excited about the new supercollider!',\n",
       " 'That said, while it is considerably larger,\\x85 https://t.co/s3typirk4U @WholeMarsBlog @steezyysosa @AustinTeslaClub @JoeTegtmeyer @peterdog15 @TXTerafactory @Terafactorytx @lqdchkn\\x85 https://t.co/pqsjZOPAj5 @steezyysosa @AustinTeslaClub @JoeTegtmeyer @peterdog15 @TXTerafactory @Terafactorytx @lqdchkn @jd_average\\x85 https://t.co/oZAzv1iGXa @AustinTeslaClub @JoeTegtmeyer @peterdog15 @TXTerafactory @Terafactorytx @lqdchkn @jd_average @EliBurton_ Tesla Tex\\x85 https://t.co/g2INiRy9ES @kyzcralotSxaM Yes Penguin Random House <U+0001F634> should change the name to Random Penguin<U+0001F525> @austinbarnard45 Sure, although it might be quite a short livestream!',\n",
       " 'Lot can go wrong, but we\\x92ll provide video, wa\\x85 https://t.co/JmOJn9HhxS @FNarolles @TGMetsFan98 This is what matters most @Erdayastronaut @KlotzAdam @NASASpaceflight We\\x92ve tested a sub-scale version in a wind tunnel with active aero clos\\x85 https://t.co/M8xZLZVSAq @flcnhvy @RGVaerialphotos https://t.co/HEz9otgJJH @RGVaerialphotos Lord of the @TGMetsFan98 @KlotzAdam @NASASpaceflight @Erdayastronaut Yeah.',\n",
       " 'Although, if it fails right at the end, some landing\\x85 https://t.co/daQDIIWB9x @flcnhvy @NASASpaceflight @Erdayastronaut Minor @KlotzAdam @NASASpaceflight @Erdayastronaut Understanding exactly how the body flaps control pitch, yaw &amp; roll duri\\x85 https://t.co/79jvi22N2R @NASASpaceflight @Erdayastronaut But, a RUD right off launch pad is also possible.',\n",
       " 'Fortunately, SN9 is almost ready.',\n",
       " '@NASASpaceflight @Erdayastronaut Stable, controlled descent with body flaps would be great.',\n",
       " 'Transferring propellant\\x85 https://t.co/vPIIPpDV02 @teslaownersSV @Kristennetten @TesLatino Every 5 to 10 days @Kristennetten @teslaownersSV @TesLatino Faults will never be zero, but at some point the probability of a fault wi\\x85 https://t.co/INU2XAJD7u @teslaownersSV @TesLatino We measure this primarily in intervention probability.',\n",
       " 'This update addressed several issu\\x85 https://t.co/zyF8EFD6IH @TesLatino Thanks to a great Autopilot/AI team working super hard!',\n",
       " 'Doing \\x93neural nets\\x94 without testing them again\\x85 https://t.co/mnN6S3srrE @auchenberg Latency will improve significantly soon.',\n",
       " 'Bandwidth too.',\n",
       " '@teslaownersSV This build should be noticeably better with interventions @RationalEtienne @teslaownersSV @toadmeister Yes @teslaownersSV @toadmeister I\\x92ve spent more than half my life in California &amp; love the state.',\n",
       " 'But, frankly, I think\\x85 https://t.co/s5xouoedjT @toadmeister And \\x85 Sweden is still right with zero deaths Oct 29 https://t.co/b0LyGOtobI @TOCNewYorkState True.',\n",
       " 'Also, fewer heart attacks, as way easier to pump blood in 37% gravity.',\n",
       " '@MalekKhelifi24 @9inety6Prince @engineers_feed Now we\\x92re talking.',\n",
       " 'Also, Stephenson 2-18 is in the constellation Scrotum haha.',\n",
       " '@engineers_feed Small fry.',\n",
       " 'The sun converts over 4 million tons of mass to energy every second.',\n",
       " '@WholeMarsBlog Accurate @ajtourville @EndelSound @Grimezsz https://t.co/2hx6tlA8F7 @bluemoondance74 @SpacePadreIsle Some challenges with high winds.',\n",
       " 'Looks like Sunday for static fire.',\n",
       " '@SpacePadreIsle Great shot!',\n",
       " '@EndelSound @Grimezsz Future AI will appreciate this @Teslarati Truth is stranger than fiction @waitbutwhy <U+0001F609> @universal_sci Urf is so smol @homantse28 For a long time Truth be told, I\\x92ve eaten at JitB many times over the years, even the teriyaki bowl Might buy a Jack in the Box footstool @skorusARK Approximately, log(rate) @challengerST Same bot, just change setting to \\x93combat\\x94 @SamTalksTesla Well, being a phased array antenna, it is actually rather flat!',\n",
       " 'Tesla should make <U+0001F525> catgirl robots?',\n",
       " '@MachinePix Little crane: \\x93Am I just a toy to you!',\n",
       " '?\\x94 @coffeemaestro_ <U+0001F923><U+0001F923> Come here \\x85 no, come, here <U+0001F447> Wow, this mayo sure is salty!',\n",
       " '@PPathole @pcgamer Max Payne was great on many levels.',\n",
       " 'Silent Hill good too.',\n",
       " 'Jack in the Box should do double duty as a sperm donor clinic \\x97 name is <U+0001F44C> @TheWPMontgomery @pcgamer One of the best games ever @ThatDudeShannon @pcgamer FEAR 1 with modern graphics &amp; sound would rock @1matthewgarcia @pcgamer Ok :) @ZZCOOL @pcgamer All games in this thread are far scarier &amp; more creatively so than any horror movie @pcgamer FEAR 2 is best imo.',\n",
       " 'Also Dead Space 2.',\n",
       " 'They will haunt your dreams.',\n",
       " '@rakyll https://t.co/p1aGokwQpV @jgrano305 @flcnhvy To the best of my knowledge, literally zero equipment was usable without major repairs or upgra\\x85 https://t.co/VrWvoP79qD @flcnhvy All that was left were broken bots &amp; equipment hardly worth the scrap metal value.',\n",
       " 'But we scrounged up spa\\x85 https://t.co/yWQqaSrBt8 @flcnhvy And there were actually zero employees in the factory after GM/Toyota left.',\n",
       " 'They took all good equipment &amp;\\x85 https://t.co/C7dfuasTPm @ajtourville Bettern nothin or ur <U+0001F4B0> back!',\n",
       " '@WholeMarsBlog <U+0001F4AB> <U+0001F6F0> @HyperChangeTV Tesla team has done great work!',\n",
       " '@HyperChangeTV Well, tbh, our capex efficiency in 2017 was trash <U+0001F62C> @westcoastbill Testing for covid is a license to print money @arctechinc @Tesla Yes, very helpful.',\n",
       " 'Thanks all beta testers!',\n",
       " '@Erdayastronaut Video training &amp; inference is essential for excellent autonomy @engineers_feed Sigh \\x85 there should be a new supersonic jet, this time electric @WorldAndScience Critical to humanity\\x92s future Congratulations SpaceX Team!',\n",
       " 'https://t.co/nO1Z98a94f @TesLatino Mine is a few days ahead @EliBurton_ @teslaownersSV Sure, it could be an option in settings @teslaownersSV Visualization will tone down significantly for production.',\n",
       " 'These are intentionally strident colors.',\n",
       " '@Erdayastronaut @tobyliiiiiiiiii @austinbarnard45 @SuperclusterHQ Sure @Erdayastronaut @tobyliiiiiiiiii @austinbarnard45 @SuperclusterHQ I\\x92m in Boca every week, so maybe we could talk th\\x85 https://t.co/Vb4WD40bsC @tobyliiiiiiiiii @austinbarnard45 @SuperclusterHQ Good point.',\n",
       " 'Probably next week in form of a written piece on SpaceX website.',\n",
       " '@austinbarnard45 @SuperclusterHQ Great pics!',\n",
       " 'That we now have the beginnings of a Starship production system is most meaningful.',\n",
       " '@WholeMarsBlog Yup.',\n",
       " 'With beta updates, there\\x92ll be a lot of 2 steps fwd, 1 step back situations, but pace of improv\\x85 https://t.co/H2xcSVnGdO @bart_sanders Working on it.',\n",
       " 'Also needs to be able fart at other cars on command.',\n",
       " '@SpacePadreIsle Starship is coming together!',\n",
       " 'Price change is pushed to Thursday next week.',\n",
       " 'Applies only to US for now.',\n",
       " 'One week clock will start in other countr\\x85 https://t.co/cjhTxCseLt @austinbarnard45 There will be a 360 deg glass Star Bar (name tbd) at top of high bay @DMC_Ryan Well, we have said many times that the price will rise as the product functionality improves.',\n",
       " 'How much ti\\x85 https://t.co/xMeMO5Nu0M @StephenKing Agreed.',\n",
       " 'Are these performance tires?',\n",
       " '@SpaceX Just a small-seeming issue with loss of upper stage camera.',\n",
       " 'Probably nothing serious, but standing down to\\x85 https://t.co/ZK1vR9xWZL @flcnhvy Sure Now that Tesla FSD beta is out in limited release, FSD price (new or upgrade) will go up by ~$2k on Monday @TeslaGong @PPathole @teslaownersSV @tesla_raj As soon as we complete testing &amp; regulators approve.',\n",
       " 'So many differe\\x85 https://t.co/d4uoA1jnCX @PPathole @teslaownersSV @tesla_raj Yes @teslaownersSV @tesla_raj Haha @Teslarati Dependent on proving high safety @WholeMarsBlog Not intentional!',\n",
       " 'We just wanted to show that you could theoretically convert the entire US vehicle f\\x85 https://t.co/PcZpbD8JJ6 @Erdayastronaut Cold gas for now, hot later @Rubix161 I mean, ya gotta have a tiki bar Starship nosecone, high bay &amp; tiki bar https://t.co/9qXYxMMIUj @IEEEorg @Erdayastronaut After it gets to orbit a few times @Erdayastronaut Got a little melty tbh :) @Erdayastronaut Those engines could go 300 bar, but would be dicey.',\n",
       " 'Pushing it for near-term tests doesn\\x92t achieve\\x85 https://t.co/pULPf49me1 @Erdayastronaut Raptor has now run for 90 secs at 300 bar chamber pressure before encountering issues.',\n",
       " '210 mT-F sea\\x85 https://t.co/Rg2eRWhZnT FSD beta rollout happening tonight.',\n",
       " 'Will be extremely slow &amp; cautious, as it should.',\n",
       " 'Data from 3 engine Starship static fire this morning looks good.',\n",
       " 'Proceeding with nosecone mate.',\n",
       " '@PPathole @toadmeister Yes.',\n",
       " \"We also have to consider population life-months lost from lockdowns &amp; other restriction\\x85 https://t.co/0Ct2sVAngy @toadmeister Sweden at zero deaths Oct 15 https://t.co/Gy9a20uMmX @JoshTownsend_96 Yes @juanjacobs @jwangARK Firmware is probably a slightly more accurate description, but yes RT @Tesla: There's no place like home..especially if it has a Solar Roof.\",\n",
       " 'This Kansas ranch got theirs installed in 4 days.',\n",
       " '@PPathole @flyerandyp @mojosusan Mobi-C has too much mobility, fusion has too little.',\n",
       " 'We need Mobi-D haha.',\n",
       " '@flyerandyp @mojosusan Actually, it\\x92s my neck \\x85 https://t.co/2vCoAxsrV3 @flyerandyp @mojosusan Maybe I can be helpful.',\n",
       " 'Had Mobi-C disc put in at C5-C6, however 1st surgery failed to remov\\x85 https://t.co/Czykfyo0IX @jwangARK Pretty accurate.',\n",
       " 'It\\x92s not so much DNA sequencing as it is using synthetic DNA/RNA to fix bugs in our code\\x85 https://t.co/y6GcySVGhM @SamTalksTesla London to Beijing would be cool @SamTalksTesla Wow, that would be quite a trip!',\n",
       " '@CiNoTpyrC That\\x92s my kid haha møtør trèndé https://t.co/V0yo4JKbS2 @TechAmazing Looks like snoopy @Tesmanian_com Current production is slightly better @bamtheteslaman1 @cleantechnica Doesn\\x92t seem to be any life in this solar system.',\n",
       " 'Maybe under the ice of Europa or\\x85 https://t.co/izk0v9Gi47 RT @Tesmanian_com: Tesla Model 3 SR+ Has Lowest Energy Consumption of All BEVs, Says Report\\n\\nhttps://t.co/7C0V16WT6Y @cleantechnica Very creative @flcnhvy That free fusion reactor in the sky conveniently converts ~4 million tons of mass into energy every second\\x85 https://t.co/3R0oWMReuP @Kristennetten @teslaownersSV You never know @PPathole After @Xbox <U+0001F622> @WhatsupFranks @kimpaquette Also, system should autodelete old data automatically by default @UniverCurious Table in tension @kimpaquette Yes @teslaownersSV Starting production on 7 seater next month, initial deliveries early December The gauntlet has been thrown down!',\n",
       " 'The prophecy will be fulfilled.',\n",
       " 'Model S price changes to $69,420 tonight!',\n",
       " '@Neopork85 @SpaceX @NASASpaceflight @austinbarnard45 @whoisheartbreak @Erdayastronaut @FelixSchlang\\x85 https://t.co/2Z5mRScc4G @gem8mingen @Tesla Congratulations!',\n",
       " '@Teslarati Making progress 9 meter or roughly 30 ft diameter Will be less roomy with 3 vacuum rocket engines added https://t.co/pKtDFdiZYC @flcnhvy @WholeMarsBlog @Kristennetten @boringcompany @Tesla It\\x92s still there, but focus is Vegas &amp; Prufrock, our new tunneling machine @AstroJordy @Kristennetten @boringcompany @Tesla For sure @WholeMarsBlog @Kristennetten @boringcompany @Tesla Maybe a month or so.',\n",
       " 'Some finishing touches need to be done on the stations.',\n",
       " '@Kristennetten @boringcompany @Tesla We simplified this a lot.',\n",
       " 'It\\x92s basically just Teslas in tunnels at this point,\\x85 https://t.co/1xhs2AwXB9 @PlayOverwatch Sweet @antonkanerva Yes.',\n",
       " 'Everything is slow to a phased array antenna.',\n",
       " '@lexfridman Nice \\x93What is love?',\n",
       " 'Baby don\\x92t hurt me.\\x94\\x97 Winston Churchill @PlayOverwatch @twomad Or maybe 2 weak turrets to allow more strategic degrees of freedom @PlayOverwatch @twomad Please buff Torb\\x92s turret!',\n",
       " '@twomad Um \\x85 yes @teslaownersSV I have Goosebumps 2 merch.',\n",
       " 'Not sure how tbh.',\n",
       " '@teslaownersSV HG2G @teslaownersSV LotR <U+0001F918> The Illuminaughty <U+0001F918> @ChotiHaque @BillGates @DougStanhope @bobdylan @charltonbrooker @EricIdle @JimCarrey @JohnCleese @sapinker Knee deep RT @SpaceX: This will be the first flight of the upgraded cargo version of Dragon, which is able to carry 50% more science payloads than th RT @SpaceX: The Dragon spacecraft supporting SpaceX\\x92s 21st cargo resupply mission to the @space_station departed our Hawthorne factory last @chipro Yeah @WR4NYGov At least success is in the set of all possible outcomes this time!',\n",
       " '@bad_at_life @WholeMarsBlog Diess is doing his best to move in the right direction, but he\\x92s in a tough position wi\\x85 https://t.co/tDF8U6Nd4C @flcnhvy Good grief!',\n",
       " 'SpaceX is getting zero money for this.',\n",
       " 'Starship is designed to carry people &amp; cargo around Ear\\x85 https://t.co/v37QM1KycR @Teslarati With FSD, we got stuck in a lot of local maximums, which wasn\\x92t clear until we hit the ceiling.',\n",
       " 'This time, it\\x92s right.',\n",
       " '@RationalEtienne @28delayslater Thank you, much more accurate haha @28delayslater This graph appears to be upside down @Teslarati Sheer magnitude of the entire production system is hard to appreciate.',\n",
       " 'Almost every element of productio\\x85 https://t.co/H8pS02oelK @TeslaClubIN @cleantechnica Will release order configurator probably in Jan @cleantechnica Limited FSD beta releasing on Tuesday next week, as promised.',\n",
       " 'This will, at first, be limited to a s\\x85 https://t.co/4QrYmB7iI0 @shortword @jwangARK The SoC\\x92s sync with each other 20 to 30 times/sec, exchanging output of NNs that should be in\\x85 https://t.co/9cBJMEaaVW @jwangARK Tesla FSD computer\\x92s dual SoCs function like twin engines on planes \\x97 they each run different neural nets\\x85 https://t.co/dFWLHXU7Ce @jwangARK Accurate analysis.',\n",
       " 'Quite a few \\nego/intelligence&gt;&gt;1 people in your comment thread haha.',\n",
       " 'Neither MobilEye\\x85 https://t.co/FdliGoHK01 @PPathole @slashdot !',\n",
       " '@OhioTesla @JenDunlap_ @Tesla @CARandDRIVER @teslaownersSV @Teslarati @ElectrekCo Glad Jen is safe!',\n",
       " '@PPathole @slashdot Wow @slashdot Uh ok, here we go @Teslarati I don\\x92t think this is accurate @Erdayastronaut @MariaBartiromo @POTUS @realDonaldTrump @JeffBezos @MorningsMaria @FoxBusiness Yeah, there are lite\\x85 https://t.co/gHoiSZ1V6r @Tesmanian_com Even if half that amount, it\\x92s still a big deal!',\n",
       " '@enn_nafnlaus @electricfuture5 <U+0001F923><U+0001F923> @MariaBartiromo @POTUS @realDonaldTrump @JeffBezos @MorningsMaria @FoxBusiness I have seen no evidence of an advanc\\x85 https://t.co/hBTdTJYTtc @electricfuture5 We face a tough dichotomy of applying resources to the old architecture or applying them to the ne\\x85 https://t.co/6qGhblfRK8 @flcnhvy Definitely @enn_nafnlaus Exactly.',\n",
       " 'He plays the \\x93poor inventor\\x94 card, but was rich all along &amp; invented nothing (as far as I kn\\x85 https://t.co/205zz8AL33 @enn_nafnlaus There are sketchy edits to Tesla wiki that whitewash Eberhard\\x92s problems/glorify his role.',\n",
       " 'Pretty odd\\x85 https://t.co/PPSorKWdI8 @enn_nafnlaus When Eberhard was fired from the Tesla CEO role in mid 2007 for providing false information to me &amp; t\\x85 https://t.co/8hJ3VlxZfP @Carrenimfa Interesting RT @CRAdvocacy: \\x93The future of cars can and will be electric if the entire industry starts making and marketing compelling EVs for everyone @Erdayastronaut @flcnhvy @PelleBrannvall @Neopork85 @Caspar_Stanley @ErcXspace @MarcusHouseGame @FelixSchlang\\x85 https://t.co/XlBiDpmUuQ @teslaownersSV @Erdayastronaut Probably @Erdayastronaut I have that exact art on the wall of the place I stay in Boca Chica!',\n",
       " '@RationalEtienne @toadmeister Yes, failure to protect nursing homes was a major mistake (happened in most countries\\x85 https://t.co/CMvdKMriSh @toadmeister Sweden was right https://t.co/bzc2lFDjZQ @Erdayastronaut @PelleBrannvall @flcnhvy @Neopork85 @Caspar_Stanley @ErcXspace @MarcusHouseGame @FelixSchlang\\x85 https://t.co/lGPVl7K1mI @Teslarati Great work by SpaceX valve engineering &amp; production!',\n",
       " '@Neopork85 @Caspar_Stanley @ErcXspace @MarcusHouseGame @FelixSchlang @C_Bass3d @nickhenning3d @SpaceX Our tiles are mechanically attached @flcnhvy @Neopork85 @Caspar_Stanley @ErcXspace @MarcusHouseGame @FelixSchlang @C_Bass3d @nickhenning3d @SpaceX It m\\x85 https://t.co/wHXamj12IQ @Neopork85 @Caspar_Stanley @ErcXspace @MarcusHouseGame @FelixSchlang @C_Bass3d @nickhenning3d @SpaceX Tiles will be\\x85 https://t.co/XPnQrCXQNc @ID_AA_Carmack Compilers need to improve imo.',\n",
       " 'Most type, pointer (or other memory) problems can be detected at comp\\x85 https://t.co/n3rZP4uDI1 @RGVaerialphotos @SpaceX I\\x92m proud to say that that nose is pointier than it needs to be haha RT @MotorTrend: We put the 2020 @Tesla Model Y Long Range electric SUV on our test track to find out what it can do\\x97and it turns out, well, @SDG2030 @anandmahindra @MetniGeorges @ErikSolheim @berniehollywood Norway leads the world @NASASpaceflight Passed cryo proof @johnkrausphotos @SuperclusterHQ @SpaceX <U+0001F44D> @ajtourville Yeah, it\\x92s not a contest.',\n",
       " 'Advanced casting crushes best-case 3D printing, but casting doesn\\x92t work wel\\x85 https://t.co/UscSeP00AQ @Astro_FarmerBob @astro_Pettit @AstroKomrade @AstroAnnimal Great pics!',\n",
       " '@johnkrausphotos @Patreon @SuperclusterHQ @SpaceX Maybe this should be the flag of Mars @TashaARK Additive manufacturing of parts is still far too costly for cars, but can rapidly create tooling to accel\\x85 https://t.co/z9kxjt9Umj @RenataKonkoly @franktinsley @ankitXupta @TashaARK Pretty much, but I think it may end on a high note RT @SpaceX: Starman, last seen leaving Earth, made its first close approach with Mars today\\x97within 0.05 astronomical units, or under 5 mill @EVHQ2 @TashaARK Meant to say that it should be fixed in the latest wide release.',\n",
       " 'Won\\x92t need to wait for FSD.',\n",
       " '@EVHQ2 @TashaARK It should be @franktinsley @ankitXupta @TashaARK Exactly.',\n",
       " 'We barked up that tree for way too long (sigh).',\n",
       " 'Gives a false sense of\\x85 https://t.co/aIGaEnC8f0 @PicklePunchD @PPathole @TashaARK Yes, we will play sexy snake jazz <U+0001F923> @ZainRaz4 @PPathole @TashaARK Yes @PPathole @TashaARK Yeah, provided we do our metal gear snake autocoupler @TashaARK Waymo is impressive, but a highly specialized solution.',\n",
       " 'The Tesla approach is a general solution.',\n",
       " 'The lat\\x85 https://t.co/BbchdqHjjA @akidesir @Kristennetten Yeah, we could put in a setting allowing it to drop as low as 5% @ErcXspace @SpaceX @Erdayastronaut @MarcusHouseGame @FelixSchlang Great render.',\n",
       " 'Note, there will need to be an arm\\x85 https://t.co/9g2N7FvSCZ @Kristennetten Mimecraft @TeslaGong @TeslaTested Yes @ICannot_Enough @TeslaTested Autopilot team is making great progress.',\n",
       " 'Reality sure is complicated!',\n",
       " '@ErcXspace @MarcusHouseGame @brendan2908 @BocaChicaGal @NASASpaceflight Aspiring to have no flame diverter in Boca,\\x85 https://t.co/KyENxZ94oy @eugenelee3 @MarcusHouseGame @brendan2908 @BocaChicaGal @NASASpaceflight We do have giant steel balls haha @TeslaTested We just completed a financing round, but will let you know when there is another one @IheartTesla @alex_avoigt @mike_zimon @WholeMarsBlog I definitely need to try these tasty cakes &amp; pastries on my next visit!',\n",
       " '@MarcusHouseGame @brendan2908 @BocaChicaGal @NASASpaceflight Mass ratio.',\n",
       " 'Liquid oxygen is much denser than liquid m\\x85 https://t.co/GNhcI8rEh3 @IheartTesla @alex_avoigt @mike_zimon @WholeMarsBlog Had the most amazing kebab ever just outside of Tacheles.',\n",
       " 'Too\\x85 https://t.co/DsGVWDHGNV @IheartTesla @alex_avoigt @mike_zimon @WholeMarsBlog döner kebab @TribeHoh @SpaceX @WAStateCommerce You\\x92re most welcome!',\n",
       " '@brendan2908 @BocaChicaGal @NASASpaceflight High bay should be finished (except for the giant gantry crane) within\\x85 https://t.co/mIEAHkGnFO @alex_avoigt @mike_zimon @WholeMarsBlog That looks tasty!',\n",
       " '@tesladri @ChananBos @raytech247 @WholeMarsBlog The crash absorption rails can be cut off &amp; replaced with a bolted part for collision repair @ICannot_Enough @WholeMarsBlog Sandy Munro understands engineering @flcnhvy @teslaownersSV @raytech247 @WholeMarsBlog That would be like licensing Battlestar Galactica.',\n",
       " 'Actually buil\\x85 https://t.co/Hi2oD05YE8 @teslaownersSV @raytech247 @WholeMarsBlog Yes, the Gigafactory is the hardest &amp; most critical product @ChananBos @raytech247 @WholeMarsBlog Battery pack will be a bonded structure with cells providing shear transfer b\\x85 https://t.co/NbZQeKw0qx @raytech247 @WholeMarsBlog But now we understand production much better.',\n",
       " 'It will be our primary competitive advantage long-term.',\n",
       " '@raytech247 @WholeMarsBlog Even GM &amp; Chrysler went bankrupt in 2009.',\n",
       " 'Ford and Tesla are the only US car companies t\\x85 https://t.co/ieaOuIsJRi @raytech247 @WholeMarsBlog The Model 3 production ramp was sheer agony for two years, but that was do or die for Te\\x85 https://t.co/zHqXmcO6Gy @EvaFoxU @WholeMarsBlog Bringing a new product to volume production is 1% inspiration &amp; 99% perspiration.',\n",
       " 'You do st\\x85 https://t.co/g5DLCmG7wC @skorusARK Marginal cost of Starship mass to orbit should be well under $100/kg.',\n",
       " 'Fully burdened cost depends on flight rate.',\n",
       " '@WholeMarsBlog Prototypes are a piece of cake, but high volume production of a new technology is extremely hard.',\n",
       " 'Ta\\x85 https://t.co/O1oJwfJ2zG @WholeMarsBlog We do expect to make heavy use of LFP for medium range cars &amp; stationary storage @WholeMarsBlog Berlin will use 4680 cell with structural battery pack &amp; front &amp; rear single piece castings.',\n",
       " 'Also, a\\x85 https://t.co/pTeAj9z79i @AstroJordy @WholeMarsBlog They are @WholeMarsBlog I do so wish that more companies would put down their spreadsheets for a moment and focus on making\\x85 https://t.co/LCkXzfpoZx @PPathole @klod_ua @Erdayastronaut @TrevorMahlmann @johnkrausphotos @Mike_Seeley 7 bar absolute, which is fine for\\x85 https://t.co/Afru9AdajY @klod_ua @Erdayastronaut @TrevorMahlmann @johnkrausphotos @Mike_Seeley Cryo pressure test succeeded, but a small le\\x85 https://t.co/2wYticEwfr @Erdayastronaut @TrevorMahlmann @johnkrausphotos @Mike_Seeley One of the best shots ever!',\n",
       " '@SamTalksTesla @SpaceX Much sooner @mdcainjr @SpaceX @45thSpaceWing @NASA Great photo!',\n",
       " \"@DirtyTesla @SpaceX It will soon RT @SpaceX: Falcon 9 launches 60 Starlink satellites to orbit, completing SpaceX's 43rd flight of a previously flown rocket booster https:/ @SpaceX Once these satellites reach their target position, we will be able to roll out a fairly wide public beta in\\x85 https://t.co/2klHnFmgZ1 RT @SpaceX: Deployment of 60 Starlink satellites confirmed https://t.co/x83OvjB4Pa @flcnhvy @alvianchoiri We\\x92re not seeing notable differences yet.\",\n",
       " 'I think the boosters could probably do 100+ reflig\\x85 https://t.co/ZUgaqUVPy7 @PPathole @alvianchoiri Roughly a week or two turnaround is all that\\x92s needed to meet max launch demand.',\n",
       " 'Starship S\\x85 https://t.co/YXmoOFZU8n @alvianchoiri Ahem, yes, it was the 3rd flight of this booster &amp; 3rd flight for active half of fairing.',\n",
       " 'Aiming for\\x85 https://t.co/AWxTjEfC2d 4th flight &amp; landing for this booster https://t.co/UOtvMkgXqH 5 minutes from launch.',\n",
       " 'Looks good so far.',\n",
       " 'https://t.co/on2f1pY5jt @cleantechnica So crazy to subsidize pollution!',\n",
       " 'This is not good for people, especially in dense cities with heavy\\x85 https://t.co/ACKoIzWcPW @SciGuySpace It\\x92s a step in the right direction, but they should really aim for full reusability by 2026.',\n",
       " 'Larger ro\\x85 https://t.co/6hVvKUQdON Turn volume to 11 &amp; play Powerglide in your Tesla \\n\\nhttps://t.co/l07Yc02P7g @teslaownersSV FSD will solve these issues Music volume on a Tesla goes to 11, because it\\x92s louder than 10\\n\\nhttps://t.co/ab5hAMo3EN @Kristennetten @flcnhvy One of my favorite writers.',\n",
       " 'Foundation is tough to make into a movie, but has outstanding potential.',\n",
       " '@OrionsGauntlet <U+0001F4AF> @christianserino https://t.co/gLnevuneYl Rewatched Young Frankenstein this weekend.',\n",
       " 'Still awesome.',\n",
       " 'Ovaltine?',\n",
       " 'https://t.co/WiMdyFSuiq @flcnhvy The remake has the potential to be great.',\n",
       " 'I kinda liked the original tbh, but it\\x92s possible to take it up a level.',\n",
       " 'Hollywood should just start with the sequel &amp; skip the original, because financials @cleantechnica This article is wildly incorrect about lithium battery costs by a factor of 5 or more presently &amp; 10X long-term @SamTalksTesla @teslaownersSV @PPathole @RationalEtienne @stevenmarkryan @Kristennetten @WholeMarsBlog Pretty wild,\\x85 https://t.co/8PQh2kaLCF New SpaceX droneship will be called \\x93A Shortfall of Gravitas\\x94 Nothing can escape gravity, not even black holes (and they really tried!)',\n",
       " '@ID_AA_Carmack Would be cool to put yourself in the mind of the car while it\\x92s driving @Model3teslaJ Coming soon Call of Booty, great game https://t.co/HyfszSrm6m @teslaownersSV @SpaceX Vector-space bird\\x92s eye view coming with FSD @PPathole @SpaceX Unexpected pressure rise in the turbomachinery gas generator @Erdayastronaut @SpaceX All of that and more.',\n",
       " 'We\\x92re doing a broad review of launch site, propulsion, structures, av\\x85 https://t.co/NkFviDSxpp @alandail @SpaceX Exactly @SpaceX We will need to make a lot of improvements to have a chance of completing 48 launches next year!',\n",
       " '@lexfridman I agree with Lex @Mike94160775 @Tesla @ElectrekCo @Teslarati Glad you\\x92re ok!',\n",
       " '@Sofiaan @Tesla Haha @amoghbhushan @TeslaClubIN @WholeMarsBlog @MKBHD Thanks for waiting!',\n",
       " '@TeslaClubIN @WholeMarsBlog @MKBHD Next year for sure @tobyliiiiiiiiii @RationalEtienne @SPEXcast @William_M_Brown @PPathole @thesheetztweetz @waEMD @SpaceX\\x85 https://t.co/ZFBqLHXK3F @RationalEtienne @SPEXcast @William_M_Brown @PPathole @thesheetztweetz @waEMD @SpaceX @SpaceXStarlink\\x85 https://t.co/hSCBeF8MNf @SPEXcast @William_M_Brown @RationalEtienne @PPathole @thesheetztweetz @waEMD @SpaceX @SpaceXStarlink @WANationalGuard Great @William_M_Brown @RationalEtienne @PPathole @thesheetztweetz @waEMD @SpaceX @SpaceXStarlink @WANationalGuard Browns\\x85 https://t.co/ggoEsDif2J @PPathole @thesheetztweetz @waEMD @SpaceX @SpaceXStarlink @WANationalGuard Average latency will improve as more sat\\x85 https://t.co/piqitzEIa5 @tobyliiiiiiiiii @RationalEtienne @PPathole @thesheetztweetz @waEMD @SpaceX @SpaceXStarlink @WANationalGuard Very s\\x85 https://t.co/EtjXxIv2vq @RationalEtienne @PPathole @thesheetztweetz @waEMD @SpaceX @SpaceXStarlink @WANationalGuard Yes, Starlink is design\\x85 https://t.co/r4RRGVpvR0 @PPathole @Erdayastronaut @NASASpaceflight @BocaChicaGal @TheFavoritist Probably 5 or 6 with an optimized tanker, a\\x85 https://t.co/smk67d3Fmx @thesheetztweetz @waEMD @SpaceX @SpaceXStarlink @WANationalGuard Starlink will be a revolution in connectivity, esp\\x85 https://t.co/bQfD2KWhBn @WholeMarsBlog @MKBHD Yeah @AdlanBogatyryov @Erdayastronaut @NASASpaceflight @BocaChicaGal @TheFavoritist Great letter!',\n",
       " 'It will be increasingl\\x85 https://t.co/XkwyOn48IO @Erdayastronaut @NASASpaceflight @BocaChicaGal @TheFavoritist The ship rings are thicker than they need to be (for\\x85 https://t.co/s4Itp647WO @MKBHD It\\x92s next-level @FOX10Phoenix <U+0001F4B0><U+0001F4A9><U+0001F923> @officialalishap @flcnhvy @Tesla Glad to hear your Mom is ok @Zshauladventure @NASAKennedy @ulalaunch @SpaceX @NatReconOfc Good to see.',\n",
       " 'Inspiring for future of space!',\n",
       " '@somi_teslagirl @Model3Owners @FutureJurvetson @CFS_energy @CUP_Plasma @MIT The new heat pump in Model Y is what re\\x85 https://t.co/rJ35A3VlUf @thatt3slaguy @Model3Owners @FutureJurvetson @CFS_energy @CUP_Plasma @MIT Yes, coming soon @ErcXspace @SpaceX @FelixSchlang @MarcusHouseGame @Erdayastronaut @NASASpaceflight Great render!',\n",
       " 'The circumferentia\\x85 https://t.co/6oTTSIX8aF @Model3Owners @FutureJurvetson @CFS_energy @CUP_Plasma @MIT That\\x92s very hard to do.',\n",
       " 'Have you tried pushing on the c\\x85 https://t.co/7elp9Pf9sl @FutureJurvetson @CFS_energy @CUP_Plasma @MIT It\\x92s cool &amp; for sure can &amp; should be done, but I suspect its best cas\\x85 https://t.co/PmYScvZozY @austinbarnard45 Weld esthetics will improve greatly in upcoming Starships @PPathole Haha true.',\n",
       " 'Why do showers have such a wide range!?',\n",
       " '@EvaFoxU !!',\n",
       " '@RationalEtienne @WholeMarsBlog Yes @UniverCurious @physicsJ Light is not as fast as you\\x92d think RT @SpaceX: Once this Dragon docks to the @space_station, there will be two Dragons docked simultaneously.',\n",
       " 'Between crew and cargo missions, RT @SpaceX: SpaceX training of astronauts that will fly on board Dragon\\x92s first operational mission is complete!',\n",
       " 'When the crew arrives for RT @SpaceX: After launch of Crew Dragon\\x92s first operational mission with astronauts on board, SpaceX will launch its 21st cargo resupply mi @SamTalksTesla Maybe we used too many magenta spotlights RT @KathyLueders: NEWS: We\\x92re now targeting 2:40am ET Saturday, Oct. 31, for the launch of the @NASA and @SpaceX Crew-1 mission to send ast @ValaAfshar @Tesla Having a low center of gravity makes a world of difference to safety @vm_one1 @waEMD @SpaceX We will probably IPO Starlink, but only several years in the future when revenue growth is\\x85 https://t.co/kH4QryrKOe @PerezShivam @waEMD @SpaceX Fate loooves irony haha @waEMD @SpaceX Glad SpaceX could help!',\n",
       " 'We are prioritizing emergency responders &amp; locations with no Internet connectivity at all.',\n",
       " '@austinbarnard45 True @teslavibes That\\x92s total market, not all Tesla.',\n",
       " 'We do see Tesla reaching 20M vehicles/year probably before 2030, bu\\x85 https://t.co/GXnszaCAR3 @CashMoneyLemon @CathieDWood @skorusARK Total market @CathieDWood @skorusARK Seven years for sure to 30M+ new fully electric vehicles per year, six years maybe.',\n",
       " 'Five ye\\x85 https://t.co/FY4nwWbx56 @flcnhvy @CathieDWood Both will do original cars @CathieDWood We aren\\x92t cutting the price of Model 3 to $25k.',\n",
       " 'I was referring to a future car that will be smaller than Model 3.',\n",
       " '@brian_heide @Tesla What about a heavy duty, paintball machine gun mounted on the bed rails?',\n",
       " '@Pickenheim @matthew_kerle New version coming soon @WholeMarsBlog Suppliers.',\n",
       " 'We\\x92re only doing high energy nickel ourselves, at least for now.',\n",
       " 'Also, maybe the presenta\\x85 https://t.co/L8Pv6okpkY https://t.co/r1Sox7vta8 @TeslaGong @DrSallyL @sydney_ev @_TeslaTom @TeslaStraya @outbacktesla @ev_outback @Michael01996367 @cvanderstock\\x85 https://t.co/qUF0HH8qcg @ScottAdamsSays <U+0001F923><U+0001F923> @flcnhvy @Kristennetten Checking into it @Kristennetten Totally up to you, but if you head to a Tesla delivery center near you &amp; maybe help out new owners, that would be cool @ID_AA_Carmack Completely agree @Erdayastronaut Yes, the flaps are now directly driven by electric motors with a gearbox!',\n",
       " 'No more hydraulics.',\n",
       " 'Thanks Tesla Team for great work on deliveries!',\n",
       " 'For new owners, we super appreciate accommodating us on delivery ti\\x85 https://t.co/PPzzHXbxgp @ScottAdamsSays There are times when I feel like I\\x92m living in a Dilbert cartoon @ArtifactsHub That species has stood the test of time @flcnhvy @NASASpaceflight @austinbarnard45 @PPathole Mostly 304L, some 301.',\n",
       " 'Broke at 301 to 304 interface.',\n",
       " 'SN9 will\\x85 https://t.co/wpePRV5S4r @NASASpaceflight @austinbarnard45 @PPathole 8 bar differential in ullage, 9 bar at base due to propellant head.',\n",
       " 'It\\x92\\x85 https://t.co/QvGKYW2qd0 @PPathole We just need enough height to test body flaps &amp; drawing propellant from headers vs main tanks.',\n",
       " 'Will do se\\x85 https://t.co/PGzAfeSC7X First flight is to 15km or ~50,000 ft Nosecone &amp; front flaps next week.',\n",
       " 'SN9 next month.',\n",
       " 'Starship SN8 with rear body flaps https://t.co/GdxMbzX0ct @waitbutwhy https://t.co/V6us36YHO6 @muratpak Sure @EvaFoxU True RT @SpaceX: Falcon 9 will launch @NASA\\x92s super cool Interstellar Mapping and Acceleration Probe (IMAP), which will help researchers better @hisdirtremoves @SpaceX Not bad @enn_nafnlaus @ajtourville Exactly @ajtourville @MunroAssociates Sandy Munro understands engineering @DaRealWamos Turns out they mostly press the letter s &amp; <U+0001F4A9> on the typewriter <U+0001F923>\\nhttps://t.co/KaarAJVL2b Centaur with a bow obviously https://t.co/cfKfkFFXp0 @justpaulinelol @EvaFoxU Haha @EvaFoxU Something like this https://t.co/NDVuUmms67 @ajtourville Can\\x92t support 3 wheel vehicles.',\n",
       " 'Not safe enough.',\n",
       " '@RGVaerialphotos ~9007mm @MarlonSIX60 Something appealing about Hawking/Hartle idea, but I agree with Turok/Feldbrugge/Lehners @muratpak <U+0001F5A4> ur algo @PPathole @MarlonSIX60 True @PPathole @Erdayastronaut There are some practical size constraints too.',\n",
       " 'Can\\x92t be too big to fit in the engine comp\\x85 https://t.co/aXz1YhEldj @PPathole @Erdayastronaut Doesn\\x92t seem to be a problem.',\n",
       " 'We could probably increase area ratio, given 330 bar max de\\x85 https://t.co/0gutz4Kgij @MarlonSIX60 https://t.co/GzljMNYCiu @DJSnM Preburners ignite, then main chamber @MarlonSIX60 Where is our prediction of probability inaccurate?',\n",
       " '@MarlonSIX60 Or energy &amp; time, but besides that what?',\n",
       " '@podcastnotes Genetic engineering is too slow unless you use a synthetic virus What can\\x92t we predict?',\n",
       " '@tobyliiiiiiiiii @Erdayastronaut Yeah, but might not need it @Erdayastronaut 107 expansion ratio.',\n",
       " 'You can a little bit of flow separation towards the end of the nozzle.',\n",
       " 'RT @SpaceX: Completed a full duration test fire of the Raptor Vacuum engine at SpaceX\\x92s rocket development facility in McGregor, Texas http RT @SpaceX: RVac and sea level Raptor with a human for scale https://t.co/xqiPQUY4Pl Only thing beyond ludicrous is plaid https://t.co/rHuWk20EGG @xiang_aw @WholeMarsBlog This does seem like the opposite of open.',\n",
       " 'OpenAI is essentially captured by Microsoft.',\n",
       " '@WholeMarsBlog Haha true @oneandonlyheady Maybe I will @TechAmazing @UniverCurious Jets are so cool @flcnhvy @Gfilche @YahooFinance Pretty much @1stPrinciples4L @Gfilche @YahooFinance Yes @Gfilche @YahooFinance Yahoo Finance is as dumb as it sounds @ICannot_Enough Yes @Neopork85 @SpaceX Haha @tobyliiiiiiiiii @Tesla Roadster will be better @PPathole Probably Cybertruck, ATV, Roadster &amp; Semi\\nC A R S https://t.co/4Aq1A5cYkH @FutureJurvetson @hiromichimizuno Thanks for your many years of support through very tough times!',\n",
       " '@ICannot_Enough @WholeMarsBlog We will be a little below that this year (most challenging year we\\x92ve ever had), but\\x85 https://t.co/YgDE1OsZXA @WholeMarsBlog That\\x92s about right.',\n",
       " 'Maybe a little faster.',\n",
       " '@umutcnbostanci Yes @teslaownersSV cgi irl @tobyliiiiiiiiii @CARandDRIVER @Tesla Haha RT @CARandDRIVER: We drove a Model S Long Range Plus for 422.7 miles in California and believe we could have made it to 430.',\n",
       " '@Tesla explain The extreme difficulty of scaling production of new technology is not well understood.',\n",
       " 'It\\x92s 1000% to 10,000% harder\\x85 https://t.co/mcxxFnSqfJ @NASASpaceflight @BocaChicaGal Haha We intend to increase, not reduce battery cell purchases from Panasonic, LG &amp; CATL (possibly other partners too).',\n",
       " 'H\\x85 https://t.co/FL4LwCp3Q0 Important note about Tesla Battery Day unveil tomorrow.',\n",
       " 'This affects long-term production, especially Semi, Cybertr\\x85 https://t.co/FO4xHXAs9Q @EvaFoxU Thanks!',\n",
       " '@Neopork85 @SpaceX @MarcusHouseGame We really need better legs for Starship.',\n",
       " 'They\\x92re coming.',\n",
       " '@Neopork85 @SpaceX @MarcusHouseGame Most likely, all flaps will fold after landing to reduce wind tip over force.',\n",
       " 'T\\x85 https://t.co/DyNlT5EKGk @Model3Owners Fine, we\\x92ll do it already <U+0001F600> @ARKInvest @TashaARK Good analysis, although I think we should wait until FSD is a bit more mature @singing__surfer I\\x92m pretty sure Tesla could do a much better autocorrect.',\n",
       " 'The bar is so low haha.',\n",
       " '@LorenzoTeixeir4 @Zog_Fot_Pik @samiralyateem @ID_AA_Carmack True @IgorAntarov @soumiksf @ID_AA_Carmack Custom ultra high speed bus &amp; efficient cooling @teslaownersSV @jgrano305 @soumiksf @ID_AA_Carmack Ok @flcnhvy @soumiksf @ID_AA_Carmack Pretty much any machine-learning @jgrano305 @soumiksf @ID_AA_Carmack It\\x92s big @Zog_Fot_Pik @samiralyateem @ID_AA_Carmack Sure @soumiksf @ID_AA_Carmack Yeah, we will open Dojo for training as a web service once we work out the bugs @samiralyateem @ID_AA_Carmack There are a lot of pointless zeroes in FP32 neural nets.',\n",
       " 'You can chop off 16 of the 3\\x85 https://t.co/mlPVbpni4y @soumiksf @ID_AA_Carmack Dojo uses our own chips &amp; a computer architecture optimized for neural net training, not a\\x85 https://t.co/OiCfJT3gNA @llamaa35079089 @ID_AA_Carmack @Tesla You really want waypoints this much?',\n",
       " '@ID_AA_Carmack For Dojo, we\\x92re betting on FP16 with floating floating point (essentially, truncating mostly zeroes)\\x85 https://t.co/bIXl4qIH22 @WholeMarsBlog Yes @BabyTesla3 @WholeMarsBlog Yes @WholeMarsBlog There\\x92ll be lots of green space around factory, but building itself is continuous.',\n",
       " 'The \\x93open\\x94 areas\\x85 https://t.co/rabjKrtQlw @SavedTesla @peterdog15 Shaped like a diamond &amp; aligned on true north A prior track record of exceptional achievement in engineering *is* required, but *no* prior experience working on\\x85 https://t.co/WZADDNXMID If you feel Neuralink might have incorrectly overlooked your resume or declined to  make an offer, please lmk in co\\x85 https://t.co/hP3822Z0Dg @teslaownersSV @Model3Owners @TrungTPhan Felt I had done enough on the Internet (Zip2 &amp; PayPal) that my work would\\x85 https://t.co/ctbFloI1sO @Model3Owners @TrungTPhan It took an utterly insane amount of work to move the SpaceX &amp; Tesla success probabilities above ~zero @TrungTPhan To be frank, in the early days, I thought there was &gt;90% chance that both SpaceX &amp; Tesla would be worth\\x85 https://t.co/cN2bFBua5q @fermatslibrary Irrational is such a funny word to describe numbers of course I still love you @DeborahPatteri @TENETFilm Sure, but which planet?',\n",
       " '@TENETFilm Good movie @Erdayastronaut Current was too strong for droneship to hold station.',\n",
       " 'Thrusters to be upgraded for future missions.',\n",
       " '@ChrisDungeon Lot has happened in 13 years @Teslarati It will be very insane Speedrunning Factorio in real life @cleantechnica No, but you make some great points.',\n",
       " 'Important to note that iron\\x92s cost advantage is partly offset by\\x85 https://t.co/neZ5HKUc4A @CoderFoot @m2jr @BernieSanders Yup Fallout Shelter is on your Tesla.',\n",
       " 'Tap the Entertainment button.',\n",
       " '@m2jr @BernieSanders Implicit conflation of consumption &amp; capital allocation is the foundational error @Kristennetten Great idea!',\n",
       " '<U+0001F5A4> Fallout Radio  <U+0001F5A4>\\nhttps://t.co/gNo8XFjx8b @TJLK There are some eerie parallels between The Boring Company &amp; Vault-Tec.',\n",
       " 'We also built our first demonstration tunnel/vault in LA.',\n",
       " 'Doubles as an underground nuclear shelter <U+0001F600><U+0001F44D> https://t.co/CvI0YRjObE @flcnhvy @lexfridman Yeah @tesladri @ID_AA_Carmack @lexfridman Should be happening soon @ID_AA_Carmack @lexfridman A bit more obscure, but Starhammer &amp; Stainless Steel Rat @engineers_feed At first, I thought that was a parrot @JohnnaCrider1 @jhall They remind me of these guys https://t.co/Qt502U08np Story of my life https://t.co/Vn0Rv0yQ5q Tunnels under cities with self-driving electric cars will feel like warp drive\\n\\nFirst operational tunnel under Vega\\x85 https://t.co/wIZYhEd6Pa @jackfarrington For sure @jackfarrington @Tesla Good point Have you hugged a tunnel today?',\n",
       " '@ARKInvest @aurmanARK Good analysis @PPathole Exactly @flcnhvy Gary the snail is still winning, but we\\x92re gaining on him/her Embrace tunnels!',\n",
       " '@ValaAfshar Tunnels are the solution to traffic.',\n",
       " 'You can have as many levels as you want.',\n",
       " 'Usable tunnel depth far e\\x85 https://t.co/lqfdQwHH2g @MatthewCable6 @ErcXspace Just a guess, but probably mid teens.',\n",
       " 'Booster &amp; stacking on orbital pad are likely limiti\\x85 https://t.co/aTQPexe6dK @ErcXspace Pretty accurate simulation, although SN8 will use 3 Raptors.',\n",
       " 'If SN8 craters, SN9 &amp; SN10 are close behind\\x85 https://t.co/wvQFq4OqUA @teslavibes Couldn\\x92t agree more \\x97 major software improvements are already in place to extend its life &amp; more coming @cleantechnica Definitely not.',\n",
       " 'Smartwatches &amp; phones are yesterday\\x92s technology, Neuralinks are the future.',\n",
       " '@engineers_feed Seems like they should make a whole outfit out of that material @sama Ancient Greece had it all &amp; then committed suicide.',\n",
       " 'Nobody digs your grave better than yourself.',\n",
       " '@flcnhvy @sama True @HistoryInPics The LEGO Movie was awesome @sama The Story of Civilization.',\n",
       " 'First book is a little dry, but second book, The Life of Greece, is incredible.',\n",
       " 'https://t.co/46lBciX7FI @Erdayastronaut I\\x92m wearing your F-1 engine shirt right now!',\n",
       " '@PPathole @_rykllan @FelixSchlang @spaceXcentric @MarcusHouseGame @SpaceX Cumulative mass to orbit per year (correc\\x85 https://t.co/8Lcu71XzvM @PPathole @_rykllan @FelixSchlang @spaceXcentric @MarcusHouseGame @SpaceX That\\x92s the number that really matters @_rykllan @FelixSchlang @spaceXcentric @MarcusHouseGame @SpaceX Anyone tracking tonnage to orbit per year for all launch vehicles?',\n",
       " 'One way or another, excitement guaranteed!',\n",
       " 'Support of greater Boca, Padre, Brownsville community is very much appreciated.',\n",
       " 'SN8 Starship with flaps &amp; nosecone should be done in about a week.',\n",
       " 'Then static fire, checkouts, static fire, fly to 60,000 ft &amp; back.',\n",
       " '@SpacePadreIsle @BocaChicaGal @NASASpaceflight Can someone do a boat service from South Padre to Boca?',\n",
       " '@WhatsupFranks @samiralyateem @WholeMarsBlog Exactly.',\n",
       " 'Problems like that have been addressed.',\n",
       " '@PPathole @WholeMarsBlog Yes.',\n",
       " 'Good insight.',\n",
       " '@samiralyateem @WholeMarsBlog All frames stitched to single frame (tricky, as all cameras overlap in different ways\\x85 https://t.co/yzCixdgm38 @WhatsupFranks @brandonbernicky @WholeMarsBlog Much @flcnhvy @WholeMarsBlog Yes @brandonbernicky @WholeMarsBlog Releasing private beta in 2 to 4 weeks, public beta (early access owners who opt in\\x85 https://t.co/OYCpr9I9Hq @WholeMarsBlog And this still isn\\x92t using the dramatically better \\x934D\\x94 (aka simultaneous surround video from 8 cameras) architecture @C_Bass3d @NASASpaceflight @MarcusHouseGame Cool @richardreinariv He has no clue @Astra Sorry to hear that.',\n",
       " 'I\\x92m sure you\\x92ll figure it out though.',\n",
       " 'Took us four launches to reach orbit.',\n",
       " 'Rockets are hard.',\n",
       " 'Many exciting things will be unveiled on Battery Day 9/22 <U+26A1><U+FE0F> @Ostimusic We will make super efficient home hvac with hepa filters one day @jhall @RBReich If Reich actually cares about global warming, why is he making so much hot air!?',\n",
       " '@flcnhvy <U+0001F1E9><U+0001F1EA> Natürlich <U+0001F1E9><U+0001F1EA> Bitte arbeiten Sie bei Tesla Giga Berlin!',\n",
       " 'Es wird super Spaß machen!!',\n",
       " 'https://t.co/FcNoPr2oII @MonicaLewinsky Try a Tesla &amp; you\\x92re welcome to give it back if you decide you prefer a Subaru @slashdot Vera Rubin Observatory is cool @PPathole @eugenelee3 @UniverCurious 1+1=2 @CharlieMunger00 @UniverCurious Munger is right @eugenelee3 @UniverCurious https://t.co/f8rWY4ExeE @UniverCurious Black-Scholes formula is kinda bs.',\n",
       " 'Big difference between a finance approximation &amp; fundamental physics / pure math.',\n",
       " '@wintonARK True @DisruptResearch Tesla is best understood as a collection of about a dozen startups, mostly in series, increasingly\\x85 https://t.co/zYnsXiSP4N @DisruptResearch Tesla R&amp;D productivity is exceptionally good due to the caliber of engineering talent Tesla Model S &amp; X have hospital-grade (HEPA) air filters.',\n",
       " '3 &amp; Y are really good too.',\n",
       " 'This has a big effect on healt\\x85 https://t.co/ytsK3LmfiI @Klee_FilmReview !',\n",
       " 'RT @Teslarati: Tesla Energy ramps hiring at Giga New York for accelerated solar production\\nhttps://t.co/Iha2DREwu0 @Techgnostik @RBReich Touché @RBReich All Tesla workers also get stock, so their compensation increased proportionately.',\n",
       " 'You are a modern day moron.',\n",
       " 'RT @SpaceX: Onboard camera view of Falcon 9\\x92s SAOCOM 1B launch and first stage land landing https://t.co/2IEZYiyYG5 @MstrOfUniverse @PPathole @EvaFoxU Yup @EvaFoxU 13 @Teslarati Rawlinson didn\\x92t design Model S. Prototype was done before he joined &amp; he left us in the lurch just as t\\x85 https://t.co/oy9yVM84xm @Erdayastronaut @PPathole @SpaceX We\\x92re pretty close to the manufacturing size limit for a milled copper &amp; steel ja\\x85 https://t.co/T8d3yN4xRy A la guerre comme à la guerre @harsimranbansal Haha @BnOrdhaug And starts tweeting If you bombard Earth with enough photons, eventually it emits a Tesla (AK) @ID_AA_Carmack There is already bidirectional communication between human &amp; AI via phones &amp; computers.',\n",
       " 'It\\x92s just lo\\x85 https://t.co/t42iuaZMwH @Erdayastronaut @PPathole @SpaceX Above 50% likely to make it @PPathole @SpaceX This is a test engine.',\n",
       " 'Flight articles are fixed with no gimbal.',\n",
       " '@SpaceX Worth noting that thrust is only slightly higher with the big bell nozzle version.',\n",
       " 'Larger bell is primarily\\x85 https://t.co/KIeGOvt0rD RT @SpaceX: The first Raptor Vacuum engine (RVac) for Starship has shipped from SpaceX\\x92s rocket factory in Hawthorne, California to our dev @Tesmanian_com Yes @skorusARK Chart understates lithium-ion potential by roughly 1/3 Model 3 rated as most reliable car https://t.co/26DAGJLTDY Turns out you can make anything fly haha https://t.co/FJdHqRdVDb @PPathole @CureVacRNA Exactly.',\n",
       " 'This is not fully appreciated.',\n",
       " '@austinbarnard45 Starship SN6 flew asimilar hop to SN5, but it was a much smoother &amp; faster operation <U+0001F1E9><U+0001F1EA><U+0001F5A4>Giga Berlin Mannschaft<U+0001F5A4><U+0001F1E9><U+0001F1EA>\\nVielen Dank für Ihre hervorragende Arbeit an Giga Berlin!!',\n",
       " 'https://t.co/KVo5mBfnXt Great trip to Germany.',\n",
       " 'Support from government &amp; people is super appreciated!',\n",
       " '@sara_boutall @Tesla <U+0001F923><U+0001F923> RT @SpaceX: Deployment of 60 Starlink satellites confirmed https://t.co/DdBxIOdOg1 RT @SpaceX: Liftoff!',\n",
       " 'https://t.co/sTZnAn3VTX @StefanTPeterson @Tesla Trust ur butt haha @slashdot An AI with <U+0001F353> picking as its goal will result in Strawberry Fields Forever @SpceEnthusiast @tjmurphy_mit @thesheetztweetz @ExploreMars @SpaceX @TheeSpaceDude Over time, outer 20 will have ~3\\x85 https://t.co/5z9P2upkqs @SpceEnthusiast @tjmurphy_mit @thesheetztweetz @ExploreMars @SpaceX @TheeSpaceDude Yeah @Alert_Alarms Just go through resonant modes fast.',\n",
       " 'It\\x92s when you hang out there that problems arise.',\n",
       " '@tjmurphy_mit @thesheetztweetz @ExploreMars @SpaceX @TheeSpaceDude The outer ring of booster engines (20 of 28) hav\\x85 https://t.co/SSAQZJ8act @Erdayastronaut @flcnhvy @GerberKawasaki Videodrome @teslaownersSV @justpaulinelol https://t.co/0CKVHrmtf1 @teslaownersSV @justpaulinelol https://t.co/QoBVXGQ8Fz @teslaownersSV @justpaulinelol Sorry, sir I think I have momentinertiaphobia RT @SpaceX: Falcon 9 first stage lands at Landing Zone 1 to complete this booster\\x92s fourth flight https://t.co/tUtAcKmIFn @frydave @youyanggu @DFisman Yeah @PPathole @Nigel_Lockyer @Penn @Fermilab LHC tbh https://t.co/oVaoHsg1of @Nigel_Lockyer @Penn @Fermilab If you ever want to build a long accelerator tunnel, straight or circular, I know some people RT @SpaceX: After launching SAOCOM 1B and two rideshare payloads to orbit, Falcon 9\\x92s first stage returns to Earth and lands at Landing Zon RT @SpaceX: Deployment of SAOCOM 1B confirmed https://t.co/gqtxQMpy48 RT @SpaceX: Falcon 9\\x92s first stage has landed at Landing Zone 1 https://t.co/0y5FkVqPk8 RT @SpaceX: Liftoff!',\n",
       " 'https://t.co/AIwrMzB3D1 @VitalVegas Cool RT @neuralink: Snout Boops https://t.co/ZJogq2ulvf @Nigel_Lockyer @Penn @Fermilab Physics is the law, everything else is a recommendation @SamTalksTesla @Teslarati If some company has solved a useful thing that we can just buy, that would be great!',\n",
       " 'It\\x92s\\x85 https://t.co/IxhyT6NuiC @Teslarati Tesla Germany designed &amp; built the vaccine RNA printers for CureVac, but, subject to some CureVac IP, th\\x85 https://t.co/X32SdA871G @engineers_feed Technically, James Watt measured a pony, added 50% &amp; rounded up haha https://t.co/vnkO0MTrUC @flcnhvy @GerberKawasaki Also, Critical Thinking @flcnhvy @GerberKawasaki Alexander and the Rise of Hellenism and Film Studies @GerberKawasaki Wow, I super loved astronomy (but took it at Queens, not Penn)!',\n",
       " 'Definitely one of my favorite class\\x85 https://t.co/o4FjcGlAhw @teslaownersSV @justpaulinelol Yeah, he sent it to me through a mutual physics prof friend at Caltech/CERN.',\n",
       " 'Very ba\\x85 https://t.co/tJsh1Exz1Q @justpaulinelol It\\x92s too embarrassing Just learned that my physics prof from Penn is head of Fermilab &amp; still has some of my old homework <U+263A><U+FE0F> @ruskin147 It is unfortunately common for many in academia to overweight the value of ideas &amp; underweight bringing\\x85 https://t.co/OFFoojCqNv @l_vaux @kulpability @tlowdon @EthicalSkeptic People are extremely unlikely to die of Covid/sars-cov2 alone.',\n",
       " 'If you\\x85 https://t.co/g7vxPUpkVn @PPathole @kulpability @tlowdon @EthicalSkeptic That &amp; Giga Berlin are why I\\x92m headed to Germany this week.',\n",
       " 'Convers\\x85 https://t.co/QqDcDOV2JO @tlowdon @EthicalSkeptic Antibody half-life for cov2 is very short.',\n",
       " 'In a study that SpaceX did working with Harvard\\x85 https://t.co/dyL0P8xvUF @PPathole @tlowdon @EthicalSkeptic Yeah @kulpability @tlowdon @EthicalSkeptic One person at Tesla (out of 60,000) was hospitalized in serious condition (he\\x85 https://t.co/UNJGvlveuk @tlowdon @EthicalSkeptic Some of the tests we initially tried at Tesla were ~50% false positive, including some fro\\x85 https://t.co/bY0ooPHPp7 @WholeMarsBlog @MarcusHouseGame @Neopork85 @SpaceX @Erdayastronaut @SpaceToday1 @ElonsWorld @FelixSchlang @ChrisG_NSF @DJSnM Not yet @MarcusHouseGame @Neopork85 @SpaceX @Erdayastronaut @SpaceToday1 @ElonsWorld @FelixSchlang @ChrisG_NSF @DJSnM Yes.',\n",
       " 'https://t.co/O2qpNV2Qry @ICannot_Enough People read too much into this level of detail.',\n",
       " 'It\\x92s not useful for predicting the future, nor can\\x85 https://t.co/i2rRGlbX8J @ICannot_Enough Critical feedback is always appreciated btw @biogirl09 @JaneidyEve @Tesmanian_com @SpaceX We can\\x92t have a blanket pass, but maybe for some events @Neopork85 @SpaceX @MarcusHouseGame @Erdayastronaut @SpaceToday1 @ElonsWorld @FelixSchlang @ChrisG_NSF @DJSnM Boost\\x85 https://t.co/vV2AGJE8MW @flcnhvy @PPathole @ID_AA_Carmack Later versions of a larger device would have that potential @EvaFoxU @waitbutwhy Yup @PPathole @ID_AA_Carmack Actually C, although the syntax could be improved esthetically @ID_AA_Carmack I like C, because it avoids class warfare @PPathole @IEEESpectrum @neuralink A nightcap would probably work best @IEEESpectrum @neuralink Pretty much @Tesmanian_com Good summary Conceptual telepathy RT @waitbutwhy: If you ever fantasize about having been an 1880s engineer working in Edison\\x92s lab, apply to work at @neuralink.',\n",
       " 'Ahem \\x85 starting soon https://t.co/eCGHH5stOn \\x93All of physics is either impossible or trivial.',\n",
       " 'It is impossible until you understand it, and then it becomes trivial.\\x94 E Rutherford @flcnhvy Giant gap between experimental medical device for use only in patients with extreme medical problems &amp; wid\\x85 https://t.co/f0FIB1W94Z @tobyliiiiiiiiii @Erdayastronaut @flcnhvy @DJSnM Testing with shorter RVac skirt went well.',\n",
       " 'Full length skirt test coming soon.',\n",
       " 'Neuralink product demo in 3 hours.',\n",
       " 'Webcast at https://t.co/Y9wREd78oj.',\n",
       " '@Erdayastronaut @flcnhvy @DJSnM Raptor reached 230 mT-F (over half a million pounds of thrust) at peak pressure wit\\x85 https://t.co/1sPnwBelpA @nextspaceflight Good chance something will slip, but, yeah, Sunday is intense @Erdayastronaut @flcnhvy @DJSnM Only need 2 engines @AstroJordy @flcnhvy @DJSnM Boring Co tunnel in Vegas is only a few months from being operational @flcnhvy @DJSnM Neuralink this month &amp; Tesla next month, SpaceX probably October.',\n",
       " 'We will have made a lot of progre\\x85 https://t.co/cjSgR0sJIT @zeitmas @DJSnM Soon @DJSnM They\\x92re quite accurate!',\n",
       " '@EvaFoxU That number sure comes up a lot <U+0001F923><U+0001F923> @ajtourville @peterdog15 I\\x92m fine with reasonable drone footage.',\n",
       " 'Just needs to be at a fair distance &amp; not coming r\\x85 https://t.co/hsPkw3Zk1Y @GerberKawasaki @Tesla Thanks to a smart and hardworking team at Tesla.',\n",
       " 'These sure are wild times @Teslarati Much appreciated.',\n",
       " 'This was a serious attack.',\n",
       " '@thejackbeyer @NASASpaceflight Brave Starhopper carried the day @ItMotivatesUs Only so many days @waitbutwhy https://t.co/19h4u8TA2a @WholeMarsBlog We were too obtuse for our own good, although I think it works esthetically.',\n",
       " 'Those are folded-over c\\x85 https://t.co/aLExCZiJ1l @cleantechnica But actually nothing.',\n",
       " 'Was surprised to hear they\\x92re across the road.',\n",
       " 'Adding silicon to carbon anode\\x85 https://t.co/oohNzZEh9v @cleantechnica Nothing <U+0001F440> @lexfridman Then they leave the house and hardly ever call their parents!',\n",
       " 'The Big Bang started very, very smol https://t.co/XVvcuALZ2o https://t.co/8R92iEXVvN @PPathole Asimov was <U+0001F525><U+0001F525> Should we believe things proportionate to the evidence that they are true?',\n",
       " '(yes) Olde skoole analog synthesizer from ancient Britain https://t.co/JG0fI3ChxC @slashdot https://t.co/WoIwia7zTn @Kristennetten @flcnhvy Was just there &amp; weather was calm.',\n",
       " 'Sure hope it stays that way!',\n",
       " '@Teslarati Tesla brake lights are powered by a miniverse inside a microverse https://t.co/aduoTl537T @flcnhvy Exactly @Erdayastronaut @Tesla No, we\\x92re focused on developing new products &amp; scaling production @flcnhvy @neuralink Yes, will show V2.',\n",
       " 'Still far from LASIK, but could get pretty close in a few years.',\n",
       " 'Lengthy background on Neuralink by @waitbutwhy https://t.co/z2YfAupDRD Live webcast of working @Neuralink device\\nFriday 3pm Pacific https://t.co/PouLbrGzFU @engineers_feed Astronaughty @OwenSparks_ @PPathole @Erdayastronaut @dauqhx @universal_sci No @PPathole @Erdayastronaut @dauqhx @universal_sci Mars is easier than the moon for propellant production.',\n",
       " 'Could get\\x85 https://t.co/ToySP1uKiF @Erdayastronaut @dauqhx @universal_sci Starship propellant is ~78% oxygen, so an O2 plant on the moon would be enou\\x85 https://t.co/1TUKV0HViG @waitbutwhy Now I want candy @dauqhx @universal_sci There\\x92s a lot of frozen CO2 &amp; H2O on Mars.',\n",
       " 'Heating the planet will densify the atmosphere.',\n",
       " 'It\\x92s solvable.',\n",
       " '@universal_sci Perhaps one day there will be an ocean on the northern part of Mars @jchybow @jwangARK @wintonARK It\\x92s almost working reliably @jwangARK @wintonARK Very different computers are needed for training vs inference.',\n",
       " 'FSD is mostly Int8, but Dojo is\\x85 https://t.co/ZCnW4Z3nxH @jwangARK @wintonARK Not exactly GPUs for NN.',\n",
       " 'Lots of cores optimized for dot products with fast local memory &amp; sup\\x85 https://t.co/L8xesE456A @tesla_addicted @Erdayastronaut No &amp; not possible at this scale @Erdayastronaut Orbital launch mount @NASASpaceflight Yeah.',\n",
       " 'Occasional flights from land are ok, but frequent (daily) flights probably need ~30km / 18 m\\x85 https://t.co/5LLiqZacuU @schristakos @skorusARK Sure @shortword On it @coach23life I tried to warn them, but they just dug their own grave twice as fast!',\n",
       " '@skorusARK 400 Wh/kg *with* high cycle life, produced in volume (not just a lab) is not far.',\n",
       " 'Probably 3 to 4 years.',\n",
       " '@NASASpaceflight Starship/Super Heavy, which is ~10X mass of Zenit, will mostly launch from ocean spaceports long-term RT @Teslarati: Tesla Model 3 is \\x93most satisfying\\x94 car across all ages, study reveals https://t.co/ka0iha7z6C https://t.co/XUZMuLvFHF @johnkrausphotos @NASASpaceflight @SpaceX @SuperclusterHQ Starship/Super Heavy is ~10X bigger in mass &amp; volume A metaphor for life https://t.co/CdlL4ieLju RT @jaxzin: Power is flowing again from the grid.',\n",
       " 'Grateful for my @Tesla #Powerwall and 162 hours of uninterrupted backup power.',\n",
       " '<U+26A1><U+FE0F><U+26A1><U+FE0F><U+26A1><U+FE0F> ht @Tesmanian_com Accurate distance calculation using only vision is fundamental.',\n",
       " 'Other sensors can help, but are not fundamental.',\n",
       " '@DARPA Uh oh More fun games coming soon to ur Tesla https://t.co/zBdYGOuHsz https://t.co/hKpWJnXsFc strikes again!',\n",
       " '@Sinan25 Sorry, noise reduction has gotten much better recently &amp; will continue to improve @Dami_Kolz09 <U+0001F923> @jussiwen Hardcore techno, aber vielleicht ein bisschen Fahrstuhlmusik auf der Toilette New Tesla feature coming that enables your car to play snake jazz or Polynesian elevator music through its outside speakers wherever you go https://t.co/Bki5SOOroe @flcnhvy @JaneidyEve Hopefully, we have achieved AI symbiosis by then @JaneidyEve Or a self-perpetuating autocracy based on a farcical aquatic ceremony where the king is chosen by a wise panzer in a lake @JaneidyEve Direct democracy.',\n",
       " 'Short, comprehensible laws voted on directly by the people.',\n",
       " 'Snake Jazz.',\n",
       " '<U+0001F40D><U+0001F3B7> @WholeMarsBlog It\\x92s quite hard for us to write the software needed to cover basic car functionality, but maybe we c\\x85 https://t.co/YWLQuX5rbv GPT-3 sounds like Simon &amp; Garfunkel lyrics Bureaucracy is inherently kafkaesque @Tesmanian_com Dankeschön Brandenburg &amp; Grünheide!',\n",
       " '@harsimranbansal @EvaFoxU True <U+0001F923><U+0001F923> @GeffenAvraham @BryanFlanks @SpellMender @VladKarmon @torybruno @ULAEngineer @SpaceX <U+0001F446> Medical check is A-ok!',\n",
       " 'https://t.co/zTRMvQ6Wvx He might run for President in 2024 https://t.co/Wo34fhKugu @Erdayastronaut @nextspaceflight Not having long chain hydrocarbons &amp; lowering preburner combustion temperature make a big difference @EverydayElon @ajtourville @comma_ai @Tesmanian_com Yes @WholeMarsBlog @ajtourville @comma_ai @Tesmanian_com Yes @DanielleFong @ajtourville @comma_ai @Tesmanian_com Absolutely needs liquid cooling.',\n",
       " 'We\\x92re applying our experience\\x85 https://t.co/EzlAXWg3rp @TeslaTested That\\x92s an error in Canada.',\n",
       " 'The lease payment is specifically lower than loan financing, as Tesla expec\\x85 https://t.co/VAE3Ppljox @tobyliiiiiiiiii @Erdayastronaut @nextspaceflight We will push for ten flights with Starlink @flcnhvy @Erdayastronaut @nextspaceflight Almost never need to replace whole engine, but some individual parts like\\x85 https://t.co/fdnxdWh4eT @Erdayastronaut @cnunezimages @SpaceIntellige3 Mostly for employees, but we\\x92ll support public access whenever it\\x92s\\x85 https://t.co/Y5DB5mkZPu @EvaFoxU @cnunezimages @SpaceIntellige3 Absolutely <U+0001F603> <U+0001F3DD> @Erdayastronaut @nextspaceflight I don\\x92t want be cavalier, but there isn\\x92t an obvious limit.',\n",
       " '100+ flights are possi\\x85 https://t.co/3dHapZhixH @cnunezimages @SpaceIntellige3 I\\x92ve been working in Boca since Sunday.',\n",
       " 'August heat &amp; humidity in South Texas is int\\x85 https://t.co/xEPds9ItUW @ajtourville @comma_ai @Tesmanian_com Dojo V1.0 isn\\x92t done yet.',\n",
       " 'About a year away.',\n",
       " 'Not just about the chips.',\n",
       " 'Power\\x85 https://t.co/tSbttIdUHJ @spacecoast_stve Scorcher VI https://t.co/34O80p1hI6 @antonioetayo @Erdayastronaut @C_Bass3d @NASASpaceflight @FelixSchlang Yes Elevator music is underrated @Erdayastronaut @C_Bass3d @NASASpaceflight @FelixSchlang It\\x92s counter-intuitive, but Raptor has so much thrust at h\\x85 https://t.co/CaGYh9NNd0 RT @Tesla: Big updates in <U+0001F1E8><U+0001F1E6> \\n\\n\\x96 Trans-Canada Supercharging <U+2705> \\n\\x96 Model Y deliveries <U+2705> \\n\\x96 Leasing for Model Y &amp; Model 3 <U+0001F3AF>\\nhttps://t.co/gyFBE @nextspaceflight Payload reduction due to reusability of booster &amp; fairing is &lt;40% for F9 &amp; recovery &amp; refurb is &lt;1\\x85 https://t.co/sQGXv49YrS @zubinanary @SpaceIntellige3 @guidodecaso @cnunezimages Yes, it will have huge nuts haha @Teslarati We really need a bigger one, so adults can squeeze in too.',\n",
       " 'Guaranteed to make a party more fun.',\n",
       " 'Works well with flamethrowers!',\n",
       " '@SpaceIntellige3 @guidodecaso @cnunezimages My favorite is one in tension, other DoF in compression.',\n",
       " 'New Roadster w\\x85 https://t.co/ukLy4Dwqur @davidgokhshtein Yes Aloha, welcome back from space <U+0001F4AB> https://t.co/xWPN09Wtaw @Erdayastronaut Yeah, will post shortly @krystof_mitka @BiIndia Winning \\x93worst person I\\x92ve ever worked with\\x94 is not easy.',\n",
       " 'Some real champions are vying for that title!',\n",
       " 'Fairing chute control &amp; ship control are closing the loop locally.',\n",
       " 'Both operating on (SpaceX) autopilot.',\n",
       " 'Ms Tree catches fairing in her net https://t.co/sqlJ63NetB @BiIndia <U+0001F610> RT @SpaceX: Falcon 9\\x92s first stage has landed on the Of Course I Still Love You droneship \\x96 first time a booster has completed six flights!',\n",
       " '@valleyhack @GeoffdBarrett Up there somewhere, cruising through deep space https://t.co/PcybhfpUAD @NatGeo Must be aliens @spendg8 Yes @RGVaerialphotos @SpaceX @Erdayastronaut This little spit of dirt will take us to Mars @jwangARK Humans are swiftly becoming a small percentage of total compute @Erdayastronaut @ProgrammerDude Max demonstrated Raptor thrust is ~225 tons &amp; min is ~90 tons, so they\\x92re actually\\x85 https://t.co/44Fge3GIee @AdamBlitzer @levie <U+0001F4A8> @justpaulinelol @NASASpaceflight That\\x92s engine SN.',\n",
       " 'We\\x92re building SN8 of the ship.',\n",
       " '@NASASpaceflight SN40 is about to be tested &amp; has several upgrades over 330 bar engine.',\n",
       " 'For reference, 330 bar on R\\x85 https://t.co/vk8NzLR0SZ Raptor engine just reached 330 bar chamber pressure without exploding!',\n",
       " 'https://t.co/kVKRWksvaB @Erdayastronaut Yeah, Starship will be a tiny dot at 20km.',\n",
       " 'Hard to see with naked eye.',\n",
       " 'We\\x92ll do lots of flights.',\n",
       " '@C_Bass3d @Erdayastronaut @NASASpaceflight @FelixSchlang Very impressive render.',\n",
       " 'Note, legs will be bigger &amp; there\\x92\\x85 https://t.co/uP3t8oW5tF @PPathole @universal_sci This might sting a little @PPathole The \\x93early investor\\x94 part of Tesla is wrong.',\n",
       " 'That bs has been pushed by Eberhard (worst person I\\x92ve ever\\x85 https://t.co/XVuOEiG9eX @universal_sci Also, there could be long period comets that intersect Earth right now.',\n",
       " 'We just haven\\x92t observed the\\x85 https://t.co/mezrzCneWO @universal_sci Pretty much Cybertruck option package https://t.co/6Vz4XNoHf9 @SteveStuWill @jagarikin Wow @Booster_Buddies @NASASpaceflight My button-twiddling makes no sense at all <U+0001F923><U+0001F923> @flcnhvy @nickcappelli @Grimezsz You got it\\nhttps://t.co/F2rXGcz964 @EvaFoxU That\\x92s a great one \\x93Tanks 4 the memery\\x94 - panzer of the lake Some big milestones coming up https://t.co/K3v3yddg6J @DrPhiltill Africa is big @AwardsDarwin Bold move, sir, bold move @EuricSanti @luisabinader @Tesla Thank you, Tesla is most honored!',\n",
       " '@CowderySedge @tbdnonymous Very real possibility @BillRatchet <U+263A><U+FE0F> @WholeMarsBlog <U+0001F923><U+0001F923> Please trash me on Wikipedia, I\\x92m begging you History is written by the victors \\x85 except on Wikipedia haha @nickcappelli @Grimezsz Cover of Barbie Girl @tbdnonymous Yes.',\n",
       " 'Probably more accurate to say Great Filters plural.',\n",
       " '@nickcappelli @Grimezsz Yes, it\\x92s called Cyber Girl We must pass The Great Filter Sounds right https://t.co/dm76FJq3hX @Dr_rami @tomdestella @RobertDowneyJr Seriously @long_elon Crysis rocks A truly useful exaflop at de facto FP32 @Kristennetten @engineers_feed Metal has a fudge-like consistency near its melting point, so you can just smoosh it together @engineers_feed This is how we make Falcon 9 https://t.co/mDoPO17YB9 https://t.co/326rkUEYW8 @flcnhvy @ICannot_Enough @Tesla This is out of our hands, so hard to predict.',\n",
       " 'Maybe on order of 10 billion km of re\\x85 https://t.co/38fzby8pNO @austinbarnard45 Yes @realwillreil @GiulioCoraggio <U+0001F923><U+0001F923> hasty govt <U+0001F923><U+0001F923> @teslaownersSV @PPathole @ICannot_Enough @flcnhvy @Tesla A lot of work remains.',\n",
       " 'Technically, we have it working in\\x85 https://t.co/WzG16TAxEe @PPathole @ICannot_Enough @flcnhvy @Tesla Dojo is still being built.',\n",
       " 'Maybe a year or so from V1.0.',\n",
       " '@ICannot_Enough @flcnhvy @Tesla Autopilot was trapped in a local maximum, labeling single camera images uncorrelate\\x85 https://t.co/W1gOo6ETzH @ICannot_Enough @flcnhvy @Tesla Your insights over the years have been excellent.',\n",
       " 'That\\x92s approximately right.',\n",
       " '@GiulioCoraggio Absolutely, but it doesn\\x92t seem that govt can move fast enough @teslaownersSV Ok @flcnhvy It will blow ur mind haha https://t.co/LqnKEN5Kjn Our main engineering locations are Palo Alto, Austin &amp; Seattle, but working remotely is acceptable for exceptional candidates @tomdestella I want to do electric vtol supersonic sooo bad, but my brain will overload @universal_sci Asteroid impact risk is well understood, but not comets.',\n",
       " 'Those worry me.',\n",
       " 'Great mission patch design!',\n",
       " 'https://t.co/p2Ic1crPef @Nikola_Truth Haha true @WholeMarsBlog @alesssj4 Yup @flcnhvy @teslaownersSV Exactly @Kristennetten @teslaownersSV @Erdayastronaut Also definitely coming haha.',\n",
       " 'Will only be on relatively recent cars,\\x85 https://t.co/6GBXaxTn4a @vicentes @teslaownersSV @Erdayastronaut Sorry, this is embarrassingly late.',\n",
       " 'Two factor authentication via sms or a\\x85 https://t.co/rAXDlK9jTi @_bennettm_ @Erdayastronaut Yes!',\n",
       " 'We\\x92re labeling bumps &amp; potholes, so the car can slow down or steer around them when safe to do so.',\n",
       " '@teslaownersSV @Erdayastronaut Not perfectly at first, but yes.',\n",
       " 'Will take maybe a year or so to get really good at\\x85 https://t.co/3S2XZAnacE @Erdayastronaut This is what I meant by \\x934D\\x94 https://t.co/xpX7j5SnPy @Erdayastronaut The FSD improvement will come as a quantum leap, because it\\x92s a fundamental architectural rewrite,\\x85 https://t.co/K2CB4Nimiy Tesla is developing a NN training computer called Dojo to process truly vast amounts of video data.',\n",
       " 'It\\x92s a beast!',\n",
       " 'P\\x85 https://t.co/Aipo9Gd8ek @Teslarati More software improvements coming @cleantechnica Significant improvements coming to S/X air suspension soon via software update!',\n",
       " 'Will simultaneously\\x85 https://t.co/Jjunwv2j94 @stoolpresidente H2O, CH4/CO2, N2, iron, nickel, chrome, aluminum (not necessarily in that order) will matter far m\\x85 https://t.co/iAQiCeTdoA @waitbutwhy @lukeprog What are the odds \\x85 ?',\n",
       " '@viktaur27 @Teslarati The rate of improvement from original GPT to GPT-3 is impressive.',\n",
       " 'If this rate of improvement\\x85 https://t.co/kTpPeRcwT5 @Teslarati Tesla team is working hard on increasing Powerwall production RT @JimBridenstine: NEWS: @NASA &amp; @SpaceX are targeting no earlier than Oct. 23 for Crew Dragon\\x92s first operational mission to the @Space_S @C_Bass3d @Erdayastronaut SN8 @Erdayastronaut Impressive @stoolpresidente Psyche https://t.co/ZkOI8FPVZZ @Erdayastronaut @KenKirtland17 @torybruno @ulalaunch @SpaceX @blueorigin @DJSnM @ThePrimalDino Yes, integrated with the tip of the nose @Teslarati This is important @Erdayastronaut Probably not faster than utility power can be restored.',\n",
       " 'Powerwall/Powerpack/Megapack can certainly\\x85 https://t.co/712ZNZTmbj @KenKirtland17 @torybruno @ulalaunch @SpaceX @blueorigin @Erdayastronaut @DJSnM @ThePrimalDino Starship fairing wil\\x85 https://t.co/U2wI4CGI5t @pantsbobsponge @andyjstanton @TimFernholz You are correct.',\n",
       " 'This is a substantial underpayment compared to what ULA has received.',\n",
       " '@TimFernholz So why is this madness acceptable for Boeing/Lockheed rockets?',\n",
       " '@TimFernholz Nobody would suggest buying airplanes that only fly once &amp; then crash into the ocean.',\n",
       " 'That would be absurd @Tesmanian_com I generally try my best not to be on patents @TimFernholz Efficiently reusable rockets are all that matter for making life multiplanetary &amp; \\x93space power\\x94.',\n",
       " 'Becau\\x85 https://t.co/AlG6Ue95vE @WholeMarsBlog Will be amazing to see it in operation!',\n",
       " 'Biggest casting machine ever made.',\n",
       " 'Will make rear body in a\\x85 https://t.co/mwZJYLhd88 @renarddemoscou @BillGates Sorry to hear this.',\n",
       " 'What can we do to help?',\n",
       " '@Teslarati No surprise @Teslarati Aiming to make it super fun!',\n",
       " '@Teslarati A little toastier each flight @flcnhvy Same hex tiles, slightly different mounting method.',\n",
       " 'Need bigger sections of tiles to see how they hold up\\x85 https://t.co/XNIPTypahf SN7 will be new alloy test tank taken to burst pressure.',\n",
       " 'SN8 will have body flaps &amp; nosecone.',\n",
       " 'SN 5 &amp; 6 at Starship Production Complex in Texas https://t.co/8BVRD5VdU7 @Mark_Goldberg_ @Tesla One day soon, I will wear this outfit https://t.co/T0SnF4UgYK @Mark_Goldberg_ @Tesla I was trying to channel Herb Tarlek from WKRP https://t.co/0RC72S0ZAY @Mark_Goldberg_ @Tesla Note the fabulous plaid jacket &amp; gingham shirt combo <U+0001F923> @archillect Twin Peaks @SamTalksTesla Working on my Mom\\x92s cousin\\x92s farm in Saskatchewan at age 17.',\n",
       " 'I think we did a barn-raising that day.',\n",
       " '@wonderofscience https://t.co/y7LrlouXr9 @Erdayastronaut Not sure yet, but hopefully.',\n",
       " 'Will need leg &amp; other repairs.',\n",
       " 'Probably SN6 flies before SN5.',\n",
       " 'We need\\x85 https://t.co/CGXSNck6uv @lexfridman Clearly RT @Erdayastronaut: Spot the tiny humans!!!',\n",
       " 'This shot really puts it into scale!!!',\n",
       " 'A full blown Starship and SuperHeavy will be hard to fat @ramacvr @Kristennetten @PPathole @BernieSanders Also true @Kristennetten @PPathole @BernieSanders <U+0001F923><U+0001F923> @PPathole @BernieSanders Over time, since we give all employees shares, my ownership is diluted automatically.',\n",
       " 'From\\x85 https://t.co/AQgI0Cu2HN RT @ThePlanetaryGuy: Videos like this will always amaze me...\\n\\nAstronomer Jan Koet captured this video in 2007 of Saturn appearing behind t @RationalEtienne @BernieSanders I wonder if he reads his Twitter feed @BernieSanders And why aim your attacks at Tesla, when we\\x92re doing more than any other company on Earth to advance\\x85 https://t.co/Vc6iSFxioZ @BernieSanders That bs was pushed by oil &amp; gas interests to distract people from the $5 *trillion* per year they re\\x85 https://t.co/pTAWt9dHHc @Siconik1 @WR4NYGov @28delayslater @BernieSanders <U+0001F3AF> @WR4NYGov @BernieSanders Good analysis.',\n",
       " 'He also includes a govt loan for high efficiency vehicles that Tesla paid b\\x85 https://t.co/iaklN5fvpb @westcoastbill <U+0001F4AF> @johnkrausphotos @Erdayastronaut @queue_max @NASASpaceflight Yeah, full name of engine is Velociraptor or Raptor for short @tobyliiiiiiiiii @Erdayastronaut @queue_max @NASASpaceflight Haha, good catch.',\n",
       " 'Booster will have fixed legs that add ~2m in height.',\n",
       " '@Erdayastronaut @queue_max @NASASpaceflight I think we can get (Veloci)Raptor T/W on par with Merlin.',\n",
       " 'Latter also s\\x85 https://t.co/dlMy5rybrK @NASASpaceflight It will look crazy tall with booster &amp; fairing at 122m / 394 ft @RenataKonkoly @TimothyBuffett @Teslarati @JaneidyEve Ok @TimothyBuffett @Teslarati Apart from failing to quarantine elderly/at-risk people early (a mistake they recognize), they were right @Teslarati https://t.co/kogvN4rMJ8 Good piece on Giga Berlin construction https://t.co/pA8sgEpV9Y @FutureJurvetson @SpaceX This seems increasingly likely RT @SpaceX: Falcon 9\\x92s first stage has landed on the Of Course I Still Love You droneship https://t.co/szO3thMxqa @Teslarati This is gonna be great SN5 https://t.co/GlZ28KFVHU RT @Tesla: Looking up in Model Y https://t.co/iAfpJ491Zz RT @SpaceX: Starship takes flight https://t.co/IWvwcA05hl @PPathole @TrevorMahlmann @arstechnica We\\x92ll do several short hops to smooth out launch process, then go high altitude with body flaps @ebelardo73 @bluemoondance74 @TrevorMahlmann @arstechnica Soon @TrevorMahlmann @arstechnica V1.1 legs will be ~60% longer.',\n",
       " 'V2.0 legs will be much wider &amp; taller \\x97 like Falcon, bu\\x85 https://t.co/cGEWEqny7S @flcnhvy Progress is accelerating RT @NASASpaceflight: LAUNCH!',\n",
       " 'Starship SN5 has launched on a 150 meter test hop at SpaceX Boca Chica.',\n",
       " 'Under the power of Raptor SN27, SN5 h @SciGuySpace Exactly @austinbarnard45 Mars is looking real @TrevorMahlmann Possible flight in 3 mins @Erdayastronaut Most likely @flcnhvy @Lindw0rm @cleantechnica True @Lindw0rm @cleantechnica Highly likely down the road @cleantechnica True fact @NASASpaceflight Scrubbed for the day.',\n",
       " 'A Raptor turbopump spin start valve didn\\x92t open, triggering an automatic abo\\x85 https://t.co/QDdlNXFgJg @Erdayastronaut I\\x92m in the Boca control room.',\n",
       " 'Hop attempt in ~33 minutes.',\n",
       " 'RT @RealLifeStarman: \\x93We are going to go to the moon, we are going to have a base on the moon, we are going to send people to mars and make @Erdayastronaut @SpaceX For sure @engineers_feed Tbh, I must confess to occasionally pontificating about high-concept things @engineers_feed Pretty much @Erdayastronaut Nosecone closing is recommended, but not required, for safe entry When space travel becomes as common as air travel, the future of civilization will be assured RT @NASA: \"To anybody who has touched Endeavour, you should take a moment to just cherish this day.\"',\n",
       " \"Touching words from @Astro_Doug as @ @waitbutwhy Space is the new air RT @NASA: LIVE: An update on today's @SpaceX Dragon Endeavour splashdown, returning @AstroBehnken &amp; @Astro_Doug home to Earth.\",\n",
       " 'Hear from @J RT @JimBridenstine: UPDATE: Post-SpaceX Crew Dragon DM-2 Splashdown News Conference no earlier than 4:45pm ET.',\n",
       " 'Watch live: https://t.co/qPe Congratulations @SpaceX &amp; @NASA on completing first crewed Dragon flight!!',\n",
       " '<U+0001F1FA><U+0001F1F8> returned.',\n",
       " 'RT @SpaceX: Webcast of Crew Dragon\\x92s return to Earth from the @space_station with @AstroBehnken and @Astro_Doug <U+2192> https://t.co/bJFjLCzWdK h RT @SpaceX: Good splashdown of Dragon confirmed!',\n",
       " 'Welcome back to Earth, @AstroBehnken and @Astro_Doug!',\n",
       " 'https://t.co/0vAS3CcK9P Dragon is stable in the water Acquisition of signal expected in 5 mins 4 mins to Dragon loss of signal due to atmospheric entry plasma Dragon will travel from south of New Zealand to Florida in ~37 minutes Coming in hot https://t.co/dzFr5BNBfF Astronauts land in 2 hours @NASA @SpaceX RT @SpaceX: Crew Dragon\\x92s flight back to Earth with @AstroBehnken and @Astro_Doug remains on track; targeting splashdown off the coast of P @Erdayastronaut @SpaceX However, we did prove that a SuperDraco landing could work by doing a propulsive hover https://t.co/Mr7VFIQwWf @Erdayastronaut @SpaceX All correct.',\n",
       " 'Parachutes were originally the backup landing system, with SuperDraco thruster\\x85 https://t.co/941A2oDu5H @meier1028 @SpaceX @Space_Station @AstroBehnken @Astro_Doug Great game @NatalCicuto @Tesla @Kristennetten @TeslaForThe_Win Working on it RT @Commercial_Crew: .',\n",
       " '@Astro_Doug &amp; @AstroBehnken will spend one more night in space prior to returning to their homeland, Earth.',\n",
       " 'While as RT @NASA: The view from inside the @SpaceX Dragon Endeavour, as @AstroBehnken &amp; @Astro_Doug monitor their departure from @Space_Station: ht RT @SpaceX: Separation confirmed.',\n",
       " 'Dragon performing 4 departure burns to move away from the @Space_Station https://t.co/ea14fozdO8 RT @SpaceX: Crew Dragon will depart the @Space_Station with @AstroBehnken and @Astro_Doug in about 6 hours and splash down off the coast of @engineeringvids The simplest solution is not necessarily the most satisfying RT @cleantechnica: Tesla Autopilot Accidents: 1 out of 4,530,000 Miles; US Average: 1 out of 479,000\\xa0Miles https://t.co/NnBeTmY1Tr RT @Tesla: Tesla Q2 Vehicle Safety Report https://t.co/C7no6bBwGc <U+0001F9D9><U+200D><U+2642><U+FE0F> https://t.co/xxvcWMrTwS @cybrtrck Absolutely.',\n",
       " 'Long-lasting art is incredibly difficult.',\n",
       " \"This BBC article provides a sensible summary for how it was done https://t.co/le3r20BWID RT @JimBridenstine: NEWS: Teams from @NASA and @SpaceX remain GO with plans to bring @Astro_Doug and @AstroBehnken home to Earth on Sunday RT @NASA: They're coming home!\",\n",
       " \"<U+0001F30E><U+0001FA82>\\n\\nOn Aug. 1, astronauts @AstroBehnken and @Astro_Doug will depart the @Space_Station on @SpaceX's Crew Dra The Great Pyramid was the tallest structure made by humans for 3800 years.\",\n",
       " 'Three thousand, eight hundred years.',\n",
       " 'https://t.co/6DU46eMbni RT @Commercial_Crew: @NASA and @SpaceX remain GO with plans to bring @Astro_Doug and @AstroBehnken home to Earth this weekend.',\n",
       " 'Teams will c @waitbutwhy So true Ramses II was <U+0001F60E> Aliens built the pyramids obv @Iearnsomethlng Ancient Egypt had an incredible esthetic that stands to this day @notch <U+263A><U+FE0F> @matfabrix @engineers_feed Witch logic https://t.co/o5xAopSNw1 @matfabrix @engineers_feed Things we take for granted, like flying, would have had you burned at the stake for witchcraft not that long ago @engineers_feed Engineering is magic made real @JaneidyEve Lo Que Construimos https://t.co/2yg5GAtgV9 @thesheetztweetz Cool https://t.co/8lpvwbeC4R Starship SN5 just completed full duration static fire.',\n",
       " '150m hop soon.',\n",
       " '<U+0001F5A4><U+0001F9DB><U+200D><U+2640><U+FE0F>Total Eclipse of the Heart <U+0001F9DB><U+200D><U+2640><U+FE0F><U+0001F5A4> https://t.co/n8djdlKnbE @lnterestingMaps @Iearnsomethlng <U+0001F62E> @bluemoondance74 @PPathole @flcnhvy @shravantr @Neuro_Skeptic Not that I\\x92m aware of @PPathole @flcnhvy @shravantr @Neuro_Skeptic Yes.',\n",
       " 'Could also extend range of hearing beyond normal frequencies and amplitudes.',\n",
       " 'Deus Ex.',\n",
       " '@flcnhvy @shravantr @Neuro_Skeptic Neuralinks are currently meant for mature brains &amp; functionality is lost if remo\\x85 https://t.co/c3O4RRavZ8 @shravantr @Neuro_Skeptic Yes, should be possible to create a neural shunt from motor cortex to microcontrollers in\\x85 https://t.co/HpPvgJFhms @Neuro_Skeptic Will show neurons firing in real-time on August 28th.',\n",
       " 'The matrix in the matrix.',\n",
       " '@Neuro_Skeptic They don\\x92t fire all at once.',\n",
       " 'Some go several seconds to minutes without firing.',\n",
       " 'Some fire several ti\\x85 https://t.co/kY8H0oyZYX @NASAPersevere @ulalaunch @NASA_LSP Congrats on a great launch!',\n",
       " 'But sometimes when we touch \\x85\\nhttps://t.co/KMassjCtIx @jelle56367384 @Anvithvittal @DNPthree @tiesto Adagio for Strings is great\\nhttps://t.co/RgY1P1VGoU Losing It\\nhttps://t.co/9HOY0ldzg4 @EuroSandor @RSprachrohr <U+0001F923><U+0001F923> @RenataKonkoly @Sneakyness Mein Herz Brennt.',\n",
       " 'Best boss battle song ever.',\n",
       " 'https://t.co/JIl6vzhQAx @flcnhvy Robot Heart is <U+0001F525><U+0001F525> @Sneakyness One of the all time best @tobyliiiiiiiiii Sure Sure could use a good rave\\nWhat\\x92s your favorite techno I \\x85 I just died in your arms tonight The rumor that Bill Gates &amp; I are lovers is completely untrue @WholeMarsBlog @PPathole Yeah.',\n",
       " 'Display will also soon render Teslas specifically as their model &amp; color instead of\\x85 https://t.co/5lpnPLTP24 @keith31345919 @PPathole https://t.co/S8mdWgCdFg @keith31345919 @PPathole We\\x92ve been working on this for about 4 years.',\n",
       " 'Originally meant for rabies vaccine, but it\\x85 https://t.co/FSf77XHiII @keith31345919 @PPathole https://t.co/0kAAv0DtNn @PPathole <U+0001F3B6> Billy G is not my lover <U+0001F3B6> @PPathole Sounds like he doesn\\x92t realize Tesla makes the vaccine machine for CureVac @mkarolian @Tesla Thanks for letting me know.',\n",
       " 'Will dig into it.',\n",
       " '@GreenDragonBot <U+0001F609> @thesheetztweetz Sum &gt; parts @Teslarati Should add a few miles of range, more in slow traffic @Kristennetten @xiang_aw @OwenSparks_ @BernieSanders The government has the most money by far.',\n",
       " 'They talk in trillions.',\n",
       " '@jgrano305 @TeslaOwnersNBay Haha no one can ever have our top secret fart technology!!',\n",
       " '@TeslaOwnersNBay <U+0001F495> <U+0001F495> @sam_lopezXx @Teslarati Sure @Teslarati Tesla is open to licensing software and supplying powertrains &amp; batteries.',\n",
       " 'We\\x92re just trying to accelera\\x85 https://t.co/5t9vGkLWda @xiang_aw @OwenSparks_ @BernieSanders What he doesn\\x92t appear to appreciate is that government is just a monopolist corporation in the limit @slashdot !',\n",
       " '@Techgnostik @schristakos @BernieSanders Agreed @EvaFoxU @schristakos @BernieSanders Haha @DMC_Ryan @rodamn It\\x92s a prototype of the color @schristakos @BernieSanders And to think I used to like Bernie!',\n",
       " '<U+0001F622> https://t.co/adojS2UCe3 @vistacruiser7 @schristakos @BernieSanders @BernieSanders <U+0001F54A><U+0001F54A> @schristakos @BernieSanders Maybe he\\x92s feeling the bern haha @NASASpaceflight Fuel spin valve didn\\x92t open.',\n",
       " 'Will fix &amp; try again tomorrow.',\n",
       " 'Also, some odd TVC hydraulic pump behavior.',\n",
       " '@NASASpaceflight I was just out at the launch pad.',\n",
       " 'Connector damaged in the storm, but fixed now.',\n",
       " 'Might be able to\\x85 https://t.co/FB7e5nOq2E @PrisonPlanet Whether commercial or government, monopolies are bad for the people @Teslarati Sounds great @enn_nafnlaus @TheOnion Haha Das Kapital in a nutshell https://t.co/mG44mMkitx @anthm17 What I like most is their great sense of humor The left is losing the middle @RationalEtienne @TheOnion Exactly @RationalEtienne @atNickVega @TheOnion <U+0001F923><U+0001F923> Hold my beer https://t.co/IK3tT1x4wP @TheOnion Once an Onion, now a Rose @atNickVega @TheOnion Wow, you think about me a lot!',\n",
       " '@YourAnonNews You dropped this @YourAnonNews <U+0001F339> @EvaFoxU Haha RT @teslacn: Pick up the energetic wallpapers, and charge your everyday adventure!',\n",
       " 'https://t.co/HOTDtLpdpw @cleantechnica Giga Berlin will come together at an impossible-seeming speed.',\n",
       " 'The prefabricated construction method\\x85 https://t.co/x2DRFewiAL Almost a decade ago.',\n",
       " 'Original Dragon in background.',\n",
       " '@PPathole @RhiddhiD Ya just can\\x92t beat BR https://t.co/Ufay65lZJj @AVRWC Planet Claire is <U+0001F525><U+0001F525> @cybrtrck Fair point!',\n",
       " 'Will discuss with team.',\n",
       " '@RhiddhiD He was amazing Great song\\nhttps://t.co/wj4YdJglSH @spotted_model @cleantechnica Nickel is the biggest challenge for high-volume, long-range batteries!',\n",
       " 'Australia &amp; Ca\\x85 https://t.co/kq81CQoGFL @PicklePunchD @cleantechnica <U+0001F923><U+0001F923> @SamTalksTesla That\\x92s me!',\n",
       " 'Haha @cleantechnica This has a lot of potential.',\n",
       " 'Lithium is pretty much everywhere.',\n",
       " '@Teslarati Whoa cool @TheOnion <U+0001F923><U+0001F923> @Kristennetten @yourfavgas @ajtourville Has to be blue steel :) @Mattiecola @ajtourville We need high Brinell hardness &amp; high corrosion resistance.',\n",
       " 'Because of Cybertruck\\x92s faceted\\x85 https://t.co/dNkkGaDjq4 @flcnhvy @yourfavgas @ajtourville I really want to do this!',\n",
       " 'Will be great fun.',\n",
       " 'Could be both LA and Austin.',\n",
       " '@yourfavgas @ajtourville Turning them into shade for an outdoor restaurant here in Boca @ajtourville Cool @flcnhvy @Ghost_TeslaPhx @28delayslater @CrewTesla @jrosinski97 @marc_benton @ray4tesla Yes @Ghost_TeslaPhx @28delayslater @CrewTesla @jrosinski97 @marc_benton @ray4tesla Not impossible @WholeMarsBlog Those were the days!',\n",
       " '<U+0001F923><U+0001F923> RT @ccsakuras: https://t.co/emkzCfGarZ RT @MKBHD: NEW VIDEO - Why Tesla Model Y is Their Most Important Car!',\n",
       " '[Auto Focus Ep 5]\\n\\nhttps://t.co/3lC3l2Rgcj https://t.co/L65zAxYcTr @teslaownersSV @PPathole @maureendowd Ring of Fire https://t.co/gSJ3Np4CAP @iliketeslas @PJHORNAK @RandyVegetables I know!',\n",
       " 'Congratulations to the people of Bolivia <U+0001F1E7><U+0001F1F4>!!',\n",
       " '@PPathole @maureendowd The song I whistle most is Strangers in the Night @RandyVegetables Some of whom seriously think Tesla toppled the Bolivian govt (sigh) https://t.co/yC5gaa12DW @maureendowd Great song @karaswisher @maureendowd @elon Haha thanks Kara :) @erikmaza @maureendowd For sure @TheFavoritist @NASASpaceflight @BocaChicaGal Yeah, we\\x92re hunkering down here until the hurricane passes @Adolfo_MorenoS @historyofarmani Exactly!',\n",
       " 'Cool Model 3 review by @iamjamiefoxx https://t.co/hJDD7BjkE3 @teslacn Tesla will add a power lift gate at no cost @HansNoordsij Agreed, hydrogen fool sells make no sense Pronouns suck @historyofarmani Also, we get our lithium from Australia @nichegamer <U+0001F923><U+0001F923> @akinfermo Yeah, would have been way better just to send everyone $6k I bet no one on <U+0001F339> Twitter even *has* a guillotine!',\n",
       " 'Poseurs @engineers_feed [slow drag on cigarette) Facebook?',\n",
       " 'Haven\\x92t heard that name in years <U+0001F339> Twitter sucks @stevenbonchev @APompliano Something like that.',\n",
       " 'If politicians could legislate wealth, everyone would be a trillionaire.',\n",
       " 'These are jammed to gills with special interests earmarks.',\n",
       " 'If we do a stimulus at all, it should just be direct payments to consumers.',\n",
       " '@PPathole Pretty much Goal of government should be to maximize the happiness of the people.',\n",
       " 'Giving each person money allows them to decid\\x85 https://t.co/lwfXHVKSJF As a reminder, I\\x92m in *favor* of universal basic income Another government stimulus package is not in the best interests of the people imo Tesla solar panels are $1.49/Watt \\nhttps://t.co/5LpLhqgAzw @realDonaldTrump @Tesla Thank you on behalf of the Tesla team.',\n",
       " 'We look forward to building Giga Texas!',\n",
       " '@SciGuySpace Competition ensures companies work hard to serve the needs of their customers @schristakos @PUBG Something fun is coming @vincent13031925 @UniversalPics @TomCruise @SpaceX Could be great!',\n",
       " '@teslaownersSV @cleantechnica That\\x92s a great idea!',\n",
       " '@Tesla We are actually looking for revolutionary actuaries for Tesla Insurance!',\n",
       " 'Please inquire, if interested.',\n",
       " '@cleantechnica Tbh, we are just a bit less foolish than before RT @Commercial_Crew: While in orbit, astronauts @AstroBehnken and @Astro_Doug performed a habitability assessment of the @SpaceX Crew Drago @Teslarati Retail investors like @hyperchangetv are remarkably insightful.',\n",
       " 'Also, @ARKInvest.',\n",
       " '@SciGuySpace Especially for boost stage, which is volumetrically constrained, CH4 is way better than H2.',\n",
       " 'Soviet CH4\\x85 https://t.co/aLeWbZ8Nfl @waitbutwhy Basically, our pixel size @LudaLisl @Tesla Can\\x92t emphasize this enough @tomosman @Tesla Absolutely @ajtourville Haha @cleantechnica Agreed @internetofshit My oven keeps asking for my wifi password.',\n",
       " 'It\\x92s not gonna get it.',\n",
       " 'Impressive Tianwen-1 Mars rover mission launched by China today https://t.co/FsyA3I0HrU RT @Tesla: https://t.co/jmkacbRb5D @BBC_Future Good article @BBCScienceNews Similar problem with US data @OMGROFLOLJK Good point You don\\x92t have a soul, you are a soul @cleantechnica Adding people in next version 2 minutes later \\x85 https://t.co/o5fbBTan1S @nytimes Just another day in 2020 @Erdayastronaut @flcnhvy Individualized mass transit is the future @flcnhvy No, best to have people seated for safety &amp; speed of travel Coming soon https://t.co/6nOgLix6b5 @WholeMarsBlog Human overseen at first, then fully self-driving @JaneidyEve Can\\x92t say, but it involves a <U+0001F43B> @Kable_10 <U+0001F525><U+0001F525> @PPathole <U+0001F923> @BucketHat1 This one stings Where are the memes?',\n",
       " 'Send in \\x85 the memes @teslatrey We need to finish upgrading Autopilot to 4D vs ~2.5D, then it will go up very steep slopes Nothing has gaslit more people than the movie Gaslight @LoomisP_ @MSNBC @11thHour Well said, Brian Williams!',\n",
       " '@FutureJurvetson Great shot!',\n",
       " 'RT @SpaceX: Videos of yesterday\\x92s catch of both fairing halves https://t.co/yzTDFzlulL @FaZeBlaze <U+0001F44D> @SamTalksTesla Sometimes, that\\x92s how I feel too!',\n",
       " '@PPathole @Teslarati @BocaChicaGal Will attempt to fly later this week @sri_myneni @Erdayastronaut @considercosmos @SpaceX Sound &amp; flame color will be quite different @glenn22x @Teslarati @BocaChicaGal Yes @Teslarati @BocaChicaGal We\\x92re rapidly changing alloy constituents &amp; forming methods, so traditional names like 304\\x85 https://t.co/FYUuio5Dtz @flcnhvy <U+0001F923><U+0001F923> @cleantechnica At some point, we should probably do advertising as art/communication/entertainment &amp; to support high quality media RT @SpaceX: Watch Falcon 9 launch ANASIS-II <U+2192> https://t.co/bJFjLCzWdK  https://t.co/iYHJZnZobv Das baby kann noch keinen löffel benutzen https://t.co/UETqVIA4BP @JohnnaCrider0 @YStijd @ID_AA_Carmack It\\x92s almost right @YStijd @ID_AA_Carmack We talked about an hour ago.',\n",
       " 'He seems fine.',\n",
       " '@ID_AA_Carmack VR Twitter with avatars saying the mentions <U+0001F608> @cleantechnica Better to put the money into the product than sales &amp; marketing!',\n",
       " '@PPathole We should bring Life to Mars Both fairing halves caught from space by @SpaceX ships!',\n",
       " 'RT @SpaceX: Falcon 9\\x92s first stage has landed on the Just Read the Instructions droneship https://t.co/fPbckYFySh @SpaceX Nice work, SpaceX team!',\n",
       " '@flcnhvy @AstroBehnken @Astro_Doug @SpaceX Still long way to go.',\n",
       " 'Reuse only matters to degree that it\\x92s rapid &amp; complete.',\n",
       " '@nasahqphoto Too long since we were last there Launch in 20 mins https://t.co/1oLtPnW929 @WholeMarsBlog @cleantechnica In a few months in production release.',\n",
       " 'Already does that in alpha build.',\n",
       " '@cleantechnica Lithium is extremely common on Earth.',\n",
       " 'Found almost everywhere.',\n",
       " '@nishy03 @hiromichimizuno Congratulations MHI &amp; UAE!',\n",
       " '@bar2_t @JoeBangles11 @Teslarati Stilton @Kristennetten @businessinsider New deep crimson from Giga Berlin is my favorite @Teslarati Important to service very high latitudes @Confiant_man American, but born in South Africa.',\n",
       " 'Left by myself when I was 17.',\n",
       " '@businessinsider True, the 2012 Model S is still a great car.',\n",
       " \"Was driving SN28 a few months ago and driving feel wa\\x85 https://t.co/mrUtLE8Y2V RT @businessinsider: Tesla's Model 3 received top marks from safety organizations in North America, Europe, and Australia https://t.co/NB92 @teslaownersSV @stephenpallotta Will discuss on Wed earnings call.\",\n",
       " 'Lots to talk about!',\n",
       " '@stephenpallotta <U+0001F923><U+0001F923> @a_howard8 Yes @hiromichimizuno This looks cool @PPathole It has that potential @maxxrpbtc @TheCryptoLark @Manny6Manny @jungleincxrp @digitalassetbuy @MoonLamboio @JWilliamsFstmed Good article.',\n",
       " 'I\\x85 https://t.co/AnIte06dlj @teslaownersSV @waitbutwhy It\\x92s not really set up for tours, but maybe it should @AstroBehnken @SpaceX @NASA @Space_Station Manufactured only 5 mins from LAX!',\n",
       " '@waitbutwhy Some contribute more.',\n",
       " 'Y chromosome &amp; mitochondria are constant, except for mutations.',\n",
       " '@BWillOfficial @WholeMarsBlog @neuralink Yes @Kristennetten That is just one part of the surgery.',\n",
       " 'For this to scale, it must be fully automated, like LASIK.',\n",
       " 'This would solve a lot of brain/spine injuries &amp; is ultimately essential for AI symbiosis @fermatslibrary Fermi was awesome.',\n",
       " 'He understood the right questions to ask.',\n",
       " 'RT @archillect: https://t.co/vR7ThoKnCp @m4ttwegner @flcnhvy <U+0001F923><U+0001F923> @m4ttwegner @flcnhvy BDE @m4ttwegner @flcnhvy How come Hulk never loses pants!?',\n",
       " '@flcnhvy Yes @PPathole No prior neuroscience background is required.',\n",
       " 'This is primarily an electrical/electronic (chip design)/me\\x85 https://t.co/VMq2atdV5d RT @SpaceX: Targeting Monday, July 20 for Falcon 9 launch of ANASIS-II from SLC-40 Solving high-volume, high-reliability, low-cost production problems is especially valued If you\\x92ve solved hard problems with phones / wearables (sealing, signal processing, inductive charging, power mgmt,\\x85 https://t.co/rq3AWMZxvo @serhatserhatst Many @PPathole Summarizes pretty much every biz school case study It\\x92s inevitable https://t.co/eBKnQm6QyF @izzynobre Excuse me, I only sell Doge!',\n",
       " 'Will those who write the algorithms ever realize their negativity bias?',\n",
       " '@ModelYendofICE @wintonARK Pretty much @wintonARK We better hustle with Neuralink.',\n",
       " 'Not moving fast enough.',\n",
       " 'Thanks Just stop @EvaFoxU <U+0001F495><U+0001F495> @PPathole @Kristennetten <U+0001F923><U+0001F923> @LewisMartin_ @engineers_feed Gigafactory is the product even more than the car @ZikryZamir Yes @engineers_feed Carefully hidden @teslaownersSV @Kristennetten Sure @Kristennetten Might be an indoor/outdoor rave space on the roof Giga Berlin https://t.co/UXQMUVTWXf @Pontolemaeus @SilverDeGeneral @BBCScienceNews Exactly, this is a serious problem.',\n",
       " 'Ratio of retirees to workers is\\x85 https://t.co/qiVas5gtpC @vincentdiong @GerberKawasaki Considering @flcnhvy @SpaceX Small note: latch on post near base is gone &amp; powered Ethernet wire is less obtrusive in production version @BBCScienceNews https://t.co/xxRXfrQhBs @PPathole @BBCScienceNews This thing we call \\x93money\\x94 is just a (slow, lossy &amp; unsecure) database for labor allocati\\x85 https://t.co/5vCGJ8o31r @nnalinas @BBCScienceNews Trying to set a good example haha.',\n",
       " 'Mars needs people!',\n",
       " '@GerberKawasaki Great work by Tesla software engineering @BBCScienceNews Population collapse is 2nd biggest danger to civilization after AI imo @Erdayastronaut @flcnhvy @SpaceX Yeah, will take less than a minute to order on https://t.co/Q1VvqVmJ2i when it goes live @flcnhvy @SpaceX Starlink terminal has motors to self-orient for optimal view angle.',\n",
       " 'No expert installer required.',\n",
       " 'https://t.co/xndTXRDnl2 @niksanae Ok @alex_avoigt @WholeMarsBlog <U+0001F914> @Erdayastronaut @thesheetztweetz @BryceSpaceTech @SpaceX @ulalaunch @torybruno @MHI_Group @roscosmos @Peter_J_Beck\\x85 https://t.co/irMxFy991y @TeslaAircraft @flcnhvy @Tesla Exactly @WholeMarsBlog Tesla Autopilot was literally named after the term used in aviation.',\n",
       " 'Also, what about Autobahn!?',\n",
       " '@teslaownersSV @engineers_feed The strength &amp; perseverance of the people of Tesla, despite facing extreme difficulties @engineers_feed Playable on any Tesla!',\n",
       " '@EfficiencyLast @jaminwestby @teslaownersSV @jgrano305 @TeslaratiTeam @Teslarati Should do this automatically @thesheetztweetz @BryceSpaceTech @SpaceX @ulalaunch @torybruno @MHI_Group @roscosmos Mass to orbit is a more accura\\x85 https://t.co/ltqH2VuLgc @Teslarati Cute @davidtayar5 @TeslaLisa @SteveHamel16 @vincent13031925 @S_Padival @BarkMSmeagol @annerajb @PJHORNAK @WPipperger @EcoHeliGuy Wow @katlinegrey Reusability is essential.',\n",
       " 'A rocket that is single use is just as absurd as a single use airplane.',\n",
       " 'F9 e\\x85 https://t.co/WfnFSt3C5Y @vincent13031925 Wild times!',\n",
       " '@SpaceflightNow We\\x92re being extra paranoid.',\n",
       " 'Maximizing probability of successful launch is paramount.',\n",
       " '@summergamefest Welcome anytime @bradyleonard Well, I do care very much about sustainability of civilization, but there is some truth to the irony part haha @TeslaTn @jgrano305 @TeslaratiTeam @Teslarati @DollyParton Yes, in plan.',\n",
       " 'Superchargers and public high power wall c\\x85 https://t.co/jZxsR4h8VS @ChrisJCav @jgrano305 @TeslaratiTeam @Teslarati <U+0001F440> @jaminwestby @teslaownersSV @jgrano305 @TeslaratiTeam @Teslarati I think so @jgrano305 @TeslaratiTeam @Teslarati Doing range testing now.',\n",
       " 'Number will be significantly higher than 300.',\n",
       " 'Extreme\\x85 https://t.co/fs0PmcIoic @jgrano305 @TeslaratiTeam @Teslarati We have reduced pricing on Model Y LR dual motor &amp; will offer a LR single moto\\x85 https://t.co/FBhkiIhsc3 @teslaownersSV @jgrano305 @TeslaratiTeam @Teslarati Yes @vicentes @TeslaratiTeam @Teslarati It may be able to reach 250kW at low states of charge @jgrano305 @TeslaratiTeam @Teslarati No, as range would be unacceptably low (&lt; 250 mile EPA) @TeslaratiTeam @Teslarati We had to increase some wire thicknesses in S/X to reduce resistive heating.',\n",
       " 'Technically,\\x85 https://t.co/TcIVzvc5RA @MightyTesla @SamTalksTesla @ElonsWorld @Nikola_Truth @WholeMarsBlog @RenataKonkoly @stevenmarkryan\\x85 https://t.co/iU3lMUqeS5 @WholeMarsBlog Thanks :) @PPathole That is the near-term danger of AI @nichegamer I didn\\x92t mind DA2.',\n",
       " 'DA1 was awesome.',\n",
       " 'Mass Effect 2 (talking about sequels) is amazing.',\n",
       " '@MKBHD Haha @OprahSide Maybe he should design flag of Mars @engineers_feed 48 65 78 20 74 6f 20 74 65 78 74 https://t.co/1MQXFAKPzf I spoke with Korolev\\x92s family today.',\n",
       " 'He was one of the very best.',\n",
       " '<U+041A><U+043E><U+0440><U+043E><U+043B><U+044C><U+043E><U+0432> / <U+041A><U+043E><U+0440><U+043E><U+043B><U+0451><U+0432>.',\n",
       " '@Ali_Afshari In general, we need to improve how podcasts play @OptimoPrincipi SPQR https://t.co/gVfc9M3BHz @djzinc @kenyanwalstreet True haha @RationalEtienne @flcnhvy @PPathole @IheartTesla Death is the loss of information @thatt3slaguy @flcnhvy @PPathole @IheartTesla Earning power post augmentation would easily pay for itself (if that\\x92\\x85 https://t.co/BpzWErSOyS @flcnhvy @PPathole @IheartTesla Absolutely @TeslaParaTodos @EvaFoxU @Tesla <U+0001F440> @mjkapkan @EvaFoxU @Tesla Probably a good one to design &amp; engineer in Germany @blue_bnd @EvaFoxU @Tesla Even more @Techgnostik @EvaFoxU @Tesla Ok @scr00chy @EvaFoxU @Tesla <U+0001F440> @EvaFoxU @Tesla Berlin Model Y is the one to watch.',\n",
       " 'That is a revolution in automotive body engineering (finally).',\n",
       " '@burakaydik True Wow, IHOP &amp; GitHub are close Best use of the term \\x93Full Stack\\x94?',\n",
       " '@PPathole @IheartTesla For sure.',\n",
       " 'This is both great &amp; terrifying.',\n",
       " 'Everything we\\x92ve ever sensed or thought has been\\x85 https://t.co/B3ZXD384qD @redmercy Yes @buzzindelhi Sorry, should hopefully be soon!',\n",
       " '@kenyanwalstreet Not actually a payout, just a vesting of stock options.',\n",
       " 'It may never pay out, as the stock can\\x92t b\\x85 https://t.co/8Zg37STXT9 @IheartTesla No easy way to answer this in a tweet, but helping with dire brain injuries is our first priority.',\n",
       " 'Details Aug 28.',\n",
       " 'AI symbiosis while u wait @vistacruiser7 @flcnhvy There\\x92s some of that too @flcnhvy True, it sounds so surreal, but the negative propaganda is still all out there &amp; easy to find in social me\\x85 https://t.co/WJRzIbKh1H @PPathole Make sure to read ur terms &amp; conditions before clicking accept!',\n",
       " '@TeslaGong @PPathole Samwise Gamgee @PPathole Altho Dumb and Dumber is <U+0001F525><U+0001F525> Progress update August 28']"
      ]
     },
     "execution_count": 48,
     "metadata": {},
     "output_type": "execute_result"
    }
   ],
   "source": [
    "from nltk import tokenize\n",
    "sentences = tokenize.sent_tokenize(\" \".join(data))\n",
    "sentences"
   ]
  },
  {
   "cell_type": "code",
   "execution_count": 49,
   "id": "b7ca26fe",
   "metadata": {
    "ExecuteTime": {
     "end_time": "2021-10-21T11:24:59.298336Z",
     "start_time": "2021-10-21T11:24:59.175662Z"
    }
   },
   "outputs": [
    {
     "data": {
      "text/html": [
       "<div>\n",
       "<style scoped>\n",
       "    .dataframe tbody tr th:only-of-type {\n",
       "        vertical-align: middle;\n",
       "    }\n",
       "\n",
       "    .dataframe tbody tr th {\n",
       "        vertical-align: top;\n",
       "    }\n",
       "\n",
       "    .dataframe thead th {\n",
       "        text-align: right;\n",
       "    }\n",
       "</style>\n",
       "<table border=\"1\" class=\"dataframe\">\n",
       "  <thead>\n",
       "    <tr style=\"text-align: right;\">\n",
       "      <th></th>\n",
       "      <th>sentence</th>\n",
       "    </tr>\n",
       "  </thead>\n",
       "  <tbody>\n",
       "    <tr>\n",
       "      <th>0</th>\n",
       "      <td>@kunalb11 Im an alien @ID_AA_Carmack Ray trac...</td>\n",
       "    </tr>\n",
       "    <tr>\n",
       "      <th>1</th>\n",
       "      <td>Have you tried it?</td>\n",
       "    </tr>\n",
       "    <tr>\n",
       "      <th>2</th>\n",
       "      <td>@joerogan @Spotify Great interview!</td>\n",
       "    </tr>\n",
       "    <tr>\n",
       "      <th>3</th>\n",
       "      <td>@gtera27 Doge is underestimated @teslacn Congr...</td>\n",
       "    </tr>\n",
       "    <tr>\n",
       "      <th>4</th>\n",
       "      <td>Now on to the next for even more!!</td>\n",
       "    </tr>\n",
       "    <tr>\n",
       "      <th>...</th>\n",
       "      <td>...</td>\n",
       "    </tr>\n",
       "    <tr>\n",
       "      <th>919</th>\n",
       "      <td>@kenyanwalstreet Not actually a payout, just a...</td>\n",
       "    </tr>\n",
       "    <tr>\n",
       "      <th>920</th>\n",
       "      <td>It may never pay out, as the stock cant b",
       " ht...</td>\n",
       "    </tr>\n",
       "    <tr>\n",
       "      <th>921</th>\n",
       "      <td>Details Aug 28.</td>\n",
       "    </tr>\n",
       "    <tr>\n",
       "      <th>922</th>\n",
       "      <td>AI symbiosis while u wait @vistacruiser7 @flcn...</td>\n",
       "    </tr>\n",
       "    <tr>\n",
       "      <th>923</th>\n",
       "      <td>@TeslaGong @PPathole Samwise Gamgee @PPathole ...</td>\n",
       "    </tr>\n",
       "  </tbody>\n",
       "</table>\n",
       "<p>924 rows × 1 columns</p>\n",
       "</div>"
      ],
      "text/plain": [
       "                                              sentence\n",
       "0    @kunalb11 Im an alien @ID_AA_Carmack Ray trac...\n",
       "1                                   Have you tried it?\n",
       "2                  @joerogan @Spotify Great interview!\n",
       "3    @gtera27 Doge is underestimated @teslacn Congr...\n",
       "4                   Now on to the next for even more!!\n",
       "..                                                 ...\n",
       "919  @kenyanwalstreet Not actually a payout, just a...\n",
       "920  It may never pay out, as the stock cant b\n",
       " ht...\n",
       "921                                    Details Aug 28.\n",
       "922  AI symbiosis while u wait @vistacruiser7 @flcn...\n",
       "923  @TeslaGong @PPathole Samwise Gamgee @PPathole ...\n",
       "\n",
       "[924 rows x 1 columns]"
      ]
     },
     "execution_count": 49,
     "metadata": {},
     "output_type": "execute_result"
    }
   ],
   "source": [
    "sent_df = pd.DataFrame(sentences, columns=['sentence'])\n",
    "sent_df"
   ]
  },
  {
   "cell_type": "code",
   "execution_count": 50,
   "id": "bb1e45ad",
   "metadata": {
    "ExecuteTime": {
     "end_time": "2021-10-21T11:24:59.360169Z",
     "start_time": "2021-10-21T11:24:59.300329Z"
    }
   },
   "outputs": [
    {
     "data": {
      "text/plain": [
       "(2477, 2)"
      ]
     },
     "execution_count": 50,
     "metadata": {},
     "output_type": "execute_result"
    }
   ],
   "source": [
    "afinn = pd.read_csv('Afinn.csv', sep=',', encoding='latin-1')\n",
    "afinn.shape"
   ]
  },
  {
   "cell_type": "code",
   "execution_count": 51,
   "id": "bbc84c89",
   "metadata": {
    "ExecuteTime": {
     "end_time": "2021-10-21T11:24:59.422003Z",
     "start_time": "2021-10-21T11:24:59.362163Z"
    }
   },
   "outputs": [
    {
     "data": {
      "text/html": [
       "<div>\n",
       "<style scoped>\n",
       "    .dataframe tbody tr th:only-of-type {\n",
       "        vertical-align: middle;\n",
       "    }\n",
       "\n",
       "    .dataframe tbody tr th {\n",
       "        vertical-align: top;\n",
       "    }\n",
       "\n",
       "    .dataframe thead th {\n",
       "        text-align: right;\n",
       "    }\n",
       "</style>\n",
       "<table border=\"1\" class=\"dataframe\">\n",
       "  <thead>\n",
       "    <tr style=\"text-align: right;\">\n",
       "      <th></th>\n",
       "      <th>word</th>\n",
       "      <th>value</th>\n",
       "    </tr>\n",
       "  </thead>\n",
       "  <tbody>\n",
       "    <tr>\n",
       "      <th>0</th>\n",
       "      <td>abandon</td>\n",
       "      <td>-2</td>\n",
       "    </tr>\n",
       "    <tr>\n",
       "      <th>1</th>\n",
       "      <td>abandoned</td>\n",
       "      <td>-2</td>\n",
       "    </tr>\n",
       "    <tr>\n",
       "      <th>2</th>\n",
       "      <td>abandons</td>\n",
       "      <td>-2</td>\n",
       "    </tr>\n",
       "    <tr>\n",
       "      <th>3</th>\n",
       "      <td>abducted</td>\n",
       "      <td>-2</td>\n",
       "    </tr>\n",
       "    <tr>\n",
       "      <th>4</th>\n",
       "      <td>abduction</td>\n",
       "      <td>-2</td>\n",
       "    </tr>\n",
       "  </tbody>\n",
       "</table>\n",
       "</div>"
      ],
      "text/plain": [
       "        word  value\n",
       "0    abandon     -2\n",
       "1  abandoned     -2\n",
       "2   abandons     -2\n",
       "3   abducted     -2\n",
       "4  abduction     -2"
      ]
     },
     "execution_count": 51,
     "metadata": {},
     "output_type": "execute_result"
    }
   ],
   "source": [
    "afinn.head()"
   ]
  },
  {
   "cell_type": "code",
   "execution_count": 52,
   "id": "9f32a06a",
   "metadata": {
    "ExecuteTime": {
     "end_time": "2021-10-21T11:24:59.483871Z",
     "start_time": "2021-10-21T11:24:59.423002Z"
    }
   },
   "outputs": [],
   "source": [
    "affinity_scores = afinn.set_index('word')['value'].to_dict()"
   ]
  },
  {
   "cell_type": "code",
   "execution_count": 53,
   "id": "a710ff8a",
   "metadata": {
    "ExecuteTime": {
     "end_time": "2021-10-21T11:25:04.716218Z",
     "start_time": "2021-10-21T11:24:59.484860Z"
    }
   },
   "outputs": [
    {
     "name": "stdout",
     "output_type": "stream",
     "text": [
      "Collecting en-core-web-sm==3.1.0\n",
      "  Using cached https://github.com/explosion/spacy-models/releases/download/en_core_web_sm-3.1.0/en_core_web_sm-3.1.0-py3-none-any.whl (13.6 MB)\n",
      "Requirement already satisfied: spacy<3.2.0,>=3.1.0 in c:\\users\\bhc228\\anaconda3\\lib\\site-packages (from en-core-web-sm==3.1.0) (3.1.3)\n",
      "Requirement already satisfied: typer<0.5.0,>=0.3.0 in c:\\users\\bhc228\\anaconda3\\lib\\site-packages (from spacy<3.2.0,>=3.1.0->en-core-web-sm==3.1.0) (0.4.0)\n",
      "Requirement already satisfied: pydantic!=1.8,!=1.8.1,<1.9.0,>=1.7.4 in c:\\users\\bhc228\\anaconda3\\lib\\site-packages (from spacy<3.2.0,>=3.1.0->en-core-web-sm==3.1.0) (1.8.2)\n",
      "Requirement already satisfied: blis<0.8.0,>=0.4.0 in c:\\users\\bhc228\\anaconda3\\lib\\site-packages (from spacy<3.2.0,>=3.1.0->en-core-web-sm==3.1.0) (0.7.4)\n",
      "Requirement already satisfied: numpy>=1.15.0 in c:\\users\\bhc228\\anaconda3\\lib\\site-packages (from spacy<3.2.0,>=3.1.0->en-core-web-sm==3.1.0) (1.19.5)\n",
      "Requirement already satisfied: cymem<2.1.0,>=2.0.2 in c:\\users\\bhc228\\anaconda3\\lib\\site-packages (from spacy<3.2.0,>=3.1.0->en-core-web-sm==3.1.0) (2.0.5)\n",
      "Requirement already satisfied: pathy>=0.3.5 in c:\\users\\bhc228\\anaconda3\\lib\\site-packages (from spacy<3.2.0,>=3.1.0->en-core-web-sm==3.1.0) (0.6.0)\n",
      "Requirement already satisfied: catalogue<2.1.0,>=2.0.6 in c:\\users\\bhc228\\anaconda3\\lib\\site-packages (from spacy<3.2.0,>=3.1.0->en-core-web-sm==3.1.0) (2.0.6)\n",
      "Requirement already satisfied: requests<3.0.0,>=2.13.0 in c:\\users\\bhc228\\anaconda3\\lib\\site-packages (from spacy<3.2.0,>=3.1.0->en-core-web-sm==3.1.0) (2.25.1)\n",
      "Requirement already satisfied: packaging>=20.0 in c:\\users\\bhc228\\anaconda3\\lib\\site-packages (from spacy<3.2.0,>=3.1.0->en-core-web-sm==3.1.0) (20.9)\n",
      "Requirement already satisfied: spacy-legacy<3.1.0,>=3.0.8 in c:\\users\\bhc228\\anaconda3\\lib\\site-packages (from spacy<3.2.0,>=3.1.0->en-core-web-sm==3.1.0) (3.0.8)\n",
      "Requirement already satisfied: wasabi<1.1.0,>=0.8.1 in c:\\users\\bhc228\\anaconda3\\lib\\site-packages (from spacy<3.2.0,>=3.1.0->en-core-web-sm==3.1.0) (0.8.2)\n",
      "Requirement already satisfied: setuptools in c:\\users\\bhc228\\anaconda3\\lib\\site-packages (from spacy<3.2.0,>=3.1.0->en-core-web-sm==3.1.0) (52.0.0.post20210125)\n",
      "Requirement already satisfied: jinja2 in c:\\users\\bhc228\\anaconda3\\lib\\site-packages (from spacy<3.2.0,>=3.1.0->en-core-web-sm==3.1.0) (2.11.3)\n",
      "Requirement already satisfied: murmurhash<1.1.0,>=0.28.0 in c:\\users\\bhc228\\anaconda3\\lib\\site-packages (from spacy<3.2.0,>=3.1.0->en-core-web-sm==3.1.0) (1.0.5)\n",
      "Requirement already satisfied: preshed<3.1.0,>=3.0.2 in c:\\users\\bhc228\\anaconda3\\lib\\site-packages (from spacy<3.2.0,>=3.1.0->en-core-web-sm==3.1.0) (3.0.5)\n",
      "Requirement already satisfied: tqdm<5.0.0,>=4.38.0 in c:\\users\\bhc228\\anaconda3\\lib\\site-packages (from spacy<3.2.0,>=3.1.0->en-core-web-sm==3.1.0) (4.59.0)\n",
      "Requirement already satisfied: srsly<3.0.0,>=2.4.1 in c:\\users\\bhc228\\anaconda3\\lib\\site-packages (from spacy<3.2.0,>=3.1.0->en-core-web-sm==3.1.0) (2.4.1)\n",
      "Requirement already satisfied: thinc<8.1.0,>=8.0.9 in c:\\users\\bhc228\\anaconda3\\lib\\site-packages (from spacy<3.2.0,>=3.1.0->en-core-web-sm==3.1.0) (8.0.10)\n",
      "Requirement already satisfied: pyparsing>=2.0.2 in c:\\users\\bhc228\\anaconda3\\lib\\site-packages (from packaging>=20.0->spacy<3.2.0,>=3.1.0->en-core-web-sm==3.1.0) (2.4.7)\n",
      "Requirement already satisfied: smart-open<6.0.0,>=5.0.0 in c:\\users\\bhc228\\anaconda3\\lib\\site-packages (from pathy>=0.3.5->spacy<3.2.0,>=3.1.0->en-core-web-sm==3.1.0) (5.2.1)\n",
      "Requirement already satisfied: typing-extensions>=3.7.4.3 in c:\\users\\bhc228\\anaconda3\\lib\\site-packages (from pydantic!=1.8,!=1.8.1,<1.9.0,>=1.7.4->spacy<3.2.0,>=3.1.0->en-core-web-sm==3.1.0) (3.7.4.3)\n",
      "Requirement already satisfied: urllib3<1.27,>=1.21.1 in c:\\users\\bhc228\\anaconda3\\lib\\site-packages (from requests<3.0.0,>=2.13.0->spacy<3.2.0,>=3.1.0->en-core-web-sm==3.1.0) (1.26.4)\n",
      "Requirement already satisfied: chardet<5,>=3.0.2 in c:\\users\\bhc228\\anaconda3\\lib\\site-packages (from requests<3.0.0,>=2.13.0->spacy<3.2.0,>=3.1.0->en-core-web-sm==3.1.0) (4.0.0)\n",
      "Requirement already satisfied: idna<3,>=2.5 in c:\\users\\bhc228\\anaconda3\\lib\\site-packages (from requests<3.0.0,>=2.13.0->spacy<3.2.0,>=3.1.0->en-core-web-sm==3.1.0) (2.10)\n",
      "Requirement already satisfied: certifi>=2017.4.17 in c:\\users\\bhc228\\anaconda3\\lib\\site-packages (from requests<3.0.0,>=2.13.0->spacy<3.2.0,>=3.1.0->en-core-web-sm==3.1.0) (2020.12.5)\n",
      "Requirement already satisfied: click<9.0.0,>=7.1.1 in c:\\users\\bhc228\\anaconda3\\lib\\site-packages (from typer<0.5.0,>=0.3.0->spacy<3.2.0,>=3.1.0->en-core-web-sm==3.1.0) (7.1.2)\n",
      "Requirement already satisfied: MarkupSafe>=0.23 in c:\\users\\bhc228\\anaconda3\\lib\\site-packages (from jinja2->spacy<3.2.0,>=3.1.0->en-core-web-sm==3.1.0) (1.1.1)\n",
      "[+] Download and installation successful\n",
      "You can now load the package via spacy.load('en_core_web_sm')\n"
     ]
    },
    {
     "name": "stderr",
     "output_type": "stream",
     "text": [
      "2021-10-21 16:54:59.892754: W tensorflow/stream_executor/platform/default/dso_loader.cc:64] Could not load dynamic library 'cudart64_110.dll'; dlerror: cudart64_110.dll not found\n",
      "2021-10-21 16:54:59.892779: I tensorflow/stream_executor/cuda/cudart_stub.cc:29] Ignore above cudart dlerror if you do not have a GPU set up on your machine.\n"
     ]
    }
   ],
   "source": [
    "!python -m spacy download en_core_web_sm"
   ]
  },
  {
   "cell_type": "code",
   "execution_count": 54,
   "id": "0148bc45",
   "metadata": {
    "ExecuteTime": {
     "end_time": "2021-10-21T11:25:05.053343Z",
     "start_time": "2021-10-21T11:25:04.718214Z"
    }
   },
   "outputs": [],
   "source": [
    "#Custom function :score each word in a sentence in lemmatised form, \n",
    "#but calculate the score for the whole original sentence.\n",
    "nlp = spacy.load(\"en_core_web_sm\")\n",
    "sentiment_lexicon = affinity_scores\n",
    "\n",
    "def calculate_sentiment(text: str = None):\n",
    "    sent_score = 0\n",
    "    if text:\n",
    "        sentence = nlp(text)\n",
    "        for word in sentence:\n",
    "            sent_score += sentiment_lexicon.get(word.lemma_, 0)\n",
    "    return sent_score"
   ]
  },
  {
   "cell_type": "code",
   "execution_count": 55,
   "id": "f8767f65",
   "metadata": {
    "ExecuteTime": {
     "end_time": "2021-10-21T11:25:05.068275Z",
     "start_time": "2021-10-21T11:25:05.054323Z"
    }
   },
   "outputs": [
    {
     "data": {
      "text/plain": [
       "3"
      ]
     },
     "execution_count": 55,
     "metadata": {},
     "output_type": "execute_result"
    }
   ],
   "source": [
    "# test that it works\n",
    "calculate_sentiment(text = 'good')"
   ]
  },
  {
   "cell_type": "code",
   "execution_count": 56,
   "id": "41fc2a3a",
   "metadata": {
    "ExecuteTime": {
     "end_time": "2021-10-21T11:25:10.838539Z",
     "start_time": "2021-10-21T11:25:05.069272Z"
    }
   },
   "outputs": [],
   "source": [
    "sent_df['sentiment_value'] = sent_df['sentence'].apply(calculate_sentiment)"
   ]
  },
  {
   "cell_type": "code",
   "execution_count": 57,
   "id": "4ab9ac9f",
   "metadata": {
    "ExecuteTime": {
     "end_time": "2021-10-21T11:25:10.854492Z",
     "start_time": "2021-10-21T11:25:10.839532Z"
    }
   },
   "outputs": [
    {
     "data": {
      "text/html": [
       "<div>\n",
       "<style scoped>\n",
       "    .dataframe tbody tr th:only-of-type {\n",
       "        vertical-align: middle;\n",
       "    }\n",
       "\n",
       "    .dataframe tbody tr th {\n",
       "        vertical-align: top;\n",
       "    }\n",
       "\n",
       "    .dataframe thead th {\n",
       "        text-align: right;\n",
       "    }\n",
       "</style>\n",
       "<table border=\"1\" class=\"dataframe\">\n",
       "  <thead>\n",
       "    <tr style=\"text-align: right;\">\n",
       "      <th></th>\n",
       "      <th>sentence</th>\n",
       "      <th>sentiment_value</th>\n",
       "    </tr>\n",
       "  </thead>\n",
       "  <tbody>\n",
       "    <tr>\n",
       "      <th>0</th>\n",
       "      <td>@kunalb11 Im an alien @ID_AA_Carmack Ray trac...</td>\n",
       "      <td>0</td>\n",
       "    </tr>\n",
       "    <tr>\n",
       "      <th>1</th>\n",
       "      <td>Have you tried it?</td>\n",
       "      <td>0</td>\n",
       "    </tr>\n",
       "    <tr>\n",
       "      <th>2</th>\n",
       "      <td>@joerogan @Spotify Great interview!</td>\n",
       "      <td>3</td>\n",
       "    </tr>\n",
       "    <tr>\n",
       "      <th>3</th>\n",
       "      <td>@gtera27 Doge is underestimated @teslacn Congr...</td>\n",
       "      <td>3</td>\n",
       "    </tr>\n",
       "    <tr>\n",
       "      <th>4</th>\n",
       "      <td>Now on to the next for even more!!</td>\n",
       "      <td>0</td>\n",
       "    </tr>\n",
       "    <tr>\n",
       "      <th>...</th>\n",
       "      <td>...</td>\n",
       "      <td>...</td>\n",
       "    </tr>\n",
       "    <tr>\n",
       "      <th>919</th>\n",
       "      <td>@kenyanwalstreet Not actually a payout, just a...</td>\n",
       "      <td>0</td>\n",
       "    </tr>\n",
       "    <tr>\n",
       "      <th>920</th>\n",
       "      <td>It may never pay out, as the stock cant b",
       " ht...</td>\n",
       "      <td>-4</td>\n",
       "    </tr>\n",
       "    <tr>\n",
       "      <th>921</th>\n",
       "      <td>Details Aug 28.</td>\n",
       "      <td>0</td>\n",
       "    </tr>\n",
       "    <tr>\n",
       "      <th>922</th>\n",
       "      <td>AI symbiosis while u wait @vistacruiser7 @flcn...</td>\n",
       "      <td>-2</td>\n",
       "    </tr>\n",
       "    <tr>\n",
       "      <th>923</th>\n",
       "      <td>@TeslaGong @PPathole Samwise Gamgee @PPathole ...</td>\n",
       "      <td>0</td>\n",
       "    </tr>\n",
       "  </tbody>\n",
       "</table>\n",
       "<p>924 rows × 2 columns</p>\n",
       "</div>"
      ],
      "text/plain": [
       "                                              sentence  sentiment_value\n",
       "0    @kunalb11 Im an alien @ID_AA_Carmack Ray trac...                0\n",
       "1                                   Have you tried it?                0\n",
       "2                  @joerogan @Spotify Great interview!                3\n",
       "3    @gtera27 Doge is underestimated @teslacn Congr...                3\n",
       "4                   Now on to the next for even more!!                0\n",
       "..                                                 ...              ...\n",
       "919  @kenyanwalstreet Not actually a payout, just a...                0\n",
       "920  It may never pay out, as the stock cant b\n",
       " ht...               -4\n",
       "921                                    Details Aug 28.                0\n",
       "922  AI symbiosis while u wait @vistacruiser7 @flcn...               -2\n",
       "923  @TeslaGong @PPathole Samwise Gamgee @PPathole ...                0\n",
       "\n",
       "[924 rows x 2 columns]"
      ]
     },
     "execution_count": 57,
     "metadata": {},
     "output_type": "execute_result"
    }
   ],
   "source": [
    "sent_df"
   ]
  },
  {
   "cell_type": "code",
   "execution_count": 58,
   "id": "c9344410",
   "metadata": {
    "ExecuteTime": {
     "end_time": "2021-10-21T11:25:10.931287Z",
     "start_time": "2021-10-21T11:25:10.855490Z"
    }
   },
   "outputs": [
    {
     "data": {
      "text/plain": [
       "0      13\n",
       "1       4\n",
       "2       4\n",
       "3      13\n",
       "4       8\n",
       "       ..\n",
       "919    11\n",
       "920    31\n",
       "921     3\n",
       "922    47\n",
       "923    15\n",
       "Name: word_count, Length: 924, dtype: int64"
      ]
     },
     "execution_count": 58,
     "metadata": {},
     "output_type": "execute_result"
    }
   ],
   "source": [
    "# how many words are in the sentence?\n",
    "sent_df['word_count'] = sent_df['sentence'].str.split().apply(len)\n",
    "sent_df['word_count']"
   ]
  },
  {
   "cell_type": "code",
   "execution_count": 59,
   "id": "5003b14a",
   "metadata": {
    "ExecuteTime": {
     "end_time": "2021-10-21T11:25:10.994118Z",
     "start_time": "2021-10-21T11:25:10.932285Z"
    }
   },
   "outputs": [
    {
     "data": {
      "text/html": [
       "<div>\n",
       "<style scoped>\n",
       "    .dataframe tbody tr th:only-of-type {\n",
       "        vertical-align: middle;\n",
       "    }\n",
       "\n",
       "    .dataframe tbody tr th {\n",
       "        vertical-align: top;\n",
       "    }\n",
       "\n",
       "    .dataframe thead th {\n",
       "        text-align: right;\n",
       "    }\n",
       "</style>\n",
       "<table border=\"1\" class=\"dataframe\">\n",
       "  <thead>\n",
       "    <tr style=\"text-align: right;\">\n",
       "      <th></th>\n",
       "      <th>sentence</th>\n",
       "      <th>sentiment_value</th>\n",
       "      <th>word_count</th>\n",
       "    </tr>\n",
       "  </thead>\n",
       "  <tbody>\n",
       "    <tr>\n",
       "      <th>647</th>\n",
       "      <td>Very ba",
       " https://t.co/tJsh1Exz1Q @justpaulinel...</td>\n",
       "      <td>-8</td>\n",
       "      <td>60</td>\n",
       "    </tr>\n",
       "    <tr>\n",
       "      <th>64</th>\n",
       "      <td>Also, the road to hell is mostly paved with ba...</td>\n",
       "      <td>-7</td>\n",
       "      <td>11</td>\n",
       "    </tr>\n",
       "    <tr>\n",
       "      <th>837</th>\n",
       "      <td>Cool Model 3 review by @iamjamiefoxx https://t...</td>\n",
       "      <td>-6</td>\n",
       "      <td>61</td>\n",
       "    </tr>\n",
       "    <tr>\n",
       "      <th>920</th>\n",
       "      <td>It may never pay out, as the stock cant b",
       " ht...</td>\n",
       "      <td>-4</td>\n",
       "      <td>31</td>\n",
       "    </tr>\n",
       "    <tr>\n",
       "      <th>680</th>\n",
       "      <td>Occasional flights from land are ok, but frequ...</td>\n",
       "      <td>-4</td>\n",
       "      <td>39</td>\n",
       "    </tr>\n",
       "    <tr>\n",
       "      <th>...</th>\n",
       "      <td>...</td>\n",
       "      <td>...</td>\n",
       "      <td>...</td>\n",
       "    </tr>\n",
       "    <tr>\n",
       "      <th>81</th>\n",
       "      <td>@teslaownersSV This is a good one @MrBeastYT I...</td>\n",
       "      <td>13</td>\n",
       "      <td>38</td>\n",
       "    </tr>\n",
       "    <tr>\n",
       "      <th>645</th>\n",
       "      <td>Its",
       " https://t.co/IxhyT6NuiC @Teslarati Tesla...</td>\n",
       "      <td>13</td>\n",
       "      <td>65</td>\n",
       "    </tr>\n",
       "    <tr>\n",
       "      <th>585</th>\n",
       "      <td>The open areas",
       " https://t.co/rabjKrtQlw @Sav...</td>\n",
       "      <td>14</td>\n",
       "      <td>138</td>\n",
       "    </tr>\n",
       "    <tr>\n",
       "      <th>36</th>\n",
       "      <td>@ajtourville @Erdayastronaut @SpaceX Yes, but ...</td>\n",
       "      <td>15</td>\n",
       "      <td>231</td>\n",
       "    </tr>\n",
       "    <tr>\n",
       "      <th>105</th>\n",
       "      <td>@Erdayastronaut @SpaceX Was also thinking that...</td>\n",
       "      <td>16</td>\n",
       "      <td>94</td>\n",
       "    </tr>\n",
       "  </tbody>\n",
       "</table>\n",
       "<p>924 rows × 3 columns</p>\n",
       "</div>"
      ],
      "text/plain": [
       "                                              sentence  sentiment_value  \\\n",
       "647  Very ba\n",
       " https://t.co/tJsh1Exz1Q @justpaulinel...               -8   \n",
       "64   Also, the road to hell is mostly paved with ba...               -7   \n",
       "837  Cool Model 3 review by @iamjamiefoxx https://t...               -6   \n",
       "920  It may never pay out, as the stock cant b\n",
       " ht...               -4   \n",
       "680  Occasional flights from land are ok, but frequ...               -4   \n",
       "..                                                 ...              ...   \n",
       "81   @teslaownersSV This is a good one @MrBeastYT I...               13   \n",
       "645  Its\n",
       " https://t.co/IxhyT6NuiC @Teslarati Tesla...               13   \n",
       "585  The open areas\n",
       " https://t.co/rabjKrtQlw @Sav...               14   \n",
       "36   @ajtourville @Erdayastronaut @SpaceX Yes, but ...               15   \n",
       "105  @Erdayastronaut @SpaceX Was also thinking that...               16   \n",
       "\n",
       "     word_count  \n",
       "647          60  \n",
       "64           11  \n",
       "837          61  \n",
       "920          31  \n",
       "680          39  \n",
       "..          ...  \n",
       "81           38  \n",
       "645          65  \n",
       "585         138  \n",
       "36          231  \n",
       "105          94  \n",
       "\n",
       "[924 rows x 3 columns]"
      ]
     },
     "execution_count": 59,
     "metadata": {},
     "output_type": "execute_result"
    }
   ],
   "source": [
    "sent_df.sort_values(by='sentiment_value')"
   ]
  },
  {
   "cell_type": "code",
   "execution_count": 60,
   "id": "eccb8b4a",
   "metadata": {
    "ExecuteTime": {
     "end_time": "2021-10-21T11:25:11.086871Z",
     "start_time": "2021-10-21T11:25:10.997111Z"
    }
   },
   "outputs": [
    {
     "data": {
      "text/plain": [
       "16"
      ]
     },
     "execution_count": 60,
     "metadata": {},
     "output_type": "execute_result"
    }
   ],
   "source": [
    "# Maximum sentiment value\n",
    "sent_df['sentiment_value'].max()"
   ]
  },
  {
   "cell_type": "code",
   "execution_count": 61,
   "id": "68b2d8ab",
   "metadata": {
    "ExecuteTime": {
     "end_time": "2021-10-21T11:25:11.320610Z",
     "start_time": "2021-10-21T11:25:11.088866Z"
    }
   },
   "outputs": [
    {
     "data": {
      "text/html": [
       "<div>\n",
       "<style scoped>\n",
       "    .dataframe tbody tr th:only-of-type {\n",
       "        vertical-align: middle;\n",
       "    }\n",
       "\n",
       "    .dataframe tbody tr th {\n",
       "        vertical-align: top;\n",
       "    }\n",
       "\n",
       "    .dataframe thead th {\n",
       "        text-align: right;\n",
       "    }\n",
       "</style>\n",
       "<table border=\"1\" class=\"dataframe\">\n",
       "  <thead>\n",
       "    <tr style=\"text-align: right;\">\n",
       "      <th></th>\n",
       "      <th>sentence</th>\n",
       "      <th>sentiment_value</th>\n",
       "      <th>word_count</th>\n",
       "    </tr>\n",
       "  </thead>\n",
       "  <tbody>\n",
       "    <tr>\n",
       "      <th>105</th>\n",
       "      <td>@Erdayastronaut @SpaceX Was also thinking that...</td>\n",
       "      <td>16</td>\n",
       "      <td>94</td>\n",
       "    </tr>\n",
       "  </tbody>\n",
       "</table>\n",
       "</div>"
      ],
      "text/plain": [
       "                                              sentence  sentiment_value  \\\n",
       "105  @Erdayastronaut @SpaceX Was also thinking that...               16   \n",
       "\n",
       "     word_count  \n",
       "105          94  "
      ]
     },
     "execution_count": 61,
     "metadata": {},
     "output_type": "execute_result"
    }
   ],
   "source": [
    "# tweet which is having max sentiment value\n",
    "sent_df[sent_df['sentiment_value']==16]"
   ]
  },
  {
   "cell_type": "code",
   "execution_count": 62,
   "id": "16c84d47",
   "metadata": {
    "ExecuteTime": {
     "end_time": "2021-10-21T11:25:11.381449Z",
     "start_time": "2021-10-21T11:25:11.321579Z"
    }
   },
   "outputs": [
    {
     "data": {
      "text/plain": [
       "'@Erdayastronaut @SpaceX Was also thinking that SpaceX Boca should hold fun parties and give tours for the community from time to time @Erdayastronaut @SpaceX I super support public spaces around our production &amp; launch sites, wherever it can be done\\x85 https://t.co/wmqWcT2WFH @Christo49699922 @sean18743005 @Erdayastronaut @SpaceX That too @sean18743005 @Erdayastronaut @SpaceX Catapult high into the air &amp; land on the roof with a base jumping parachute (the only way to travel) @Erdayastronaut @SpaceX That\\x92s actually our restaurant, but SpaceX is building a futuristic bar at the top of the h\\x85 https://t.co/z2UmtGSAoI @techreview And increase fun!'"
      ]
     },
     "execution_count": 62,
     "metadata": {},
     "output_type": "execute_result"
    }
   ],
   "source": [
    "# Full tweet at index 105\n",
    "sent_df['sentence'][105]"
   ]
  },
  {
   "cell_type": "code",
   "execution_count": 63,
   "id": "03813cee",
   "metadata": {
    "ExecuteTime": {
     "end_time": "2021-10-21T11:25:11.442255Z",
     "start_time": "2021-10-21T11:25:11.382417Z"
    }
   },
   "outputs": [
    {
     "data": {
      "text/plain": [
       "-8"
      ]
     },
     "execution_count": 63,
     "metadata": {},
     "output_type": "execute_result"
    }
   ],
   "source": [
    "# minimum sentiment value\n",
    "sent_df['sentiment_value'].min()"
   ]
  },
  {
   "cell_type": "code",
   "execution_count": 64,
   "id": "f37d7e15",
   "metadata": {
    "ExecuteTime": {
     "end_time": "2021-10-21T11:25:11.519079Z",
     "start_time": "2021-10-21T11:25:11.443253Z"
    }
   },
   "outputs": [
    {
     "data": {
      "text/html": [
       "<div>\n",
       "<style scoped>\n",
       "    .dataframe tbody tr th:only-of-type {\n",
       "        vertical-align: middle;\n",
       "    }\n",
       "\n",
       "    .dataframe tbody tr th {\n",
       "        vertical-align: top;\n",
       "    }\n",
       "\n",
       "    .dataframe thead th {\n",
       "        text-align: right;\n",
       "    }\n",
       "</style>\n",
       "<table border=\"1\" class=\"dataframe\">\n",
       "  <thead>\n",
       "    <tr style=\"text-align: right;\">\n",
       "      <th></th>\n",
       "      <th>sentence</th>\n",
       "      <th>sentiment_value</th>\n",
       "      <th>word_count</th>\n",
       "    </tr>\n",
       "  </thead>\n",
       "  <tbody>\n",
       "    <tr>\n",
       "      <th>647</th>\n",
       "      <td>Very ba",
       " https://t.co/tJsh1Exz1Q @justpaulinel...</td>\n",
       "      <td>-8</td>\n",
       "      <td>60</td>\n",
       "    </tr>\n",
       "  </tbody>\n",
       "</table>\n",
       "</div>"
      ],
      "text/plain": [
       "                                              sentence  sentiment_value  \\\n",
       "647  Very ba\n",
       " https://t.co/tJsh1Exz1Q @justpaulinel...               -8   \n",
       "\n",
       "     word_count  \n",
       "647          60  "
      ]
     },
     "execution_count": 64,
     "metadata": {},
     "output_type": "execute_result"
    }
   ],
   "source": [
    "# tweet which is having min sentiment value\n",
    "sent_df[sent_df['sentiment_value']==-8]"
   ]
  },
  {
   "cell_type": "code",
   "execution_count": 65,
   "id": "e16aa7d5",
   "metadata": {
    "ExecuteTime": {
     "end_time": "2021-10-21T11:25:11.596842Z",
     "start_time": "2021-10-21T11:25:11.520048Z"
    }
   },
   "outputs": [
    {
     "data": {
      "text/plain": [
       "'Very ba\\x85 https://t.co/tJsh1Exz1Q @justpaulinelol It\\x92s too embarrassing Just learned that my physics prof from Penn is head of Fermilab &amp; still has some of my old homework <U+263A><U+FE0F> @ruskin147 It is unfortunately common for many in academia to overweight the value of ideas &amp; underweight bringing\\x85 https://t.co/OFFoojCqNv @l_vaux @kulpability @tlowdon @EthicalSkeptic People are extremely unlikely to die of Covid/sars-cov2 alone.'"
      ]
     },
     "execution_count": 65,
     "metadata": {},
     "output_type": "execute_result"
    }
   ],
   "source": [
    "# Full tweet at index 647\n",
    "sent_df['sentence'][647]"
   ]
  },
  {
   "cell_type": "code",
   "execution_count": 66,
   "id": "c91b46f4",
   "metadata": {
    "ExecuteTime": {
     "end_time": "2021-10-21T11:25:11.674635Z",
     "start_time": "2021-10-21T11:25:11.597840Z"
    }
   },
   "outputs": [
    {
     "data": {
      "text/plain": [
       "count    924.000000\n",
       "mean       1.392857\n",
       "std        2.684249\n",
       "min       -8.000000\n",
       "25%        0.000000\n",
       "50%        0.000000\n",
       "75%        3.000000\n",
       "max       16.000000\n",
       "Name: sentiment_value, dtype: float64"
      ]
     },
     "execution_count": 66,
     "metadata": {},
     "output_type": "execute_result"
    }
   ],
   "source": [
    "# Sentiment score of the whole review\n",
    "sent_df['sentiment_value'].describe()"
   ]
  },
  {
   "cell_type": "code",
   "execution_count": 67,
   "id": "21124a2e",
   "metadata": {
    "ExecuteTime": {
     "end_time": "2021-10-21T11:25:11.751429Z",
     "start_time": "2021-10-21T11:25:11.674635Z"
    }
   },
   "outputs": [
    {
     "data": {
      "text/html": [
       "<div>\n",
       "<style scoped>\n",
       "    .dataframe tbody tr th:only-of-type {\n",
       "        vertical-align: middle;\n",
       "    }\n",
       "\n",
       "    .dataframe tbody tr th {\n",
       "        vertical-align: top;\n",
       "    }\n",
       "\n",
       "    .dataframe thead th {\n",
       "        text-align: right;\n",
       "    }\n",
       "</style>\n",
       "<table border=\"1\" class=\"dataframe\">\n",
       "  <thead>\n",
       "    <tr style=\"text-align: right;\">\n",
       "      <th></th>\n",
       "      <th>sentence</th>\n",
       "      <th>sentiment_value</th>\n",
       "      <th>word_count</th>\n",
       "    </tr>\n",
       "  </thead>\n",
       "  <tbody>\n",
       "    <tr>\n",
       "      <th>0</th>\n",
       "      <td>@kunalb11 Im an alien @ID_AA_Carmack Ray trac...</td>\n",
       "      <td>0</td>\n",
       "      <td>13</td>\n",
       "    </tr>\n",
       "    <tr>\n",
       "      <th>1</th>\n",
       "      <td>Have you tried it?</td>\n",
       "      <td>0</td>\n",
       "      <td>4</td>\n",
       "    </tr>\n",
       "    <tr>\n",
       "      <th>4</th>\n",
       "      <td>Now on to the next for even more!!</td>\n",
       "      <td>0</td>\n",
       "      <td>8</td>\n",
       "    </tr>\n",
       "    <tr>\n",
       "      <th>5</th>\n",
       "      <td>Happy New Year of the Ox!</td>\n",
       "      <td>0</td>\n",
       "      <td>6</td>\n",
       "    </tr>\n",
       "    <tr>\n",
       "      <th>6</th>\n",
       "      <td>https://t.co/9WFKMYu2oj Frodo was the underdog...</td>\n",
       "      <td>-2</td>\n",
       "      <td>14</td>\n",
       "    </tr>\n",
       "    <tr>\n",
       "      <th>...</th>\n",
       "      <td>...</td>\n",
       "      <td>...</td>\n",
       "      <td>...</td>\n",
       "    </tr>\n",
       "    <tr>\n",
       "      <th>919</th>\n",
       "      <td>@kenyanwalstreet Not actually a payout, just a...</td>\n",
       "      <td>0</td>\n",
       "      <td>11</td>\n",
       "    </tr>\n",
       "    <tr>\n",
       "      <th>920</th>\n",
       "      <td>It may never pay out, as the stock cant b",
       " ht...</td>\n",
       "      <td>-4</td>\n",
       "      <td>31</td>\n",
       "    </tr>\n",
       "    <tr>\n",
       "      <th>921</th>\n",
       "      <td>Details Aug 28.</td>\n",
       "      <td>0</td>\n",
       "      <td>3</td>\n",
       "    </tr>\n",
       "    <tr>\n",
       "      <th>922</th>\n",
       "      <td>AI symbiosis while u wait @vistacruiser7 @flcn...</td>\n",
       "      <td>-2</td>\n",
       "      <td>47</td>\n",
       "    </tr>\n",
       "    <tr>\n",
       "      <th>923</th>\n",
       "      <td>@TeslaGong @PPathole Samwise Gamgee @PPathole ...</td>\n",
       "      <td>0</td>\n",
       "      <td>15</td>\n",
       "    </tr>\n",
       "  </tbody>\n",
       "</table>\n",
       "<p>483 rows × 3 columns</p>\n",
       "</div>"
      ],
      "text/plain": [
       "                                              sentence  sentiment_value  \\\n",
       "0    @kunalb11 Im an alien @ID_AA_Carmack Ray trac...                0   \n",
       "1                                   Have you tried it?                0   \n",
       "4                   Now on to the next for even more!!                0   \n",
       "5                            Happy New Year of the Ox!                0   \n",
       "6    https://t.co/9WFKMYu2oj Frodo was the underdog...               -2   \n",
       "..                                                 ...              ...   \n",
       "919  @kenyanwalstreet Not actually a payout, just a...                0   \n",
       "920  It may never pay out, as the stock cant b\n",
       " ht...               -4   \n",
       "921                                    Details Aug 28.                0   \n",
       "922  AI symbiosis while u wait @vistacruiser7 @flcn...               -2   \n",
       "923  @TeslaGong @PPathole Samwise Gamgee @PPathole ...                0   \n",
       "\n",
       "     word_count  \n",
       "0            13  \n",
       "1             4  \n",
       "4             8  \n",
       "5             6  \n",
       "6            14  \n",
       "..          ...  \n",
       "919          11  \n",
       "920          31  \n",
       "921           3  \n",
       "922          47  \n",
       "923          15  \n",
       "\n",
       "[483 rows x 3 columns]"
      ]
     },
     "execution_count": 67,
     "metadata": {},
     "output_type": "execute_result"
    }
   ],
   "source": [
    "# Sentiment score of the whole review\n",
    "sent_df[sent_df['sentiment_value']<=0]"
   ]
  },
  {
   "cell_type": "code",
   "execution_count": 68,
   "id": "9e29908a",
   "metadata": {
    "ExecuteTime": {
     "end_time": "2021-10-21T11:25:11.813283Z",
     "start_time": "2021-10-21T11:25:11.753425Z"
    }
   },
   "outputs": [
    {
     "data": {
      "text/html": [
       "<div>\n",
       "<style scoped>\n",
       "    .dataframe tbody tr th:only-of-type {\n",
       "        vertical-align: middle;\n",
       "    }\n",
       "\n",
       "    .dataframe tbody tr th {\n",
       "        vertical-align: top;\n",
       "    }\n",
       "\n",
       "    .dataframe thead th {\n",
       "        text-align: right;\n",
       "    }\n",
       "</style>\n",
       "<table border=\"1\" class=\"dataframe\">\n",
       "  <thead>\n",
       "    <tr style=\"text-align: right;\">\n",
       "      <th></th>\n",
       "      <th>sentence</th>\n",
       "      <th>sentiment_value</th>\n",
       "      <th>word_count</th>\n",
       "    </tr>\n",
       "  </thead>\n",
       "  <tbody>\n",
       "    <tr>\n",
       "      <th>36</th>\n",
       "      <td>@ajtourville @Erdayastronaut @SpaceX Yes, but ...</td>\n",
       "      <td>15</td>\n",
       "      <td>231</td>\n",
       "    </tr>\n",
       "    <tr>\n",
       "      <th>81</th>\n",
       "      <td>@teslaownersSV This is a good one @MrBeastYT I...</td>\n",
       "      <td>13</td>\n",
       "      <td>38</td>\n",
       "    </tr>\n",
       "    <tr>\n",
       "      <th>105</th>\n",
       "      <td>@Erdayastronaut @SpaceX Was also thinking that...</td>\n",
       "      <td>16</td>\n",
       "      <td>94</td>\n",
       "    </tr>\n",
       "    <tr>\n",
       "      <th>151</th>\n",
       "      <td>@GUNMTLM3 @lexfridman No, but definitely this ...</td>\n",
       "      <td>10</td>\n",
       "      <td>45</td>\n",
       "    </tr>\n",
       "    <tr>\n",
       "      <th>159</th>\n",
       "      <td>@harsimranbansal @heydave7 It will most likely...</td>\n",
       "      <td>10</td>\n",
       "      <td>93</td>\n",
       "    </tr>\n",
       "    <tr>\n",
       "      <th>183</th>\n",
       "      <td>Theres some great AI out ther",
       " https://t.co/v...</td>\n",
       "      <td>10</td>\n",
       "      <td>48</td>\n",
       "    </tr>\n",
       "    <tr>\n",
       "      <th>184</th>\n",
       "      <td>Also, w",
       " https://t.co/IYdKttVsqk @cleantechnic...</td>\n",
       "      <td>12</td>\n",
       "      <td>98</td>\n",
       "    </tr>\n",
       "    <tr>\n",
       "      <th>224</th>\n",
       "      <td>@PPathole @karpathy For a second there, I thou...</td>\n",
       "      <td>11</td>\n",
       "      <td>69</td>\n",
       "    </tr>\n",
       "    <tr>\n",
       "      <th>258</th>\n",
       "      <td>@TheOnion @ID_AA_Carmack Yup @flcnhvy Change o...</td>\n",
       "      <td>11</td>\n",
       "      <td>57</td>\n",
       "    </tr>\n",
       "    <tr>\n",
       "      <th>490</th>\n",
       "      <td>Gives a false sense of",
       " https://t.co/aIGaEnC8f...</td>\n",
       "      <td>10</td>\n",
       "      <td>41</td>\n",
       "    </tr>\n",
       "    <tr>\n",
       "      <th>585</th>\n",
       "      <td>The open areas",
       " https://t.co/rabjKrtQlw @Sav...</td>\n",
       "      <td>14</td>\n",
       "      <td>138</td>\n",
       "    </tr>\n",
       "    <tr>\n",
       "      <th>645</th>\n",
       "      <td>Its",
       " https://t.co/IxhyT6NuiC @Teslarati Tesla...</td>\n",
       "      <td>13</td>\n",
       "      <td>65</td>\n",
       "    </tr>\n",
       "    <tr>\n",
       "      <th>719</th>\n",
       "      <td>We just havent observed the",
       " https://t.co/mez...</td>\n",
       "      <td>11</td>\n",
       "      <td>72</td>\n",
       "    </tr>\n",
       "    <tr>\n",
       "      <th>817</th>\n",
       "      <td>Might be able to",
       " https://t.co/FB7e5nOq2E @Pri...</td>\n",
       "      <td>11</td>\n",
       "      <td>72</td>\n",
       "    </tr>\n",
       "    <tr>\n",
       "      <th>855</th>\n",
       "      <td>Impressive Tianwen-1 Mars rover mission launch...</td>\n",
       "      <td>10</td>\n",
       "      <td>102</td>\n",
       "    </tr>\n",
       "  </tbody>\n",
       "</table>\n",
       "</div>"
      ],
      "text/plain": [
       "                                              sentence  sentiment_value  \\\n",
       "36   @ajtourville @Erdayastronaut @SpaceX Yes, but ...               15   \n",
       "81   @teslaownersSV This is a good one @MrBeastYT I...               13   \n",
       "105  @Erdayastronaut @SpaceX Was also thinking that...               16   \n",
       "151  @GUNMTLM3 @lexfridman No, but definitely this ...               10   \n",
       "159  @harsimranbansal @heydave7 It will most likely...               10   \n",
       "183  Theres some great AI out ther\n",
       " https://t.co/v...               10   \n",
       "184  Also, w\n",
       " https://t.co/IYdKttVsqk @cleantechnic...               12   \n",
       "224  @PPathole @karpathy For a second there, I thou...               11   \n",
       "258  @TheOnion @ID_AA_Carmack Yup @flcnhvy Change o...               11   \n",
       "490  Gives a false sense of\n",
       " https://t.co/aIGaEnC8f...               10   \n",
       "585  The open areas\n",
       " https://t.co/rabjKrtQlw @Sav...               14   \n",
       "645  Its\n",
       " https://t.co/IxhyT6NuiC @Teslarati Tesla...               13   \n",
       "719  We just havent observed the\n",
       " https://t.co/mez...               11   \n",
       "817  Might be able to\n",
       " https://t.co/FB7e5nOq2E @Pri...               11   \n",
       "855  Impressive Tianwen-1 Mars rover mission launch...               10   \n",
       "\n",
       "     word_count  \n",
       "36          231  \n",
       "81           38  \n",
       "105          94  \n",
       "151          45  \n",
       "159          93  \n",
       "183          48  \n",
       "184          98  \n",
       "224          69  \n",
       "258          57  \n",
       "490          41  \n",
       "585         138  \n",
       "645          65  \n",
       "719          72  \n",
       "817          72  \n",
       "855         102  "
      ]
     },
     "execution_count": 68,
     "metadata": {},
     "output_type": "execute_result"
    }
   ],
   "source": [
    "sent_df[sent_df['sentiment_value']>=10]"
   ]
  },
  {
   "cell_type": "code",
   "execution_count": 69,
   "id": "c8d1ded1",
   "metadata": {
    "ExecuteTime": {
     "end_time": "2021-10-21T11:25:11.875098Z",
     "start_time": "2021-10-21T11:25:11.814262Z"
    }
   },
   "outputs": [],
   "source": [
    "sent_df['index']=range(0,len(sent_df))"
   ]
  },
  {
   "cell_type": "code",
   "execution_count": 70,
   "id": "79c55659",
   "metadata": {
    "ExecuteTime": {
     "end_time": "2021-10-21T11:25:12.091520Z",
     "start_time": "2021-10-21T11:25:11.876097Z"
    }
   },
   "outputs": [
    {
     "name": "stderr",
     "output_type": "stream",
     "text": [
      "C:\\Users\\BHC228\\anaconda3\\lib\\site-packages\\seaborn\\distributions.py:2557: FutureWarning: `distplot` is a deprecated function and will be removed in a future version. Please adapt your code to use either `displot` (a figure-level function with similar flexibility) or `histplot` (an axes-level function for histograms).\n",
      "  warnings.warn(msg, FutureWarning)\n"
     ]
    },
    {
     "data": {
      "text/plain": [
       "<AxesSubplot:xlabel='sentiment_value', ylabel='Density'>"
      ]
     },
     "execution_count": 70,
     "metadata": {},
     "output_type": "execute_result"
    },
    {
     "data": {
      "image/png": "[encoded data removed]",
      "text/plain": [
       "<Figure size 432x288 with 1 Axes>"
      ]
     },
     "metadata": {
      "needs_background": "light"
     },
     "output_type": "display_data"
    }
   ],
   "source": [
    "import seaborn as sns\n",
    "sns.distplot(sent_df['sentiment_value'])"
   ]
  },
  {
   "cell_type": "code",
   "execution_count": 71,
   "id": "854d9da1",
   "metadata": {
    "ExecuteTime": {
     "end_time": "2021-10-21T11:25:12.106480Z",
     "start_time": "2021-10-21T11:25:12.092517Z"
    }
   },
   "outputs": [],
   "source": [
    "#From above distplot, \n",
    "#we can state that tweets of Elon Musk are having somewhat normal distribution with positive and negative sentiment."
   ]
  },
  {
   "cell_type": "code",
   "execution_count": 72,
   "id": "4bc0caab",
   "metadata": {
    "ExecuteTime": {
     "end_time": "2021-10-21T11:25:12.169313Z",
     "start_time": "2021-10-21T11:25:12.107478Z"
    }
   },
   "outputs": [],
   "source": [
    "sent_df['Sentiment_Class'] = pd.cut(x=sent_df['sentiment_value'],bins=[-8, -1, 0, 17], \n",
    "                                    labels=['Negative','Neutral','Positive'], right = True)"
   ]
  },
  {
   "cell_type": "code",
   "execution_count": 73,
   "id": "f7ba42cc",
   "metadata": {
    "ExecuteTime": {
     "end_time": "2021-10-21T11:25:12.305947Z",
     "start_time": "2021-10-21T11:25:12.170313Z"
    }
   },
   "outputs": [
    {
     "data": {
      "text/plain": [
       "<AxesSubplot:xlabel='Sentiment_Class', ylabel='count'>"
      ]
     },
     "execution_count": 73,
     "metadata": {},
     "output_type": "execute_result"
    },
    {
     "data": {
      "image/png": "[encoded data removed]",
      "text/plain": [
       "<Figure size 432x288 with 1 Axes>"
      ]
     },
     "metadata": {
      "needs_background": "light"
     },
     "output_type": "display_data"
    }
   ],
   "source": [
    "sns.countplot(x = 'Sentiment_Class', data = sent_df)"
   ]
  },
  {
   "cell_type": "code",
   "execution_count": 74,
   "id": "ec31b3c1",
   "metadata": {
    "ExecuteTime": {
     "end_time": "2021-10-21T11:25:12.320906Z",
     "start_time": "2021-10-21T11:25:12.306958Z"
    }
   },
   "outputs": [
    {
     "data": {
      "text/plain": [
       "Positive    441\n",
       "Neutral     376\n",
       "Negative    106\n",
       "Name: Sentiment_Class, dtype: int64"
      ]
     },
     "execution_count": 74,
     "metadata": {},
     "output_type": "execute_result"
    }
   ],
   "source": [
    "sent_df['Sentiment_Class'].value_counts()"
   ]
  }
 ],
 "metadata": {
  "kernelspec": {
   "display_name": "Python 3",
   "language": "python",
   "name": "python3"
  },
  "language_info": {
   "codemirror_mode": {
    "name": "ipython",
    "version": 3
   },
   "file_extension": ".py",
   "mimetype": "text/x-python",
   "name": "python",
   "nbconvert_exporter": "python",
   "pygments_lexer": "ipython3",
   "version": "3.8.8"
  },
  "varInspector": {
   "cols": {
    "lenName": 16,
    "lenType": 16,
    "lenVar": 40
   },
   "kernels_config": {
    "python": {
     "delete_cmd_postfix": "",
     "delete_cmd_prefix": "del ",
     "library": "var_list.py",
     "varRefreshCmd": "print(var_dic_list())"
    },
    "r": {
     "delete_cmd_postfix": ") ",
     "delete_cmd_prefix": "rm(",
     "library": "var_list.r",
     "varRefreshCmd": "cat(var_dic_list()) "
    }
   },
   "types_to_exclude": [
    "module",
    "function",
    "builtin_function_or_method",
    "instance",
    "_Feature"
   ],
   "window_display": false
  }
 },
 "nbformat": 4,
 "nbformat_minor": 5
}
